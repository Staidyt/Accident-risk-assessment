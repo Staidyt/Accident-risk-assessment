{
 "cells": [
  {
   "cell_type": "markdown",
   "id": "fa5a6da3-61d9-44a0-96b9-cec74ba27ebb",
   "metadata": {},
   "source": [
    "# Оценка риска ДТП"
   ]
  },
  {
   "cell_type": "markdown",
   "id": "bdff3a55-c944-4b0e-981d-88cc3650bc68",
   "metadata": {},
   "source": [
    "Вы — специалист по Data Sciense в каршеринговой компании. Вам поступил заказ: нужно создать систему, которая могла бы оценить риск ДТП по выбранному маршруту движения. Под риском понимается вероятность ДТП с любым повреждением транспортного средства. Как только водитель забронировал автомобиль, сел за руль и выбрал маршрут, система должна оценить уровень риска. Если уровень риска высок, водитель увидит предупреждение и рекомендации по маршруту.\n",
    "\n",
    "Идея создания такой системы находится в стадии предварительного обсуждения и проработки. Чёткого алгоритма работы и подобных решений на рынке ещё не существует. Текущая задача — понять, возможно ли предсказывать ДТП, опираясь на исторические данные одного из регионов.\n",
    "\n",
    "Идея решения задачи от заказчика: \n",
    "\n",
    "1. Создать модель предсказания ДТП (целевое значение — at_fault (виновник) в таблице parties)\n",
    "    - Для модели выбрать тип виновника — только машина (car).\n",
    "    - Выбрать случаи, когда ДТП привело к любым повреждениям транспортного средства, кроме типа SCRATCH (царапина).\n",
    "    - Для моделирования ограничиться данными за 2012 год — они самые свежие.\n",
    "    - Обязательное условие — учесть фактор возраста автомобиля.\n",
    "2. На основе модели исследовать основные факторы ДТП.\n",
    "3. Понять, помогут ли результаты моделирования и анализ важности факторов ответить на вопросы:\n",
    "    - Возможно ли создать адекватную системы оценки водительского риска при выдаче авто?\n",
    "    - Какие ещё факторы нужно учесть?\n",
    "    - Нужно ли оборудовать автомобиль какими-либо датчиками или камерой?\n",
    "Заказчик предлагает вам поработать с базой данных по происшествиям и сформировать свои идеи создания такой системы. "
   ]
  },
  {
   "cell_type": "markdown",
   "id": "70dbc1e4-abb5-44d0-9819-c0695785a351",
   "metadata": {},
   "source": [
    "<b>Краткое описание таблиц</b>\n",
    "- collisions — общая информация о ДТП\n",
    "\n",
    "Имеет уникальный case_id. Эта таблица описывает общую информацию о ДТП. Например, где оно произошло и когда.\n",
    "- parties — информация об участниках ДТП\n",
    "\n",
    "Имеет неуникальный case_id, который сопоставляется с соответствующим ДТП в таблице collisions. Каждая строка здесь описывает одну из сторон, участвующих в ДТП. Если столкнулись две машины, в этой таблице должно быть две строки с совпадением case_id. Если нужен уникальный идентификатор, это case_id and party_number.\n",
    "- vehicles — информация о пострадавших машинах\n",
    "\n",
    "Имеет неуникальные case_id и неуникальные party_number, которые сопоставляются с таблицей collisions и таблицей parties. Если нужен уникальный идентификатор, это case_id and party_number."
   ]
  },
  {
   "cell_type": "markdown",
   "id": "dda75502-ef97-40da-8e2e-a80511ef1aef",
   "metadata": {},
   "source": [
    "## Описание хода работы"
   ]
  },
  {
   "cell_type": "markdown",
   "id": "7c5702f5-c669-420c-8ea1-1089d666780e",
   "metadata": {},
   "source": [
    "Шаг 1. Загрузить таблицы sql\n",
    "\n",
    "Подключиться к базе данных, используя данные для входа\n",
    " \n",
    "Шаг 2. Провести первичное исследование таблиц\n",
    "\n",
    "- Все ли таблицы имеют набор данных;\n",
    "- Соответствует ли количество таблиц условию задачи;\n",
    "- Имеется ли общий ключ для связи таблиц.\n",
    "\n",
    "Для осмотра таблиц использовать sql-запрос.\n",
    "\n",
    "Шаг 3. Провести статистический анализ факторов ДТП\n",
    "\n",
    "- Выяснить, в какие месяцы происходит наибольшее количество аварий. Проанализировать весь период наблюдений (таблица collisions).\n",
    "- Создать sql-запрос;\n",
    "- Постройть график;\n",
    "- Сделать вывод.\n",
    "\n",
    "- Скоро состоится первое совещание вашей рабочей группы. Чтобы обсуждение было конструктивным, каждый сотрудник должен понимать данные. Для этого вы должны создать подходящие аналитические задачи и поручить их решение коллегам. Примеры задач:\n",
    "    - Проведите анализ серьёзности повреждений транспортного средства, исходя из состояния дороги в момент ДТП (связать collisions и parties);\n",
    "    - Найдите самые частые причины ДТП (таблица parties).\n",
    "    - Создайте не менее шести задач для коллег. Опирайтесь на примеры и таблицы. \n",
    "    - Пропишите порядок решения для двух задач из списка. Обязательное условие — решение этих задач должно включать связь не менее 2-х таблиц. Пример прописанного порядка:\n",
    "        - Создайте sql-запрос;\n",
    "        - Постройте график;\n",
    "        - Сделайте вывод.\n",
    "\n",
    "Шаг 4. Создать модель для оценки водительского риска\n",
    "\n",
    "1. Подготовить набор данных на основе первичного предположения заказчика:\n",
    " \n",
    "    - Выберать тип виновника — только машина (car). **\n",
    "    - Взять случаи, когда ДТП привело к любым значимым повреждениям автомобиля любого из участников — все, кроме типа SCRATCH (царапина).\n",
    "    - Для моделирования взять данные только за 2012 год.\n",
    "    - Подготовка исходной таблицы должна проводиться с помощью sql-запроса.\n",
    "2. Провести первичный отбор факторов, необходимых для модели. Изучить описание факторов. Нужно отобрать те, которые могут влиять на вероятность ДТП.\n",
    "\n",
    "3. Провести статистическое исследование отобранных факторов.\n",
    "    - По результату исследовательского анализа внести корректировки, если они нужны. Сделать вывод.\n",
    "    - Если необходимо, категоризовать исходные данные, провести масштабирование.\n",
    "    - Подготовить обучающую и тестовую выборки.\n",
    "\n",
    "Шаг 5. Найти лучшую модель\n",
    "\n",
    "- Смоделировать не менее 3-х типов моделей с перебором гиперпараметров.\n",
    "- Выбрать метрику для оценки модели, исходя из поставленной бизнесом задачи. Обосновать свой выбор.\n",
    "- Оформить вывод в виде сравнительной таблицы.\n",
    "\n",
    "Шаг 6. Проверить лучшую модель в работе\n",
    "\n",
    "1. Провести графический анализ «Матрица ошибок». Вывести полноту и точность на график.\n",
    "2. Проанализировать важность основных факторов, влияющих на вероятность ДТП.\n",
    "3. Для одного из выявленных важных факторов провести дополнительное исследование:\n",
    "    - Показать график зависимости фактора и целевой переменной.\n",
    "    - Предложить, чем можно оборудовать автомобиль, чтобы учесть этот фактор во время посадки водителя.\n",
    "\n",
    "Шаг 7. Сделать общий вывод по модели\n",
    "\n",
    "- Кратко описать лучшую модель.\n",
    "- Сделать вывод: насколько возможно создание адекватной системы оценки риска при выдаче авто?\n",
    "- Какие факторы ещё необходимо собирать, чтобы улучшить модель?"
   ]
  },
  {
   "cell_type": "markdown",
   "id": "9eaca031-414b-4aa6-9fcb-240e3e0a5f8c",
   "metadata": {},
   "source": [
    "## Настройки рабочей тетради"
   ]
  },
  {
   "cell_type": "code",
   "execution_count": 1,
   "id": "fd023275-34bf-4e8d-94fd-ddd3b4d98c2b",
   "metadata": {},
   "outputs": [],
   "source": [
    "# Импорт библиотек\n",
    "\n",
    "import pandas as pd\n",
    "\n",
    "import numpy as np\n",
    "import matplotlib.pyplot as plt\n",
    "\n",
    "from sklearn.model_selection import train_test_split\n",
    "from sklearn.compose import ColumnTransformer\n",
    "from sklearn.preprocessing import StandardScaler\n",
    "from sklearn.preprocessing import OneHotEncoder\n",
    "from sklearn.metrics import roc_auc_score\n",
    "from sklearn.metrics import f1_score\n",
    "\n",
    "from sklearn.ensemble import RandomForestClassifier\n",
    "from sklearn.tree import DecisionTreeClassifier\n",
    "from lightgbm import LGBMClassifier\n",
    "\n",
    "import seaborn as sns\n",
    "\n",
    "from sqlalchemy import create_engine \n",
    "from sklearn.utils import shuffle\n",
    "from sklearn.model_selection import GridSearchCV\n",
    "from sklearn.dummy import DummyClassifier\n",
    "\n",
    "from sklearn.model_selection import GridSearchCV\n",
    "from sklearn.model_selection import KFold\n",
    "from sklearn.metrics import confusion_matrix\n",
    "\n",
    "import os"
   ]
  },
  {
   "cell_type": "code",
   "execution_count": 2,
   "id": "2f575186-429d-42cb-b9bd-b88065d49a62",
   "metadata": {},
   "outputs": [],
   "source": [
    "# Настройки библиотек\n",
    "\n",
    "pd.options.mode.chained_assignment = None  # default='warn'\n",
    " \n",
    "# Сброс ограничений на число столбцов\n",
    "pd.set_option('display.max_columns', None)"
   ]
  },
  {
   "cell_type": "markdown",
   "id": "c57ca101",
   "metadata": {
    "ExecuteTime": {
     "end_time": "2022-05-05T04:58:05.692448Z",
     "start_time": "2022-05-05T04:58:05.688565Z"
    }
   },
   "source": [
    "## Подключение к базе. Загрузка таблицы sql"
   ]
  },
  {
   "cell_type": "code",
   "execution_count": 4,
   "id": "7e77e5fc",
   "metadata": {},
   "outputs": [],
   "source": [
    "engine = create_engine(connection_string) "
   ]
  },
  {
   "cell_type": "markdown",
   "id": "ffa85e68",
   "metadata": {},
   "source": [
    "## Первичное исследование таблиц"
   ]
  },
  {
   "cell_type": "code",
   "execution_count": 5,
   "id": "6ee8f436",
   "metadata": {},
   "outputs": [
    {
     "data": {
      "text/html": [
       "<div>\n",
       "<style scoped>\n",
       "    .dataframe tbody tr th:only-of-type {\n",
       "        vertical-align: middle;\n",
       "    }\n",
       "\n",
       "    .dataframe tbody tr th {\n",
       "        vertical-align: top;\n",
       "    }\n",
       "\n",
       "    .dataframe thead th {\n",
       "        text-align: right;\n",
       "    }\n",
       "</style>\n",
       "<table border=\"1\" class=\"dataframe\">\n",
       "  <thead>\n",
       "    <tr style=\"text-align: right;\">\n",
       "      <th></th>\n",
       "      <th>case_id</th>\n",
       "      <th>county_city_location</th>\n",
       "      <th>county_location</th>\n",
       "      <th>distance</th>\n",
       "      <th>direction</th>\n",
       "      <th>intersection</th>\n",
       "      <th>weather_1</th>\n",
       "      <th>location_type</th>\n",
       "      <th>collision_damage</th>\n",
       "      <th>party_count</th>\n",
       "      <th>primary_collision_factor</th>\n",
       "      <th>pcf_violation_category</th>\n",
       "      <th>type_of_collision</th>\n",
       "      <th>motor_vehicle_involved_with</th>\n",
       "      <th>road_surface</th>\n",
       "      <th>road_condition_1</th>\n",
       "      <th>lighting</th>\n",
       "      <th>control_device</th>\n",
       "      <th>collision_date</th>\n",
       "      <th>collision_time</th>\n",
       "    </tr>\n",
       "  </thead>\n",
       "  <tbody>\n",
       "    <tr>\n",
       "      <th>0</th>\n",
       "      <td>4083072</td>\n",
       "      <td>1942</td>\n",
       "      <td>los angeles</td>\n",
       "      <td>528.0</td>\n",
       "      <td>north</td>\n",
       "      <td>0.0</td>\n",
       "      <td>cloudy</td>\n",
       "      <td>highway</td>\n",
       "      <td>small damage</td>\n",
       "      <td>2</td>\n",
       "      <td>vehicle code violation</td>\n",
       "      <td>unsafe lane change</td>\n",
       "      <td>sideswipe</td>\n",
       "      <td>other motor vehicle</td>\n",
       "      <td>wet</td>\n",
       "      <td>normal</td>\n",
       "      <td>daylight</td>\n",
       "      <td>none</td>\n",
       "      <td>2009-01-22</td>\n",
       "      <td>07:25:00</td>\n",
       "    </tr>\n",
       "    <tr>\n",
       "      <th>1</th>\n",
       "      <td>4083075</td>\n",
       "      <td>4313</td>\n",
       "      <td>santa clara</td>\n",
       "      <td>0.0</td>\n",
       "      <td>None</td>\n",
       "      <td>1.0</td>\n",
       "      <td>clear</td>\n",
       "      <td>None</td>\n",
       "      <td>small damage</td>\n",
       "      <td>1</td>\n",
       "      <td>vehicle code violation</td>\n",
       "      <td>improper passing</td>\n",
       "      <td>hit object</td>\n",
       "      <td>fixed object</td>\n",
       "      <td>dry</td>\n",
       "      <td>normal</td>\n",
       "      <td>dark with street lights</td>\n",
       "      <td>functioning</td>\n",
       "      <td>2009-01-03</td>\n",
       "      <td>02:26:00</td>\n",
       "    </tr>\n",
       "    <tr>\n",
       "      <th>2</th>\n",
       "      <td>4083073</td>\n",
       "      <td>0109</td>\n",
       "      <td>alameda</td>\n",
       "      <td>0.0</td>\n",
       "      <td>None</td>\n",
       "      <td>1.0</td>\n",
       "      <td>clear</td>\n",
       "      <td>None</td>\n",
       "      <td>scratch</td>\n",
       "      <td>2</td>\n",
       "      <td>vehicle code violation</td>\n",
       "      <td>improper turning</td>\n",
       "      <td>broadside</td>\n",
       "      <td>other motor vehicle</td>\n",
       "      <td>dry</td>\n",
       "      <td>normal</td>\n",
       "      <td>dark with street lights</td>\n",
       "      <td>functioning</td>\n",
       "      <td>2009-01-11</td>\n",
       "      <td>03:32:00</td>\n",
       "    </tr>\n",
       "    <tr>\n",
       "      <th>3</th>\n",
       "      <td>4083077</td>\n",
       "      <td>0109</td>\n",
       "      <td>alameda</td>\n",
       "      <td>0.0</td>\n",
       "      <td>None</td>\n",
       "      <td>1.0</td>\n",
       "      <td>clear</td>\n",
       "      <td>None</td>\n",
       "      <td>scratch</td>\n",
       "      <td>2</td>\n",
       "      <td>vehicle code violation</td>\n",
       "      <td>automobile right of way</td>\n",
       "      <td>broadside</td>\n",
       "      <td>other motor vehicle</td>\n",
       "      <td>dry</td>\n",
       "      <td>normal</td>\n",
       "      <td>daylight</td>\n",
       "      <td>functioning</td>\n",
       "      <td>2009-01-11</td>\n",
       "      <td>10:35:00</td>\n",
       "    </tr>\n",
       "    <tr>\n",
       "      <th>4</th>\n",
       "      <td>4083087</td>\n",
       "      <td>4313</td>\n",
       "      <td>santa clara</td>\n",
       "      <td>0.0</td>\n",
       "      <td>None</td>\n",
       "      <td>1.0</td>\n",
       "      <td>clear</td>\n",
       "      <td>None</td>\n",
       "      <td>scratch</td>\n",
       "      <td>2</td>\n",
       "      <td>vehicle code violation</td>\n",
       "      <td>speeding</td>\n",
       "      <td>rear end</td>\n",
       "      <td>other motor vehicle</td>\n",
       "      <td>dry</td>\n",
       "      <td>None</td>\n",
       "      <td>dark with street lights</td>\n",
       "      <td>functioning</td>\n",
       "      <td>2009-01-02</td>\n",
       "      <td>22:43:00</td>\n",
       "    </tr>\n",
       "    <tr>\n",
       "      <th>...</th>\n",
       "      <td>...</td>\n",
       "      <td>...</td>\n",
       "      <td>...</td>\n",
       "      <td>...</td>\n",
       "      <td>...</td>\n",
       "      <td>...</td>\n",
       "      <td>...</td>\n",
       "      <td>...</td>\n",
       "      <td>...</td>\n",
       "      <td>...</td>\n",
       "      <td>...</td>\n",
       "      <td>...</td>\n",
       "      <td>...</td>\n",
       "      <td>...</td>\n",
       "      <td>...</td>\n",
       "      <td>...</td>\n",
       "      <td>...</td>\n",
       "      <td>...</td>\n",
       "      <td>...</td>\n",
       "      <td>...</td>\n",
       "    </tr>\n",
       "    <tr>\n",
       "      <th>1399995</th>\n",
       "      <td>4082805</td>\n",
       "      <td>1502</td>\n",
       "      <td>kern</td>\n",
       "      <td>57.0</td>\n",
       "      <td>east</td>\n",
       "      <td>0.0</td>\n",
       "      <td>clear</td>\n",
       "      <td>None</td>\n",
       "      <td>middle damage</td>\n",
       "      <td>2</td>\n",
       "      <td>vehicle code violation</td>\n",
       "      <td>pedestrian violation</td>\n",
       "      <td>other</td>\n",
       "      <td>other object</td>\n",
       "      <td>dry</td>\n",
       "      <td>normal</td>\n",
       "      <td>dark with no street lights</td>\n",
       "      <td>none</td>\n",
       "      <td>2009-01-17</td>\n",
       "      <td>21:04:00</td>\n",
       "    </tr>\n",
       "    <tr>\n",
       "      <th>1399996</th>\n",
       "      <td>4082820</td>\n",
       "      <td>1953</td>\n",
       "      <td>los angeles</td>\n",
       "      <td>0.0</td>\n",
       "      <td>None</td>\n",
       "      <td>1.0</td>\n",
       "      <td>clear</td>\n",
       "      <td>None</td>\n",
       "      <td>middle damage</td>\n",
       "      <td>2</td>\n",
       "      <td>vehicle code violation</td>\n",
       "      <td>pedestrian right of way</td>\n",
       "      <td>other</td>\n",
       "      <td>other object</td>\n",
       "      <td>dry</td>\n",
       "      <td>normal</td>\n",
       "      <td>daylight</td>\n",
       "      <td>functioning</td>\n",
       "      <td>2009-01-18</td>\n",
       "      <td>14:20:00</td>\n",
       "    </tr>\n",
       "    <tr>\n",
       "      <th>1399997</th>\n",
       "      <td>4082829</td>\n",
       "      <td>1502</td>\n",
       "      <td>kern</td>\n",
       "      <td>0.0</td>\n",
       "      <td>None</td>\n",
       "      <td>1.0</td>\n",
       "      <td>clear</td>\n",
       "      <td>highway</td>\n",
       "      <td>middle damage</td>\n",
       "      <td>2</td>\n",
       "      <td>vehicle code violation</td>\n",
       "      <td>pedestrian right of way</td>\n",
       "      <td>other</td>\n",
       "      <td>other object</td>\n",
       "      <td>dry</td>\n",
       "      <td>normal</td>\n",
       "      <td>dark with street lights</td>\n",
       "      <td>functioning</td>\n",
       "      <td>2009-01-17</td>\n",
       "      <td>18:06:00</td>\n",
       "    </tr>\n",
       "    <tr>\n",
       "      <th>1399998</th>\n",
       "      <td>4083008</td>\n",
       "      <td>4313</td>\n",
       "      <td>santa clara</td>\n",
       "      <td>20.0</td>\n",
       "      <td>east</td>\n",
       "      <td>NaN</td>\n",
       "      <td>clear</td>\n",
       "      <td>None</td>\n",
       "      <td>middle damage</td>\n",
       "      <td>2</td>\n",
       "      <td>vehicle code violation</td>\n",
       "      <td>pedestrian right of way</td>\n",
       "      <td>other</td>\n",
       "      <td>other object</td>\n",
       "      <td>dry</td>\n",
       "      <td>normal</td>\n",
       "      <td>dark with street lights</td>\n",
       "      <td>functioning</td>\n",
       "      <td>2009-01-06</td>\n",
       "      <td>17:53:00</td>\n",
       "    </tr>\n",
       "    <tr>\n",
       "      <th>1399999</th>\n",
       "      <td>4083051</td>\n",
       "      <td>1950</td>\n",
       "      <td>los angeles</td>\n",
       "      <td>182.0</td>\n",
       "      <td>north</td>\n",
       "      <td>0.0</td>\n",
       "      <td>clear</td>\n",
       "      <td>None</td>\n",
       "      <td>middle damage</td>\n",
       "      <td>2</td>\n",
       "      <td>vehicle code violation</td>\n",
       "      <td>pedestrian violation</td>\n",
       "      <td>other</td>\n",
       "      <td>other object</td>\n",
       "      <td>dry</td>\n",
       "      <td>normal</td>\n",
       "      <td>dark with no street lights</td>\n",
       "      <td>none</td>\n",
       "      <td>2009-01-17</td>\n",
       "      <td>21:17:00</td>\n",
       "    </tr>\n",
       "  </tbody>\n",
       "</table>\n",
       "<p>1400000 rows × 20 columns</p>\n",
       "</div>"
      ],
      "text/plain": [
       "         case_id county_city_location county_location  distance direction  \\\n",
       "0        4083072                 1942     los angeles     528.0     north   \n",
       "1        4083075                 4313     santa clara       0.0      None   \n",
       "2        4083073                 0109         alameda       0.0      None   \n",
       "3        4083077                 0109         alameda       0.0      None   \n",
       "4        4083087                 4313     santa clara       0.0      None   \n",
       "...          ...                  ...             ...       ...       ...   \n",
       "1399995  4082805                 1502            kern      57.0      east   \n",
       "1399996  4082820                 1953     los angeles       0.0      None   \n",
       "1399997  4082829                 1502            kern       0.0      None   \n",
       "1399998  4083008                 4313     santa clara      20.0      east   \n",
       "1399999  4083051                 1950     los angeles     182.0     north   \n",
       "\n",
       "         intersection weather_1 location_type collision_damage  party_count  \\\n",
       "0                 0.0    cloudy       highway     small damage            2   \n",
       "1                 1.0     clear          None     small damage            1   \n",
       "2                 1.0     clear          None          scratch            2   \n",
       "3                 1.0     clear          None          scratch            2   \n",
       "4                 1.0     clear          None          scratch            2   \n",
       "...               ...       ...           ...              ...          ...   \n",
       "1399995           0.0     clear          None    middle damage            2   \n",
       "1399996           1.0     clear          None    middle damage            2   \n",
       "1399997           1.0     clear       highway    middle damage            2   \n",
       "1399998           NaN     clear          None    middle damage            2   \n",
       "1399999           0.0     clear          None    middle damage            2   \n",
       "\n",
       "        primary_collision_factor   pcf_violation_category type_of_collision  \\\n",
       "0         vehicle code violation       unsafe lane change         sideswipe   \n",
       "1         vehicle code violation         improper passing        hit object   \n",
       "2         vehicle code violation         improper turning         broadside   \n",
       "3         vehicle code violation  automobile right of way         broadside   \n",
       "4         vehicle code violation                 speeding          rear end   \n",
       "...                          ...                      ...               ...   \n",
       "1399995   vehicle code violation     pedestrian violation             other   \n",
       "1399996   vehicle code violation  pedestrian right of way             other   \n",
       "1399997   vehicle code violation  pedestrian right of way             other   \n",
       "1399998   vehicle code violation  pedestrian right of way             other   \n",
       "1399999   vehicle code violation     pedestrian violation             other   \n",
       "\n",
       "        motor_vehicle_involved_with road_surface road_condition_1  \\\n",
       "0               other motor vehicle          wet           normal   \n",
       "1                      fixed object          dry           normal   \n",
       "2               other motor vehicle          dry           normal   \n",
       "3               other motor vehicle          dry           normal   \n",
       "4               other motor vehicle          dry             None   \n",
       "...                             ...          ...              ...   \n",
       "1399995                other object          dry           normal   \n",
       "1399996                other object          dry           normal   \n",
       "1399997                other object          dry           normal   \n",
       "1399998                other object          dry           normal   \n",
       "1399999                other object          dry           normal   \n",
       "\n",
       "                           lighting control_device collision_date  \\\n",
       "0                          daylight           none     2009-01-22   \n",
       "1           dark with street lights    functioning     2009-01-03   \n",
       "2           dark with street lights    functioning     2009-01-11   \n",
       "3                          daylight    functioning     2009-01-11   \n",
       "4           dark with street lights    functioning     2009-01-02   \n",
       "...                             ...            ...            ...   \n",
       "1399995  dark with no street lights           none     2009-01-17   \n",
       "1399996                    daylight    functioning     2009-01-18   \n",
       "1399997     dark with street lights    functioning     2009-01-17   \n",
       "1399998     dark with street lights    functioning     2009-01-06   \n",
       "1399999  dark with no street lights           none     2009-01-17   \n",
       "\n",
       "        collision_time  \n",
       "0             07:25:00  \n",
       "1             02:26:00  \n",
       "2             03:32:00  \n",
       "3             10:35:00  \n",
       "4             22:43:00  \n",
       "...                ...  \n",
       "1399995       21:04:00  \n",
       "1399996       14:20:00  \n",
       "1399997       18:06:00  \n",
       "1399998       17:53:00  \n",
       "1399999       21:17:00  \n",
       "\n",
       "[1400000 rows x 20 columns]"
      ]
     },
     "metadata": {},
     "output_type": "display_data"
    }
   ],
   "source": [
    "query = '''\n",
    "SELECT\n",
    "    *\n",
    "FROM collisions\n",
    "'''\n",
    "\n",
    "table = pd.read_sql_query(query, con=engine) \n",
    "display(table)"
   ]
  },
  {
   "cell_type": "code",
   "execution_count": 6,
   "id": "0982b09b",
   "metadata": {},
   "outputs": [
    {
     "data": {
      "text/html": [
       "<div>\n",
       "<style scoped>\n",
       "    .dataframe tbody tr th:only-of-type {\n",
       "        vertical-align: middle;\n",
       "    }\n",
       "\n",
       "    .dataframe tbody tr th {\n",
       "        vertical-align: top;\n",
       "    }\n",
       "\n",
       "    .dataframe thead th {\n",
       "        text-align: right;\n",
       "    }\n",
       "</style>\n",
       "<table border=\"1\" class=\"dataframe\">\n",
       "  <thead>\n",
       "    <tr style=\"text-align: right;\">\n",
       "      <th></th>\n",
       "      <th>id</th>\n",
       "      <th>case_id</th>\n",
       "      <th>party_number</th>\n",
       "      <th>party_type</th>\n",
       "      <th>at_fault</th>\n",
       "      <th>insurance_premium</th>\n",
       "      <th>party_sobriety</th>\n",
       "      <th>party_drug_physical</th>\n",
       "      <th>cellphone_in_use</th>\n",
       "    </tr>\n",
       "  </thead>\n",
       "  <tbody>\n",
       "    <tr>\n",
       "      <th>0</th>\n",
       "      <td>22</td>\n",
       "      <td>3899454</td>\n",
       "      <td>1</td>\n",
       "      <td>road signs</td>\n",
       "      <td>1</td>\n",
       "      <td>29.0</td>\n",
       "      <td>had not been drinking</td>\n",
       "      <td>None</td>\n",
       "      <td>0.0</td>\n",
       "    </tr>\n",
       "    <tr>\n",
       "      <th>1</th>\n",
       "      <td>23</td>\n",
       "      <td>3899454</td>\n",
       "      <td>2</td>\n",
       "      <td>road signs</td>\n",
       "      <td>0</td>\n",
       "      <td>7.0</td>\n",
       "      <td>had not been drinking</td>\n",
       "      <td>None</td>\n",
       "      <td>0.0</td>\n",
       "    </tr>\n",
       "    <tr>\n",
       "      <th>2</th>\n",
       "      <td>29</td>\n",
       "      <td>3899462</td>\n",
       "      <td>2</td>\n",
       "      <td>car</td>\n",
       "      <td>0</td>\n",
       "      <td>21.0</td>\n",
       "      <td>had not been drinking</td>\n",
       "      <td>None</td>\n",
       "      <td>0.0</td>\n",
       "    </tr>\n",
       "    <tr>\n",
       "      <th>3</th>\n",
       "      <td>31</td>\n",
       "      <td>3899465</td>\n",
       "      <td>2</td>\n",
       "      <td>road signs</td>\n",
       "      <td>0</td>\n",
       "      <td>24.0</td>\n",
       "      <td>had not been drinking</td>\n",
       "      <td>None</td>\n",
       "      <td>0.0</td>\n",
       "    </tr>\n",
       "    <tr>\n",
       "      <th>4</th>\n",
       "      <td>41</td>\n",
       "      <td>3899478</td>\n",
       "      <td>2</td>\n",
       "      <td>road bumper</td>\n",
       "      <td>0</td>\n",
       "      <td>NaN</td>\n",
       "      <td>not applicable</td>\n",
       "      <td>not applicable</td>\n",
       "      <td>0.0</td>\n",
       "    </tr>\n",
       "    <tr>\n",
       "      <th>...</th>\n",
       "      <td>...</td>\n",
       "      <td>...</td>\n",
       "      <td>...</td>\n",
       "      <td>...</td>\n",
       "      <td>...</td>\n",
       "      <td>...</td>\n",
       "      <td>...</td>\n",
       "      <td>...</td>\n",
       "      <td>...</td>\n",
       "    </tr>\n",
       "    <tr>\n",
       "      <th>2752403</th>\n",
       "      <td>1549682</td>\n",
       "      <td>4981212</td>\n",
       "      <td>2</td>\n",
       "      <td>building</td>\n",
       "      <td>0</td>\n",
       "      <td>22.0</td>\n",
       "      <td>had not been drinking</td>\n",
       "      <td>None</td>\n",
       "      <td>NaN</td>\n",
       "    </tr>\n",
       "    <tr>\n",
       "      <th>2752404</th>\n",
       "      <td>1644472</td>\n",
       "      <td>5041069</td>\n",
       "      <td>2</td>\n",
       "      <td>building</td>\n",
       "      <td>0</td>\n",
       "      <td>13.0</td>\n",
       "      <td>had not been drinking</td>\n",
       "      <td>None</td>\n",
       "      <td>0.0</td>\n",
       "    </tr>\n",
       "    <tr>\n",
       "      <th>2752405</th>\n",
       "      <td>1906386</td>\n",
       "      <td>5181692</td>\n",
       "      <td>1</td>\n",
       "      <td>building</td>\n",
       "      <td>1</td>\n",
       "      <td>5.0</td>\n",
       "      <td>had not been drinking</td>\n",
       "      <td>None</td>\n",
       "      <td>0.0</td>\n",
       "    </tr>\n",
       "    <tr>\n",
       "      <th>2752406</th>\n",
       "      <td>2403824</td>\n",
       "      <td>5453437</td>\n",
       "      <td>2</td>\n",
       "      <td>building</td>\n",
       "      <td>0</td>\n",
       "      <td>30.0</td>\n",
       "      <td>had not been drinking</td>\n",
       "      <td>None</td>\n",
       "      <td>0.0</td>\n",
       "    </tr>\n",
       "    <tr>\n",
       "      <th>2752407</th>\n",
       "      <td>2403844</td>\n",
       "      <td>5453447</td>\n",
       "      <td>2</td>\n",
       "      <td>building</td>\n",
       "      <td>0</td>\n",
       "      <td>45.0</td>\n",
       "      <td>had not been drinking</td>\n",
       "      <td>None</td>\n",
       "      <td>NaN</td>\n",
       "    </tr>\n",
       "  </tbody>\n",
       "</table>\n",
       "<p>2752408 rows × 9 columns</p>\n",
       "</div>"
      ],
      "text/plain": [
       "              id  case_id  party_number   party_type  at_fault  \\\n",
       "0             22  3899454             1   road signs         1   \n",
       "1             23  3899454             2   road signs         0   \n",
       "2             29  3899462             2          car         0   \n",
       "3             31  3899465             2   road signs         0   \n",
       "4             41  3899478             2  road bumper         0   \n",
       "...          ...      ...           ...          ...       ...   \n",
       "2752403  1549682  4981212             2     building         0   \n",
       "2752404  1644472  5041069             2     building         0   \n",
       "2752405  1906386  5181692             1     building         1   \n",
       "2752406  2403824  5453437             2     building         0   \n",
       "2752407  2403844  5453447             2     building         0   \n",
       "\n",
       "         insurance_premium         party_sobriety party_drug_physical  \\\n",
       "0                     29.0  had not been drinking                None   \n",
       "1                      7.0  had not been drinking                None   \n",
       "2                     21.0  had not been drinking                None   \n",
       "3                     24.0  had not been drinking                None   \n",
       "4                      NaN         not applicable      not applicable   \n",
       "...                    ...                    ...                 ...   \n",
       "2752403               22.0  had not been drinking                None   \n",
       "2752404               13.0  had not been drinking                None   \n",
       "2752405                5.0  had not been drinking                None   \n",
       "2752406               30.0  had not been drinking                None   \n",
       "2752407               45.0  had not been drinking                None   \n",
       "\n",
       "         cellphone_in_use  \n",
       "0                     0.0  \n",
       "1                     0.0  \n",
       "2                     0.0  \n",
       "3                     0.0  \n",
       "4                     0.0  \n",
       "...                   ...  \n",
       "2752403               NaN  \n",
       "2752404               0.0  \n",
       "2752405               0.0  \n",
       "2752406               0.0  \n",
       "2752407               NaN  \n",
       "\n",
       "[2752408 rows x 9 columns]"
      ]
     },
     "metadata": {},
     "output_type": "display_data"
    }
   ],
   "source": [
    "query = '''\n",
    "SELECT\n",
    "    *\n",
    "FROM Parties\n",
    "'''\n",
    "\n",
    "table = pd.read_sql_query(query, con=engine) \n",
    "display(table)"
   ]
  },
  {
   "cell_type": "code",
   "execution_count": 7,
   "id": "25694562",
   "metadata": {},
   "outputs": [
    {
     "data": {
      "text/html": [
       "<div>\n",
       "<style scoped>\n",
       "    .dataframe tbody tr th:only-of-type {\n",
       "        vertical-align: middle;\n",
       "    }\n",
       "\n",
       "    .dataframe tbody tr th {\n",
       "        vertical-align: top;\n",
       "    }\n",
       "\n",
       "    .dataframe thead th {\n",
       "        text-align: right;\n",
       "    }\n",
       "</style>\n",
       "<table border=\"1\" class=\"dataframe\">\n",
       "  <thead>\n",
       "    <tr style=\"text-align: right;\">\n",
       "      <th></th>\n",
       "      <th>id</th>\n",
       "      <th>case_id</th>\n",
       "      <th>party_number</th>\n",
       "      <th>vehicle_type</th>\n",
       "      <th>vehicle_transmission</th>\n",
       "      <th>vehicle_age</th>\n",
       "    </tr>\n",
       "  </thead>\n",
       "  <tbody>\n",
       "    <tr>\n",
       "      <th>0</th>\n",
       "      <td>1175713</td>\n",
       "      <td>5305032</td>\n",
       "      <td>2</td>\n",
       "      <td>sedan</td>\n",
       "      <td>manual</td>\n",
       "      <td>3.0</td>\n",
       "    </tr>\n",
       "    <tr>\n",
       "      <th>1</th>\n",
       "      <td>1</td>\n",
       "      <td>3858022</td>\n",
       "      <td>1</td>\n",
       "      <td>sedan</td>\n",
       "      <td>auto</td>\n",
       "      <td>3.0</td>\n",
       "    </tr>\n",
       "    <tr>\n",
       "      <th>2</th>\n",
       "      <td>1175712</td>\n",
       "      <td>5305030</td>\n",
       "      <td>1</td>\n",
       "      <td>sedan</td>\n",
       "      <td>auto</td>\n",
       "      <td>3.0</td>\n",
       "    </tr>\n",
       "    <tr>\n",
       "      <th>3</th>\n",
       "      <td>1175717</td>\n",
       "      <td>5305033</td>\n",
       "      <td>3</td>\n",
       "      <td>sedan</td>\n",
       "      <td>auto</td>\n",
       "      <td>5.0</td>\n",
       "    </tr>\n",
       "    <tr>\n",
       "      <th>4</th>\n",
       "      <td>1175722</td>\n",
       "      <td>5305034</td>\n",
       "      <td>2</td>\n",
       "      <td>sedan</td>\n",
       "      <td>auto</td>\n",
       "      <td>5.0</td>\n",
       "    </tr>\n",
       "    <tr>\n",
       "      <th>...</th>\n",
       "      <td>...</td>\n",
       "      <td>...</td>\n",
       "      <td>...</td>\n",
       "      <td>...</td>\n",
       "      <td>...</td>\n",
       "      <td>...</td>\n",
       "    </tr>\n",
       "    <tr>\n",
       "      <th>1021229</th>\n",
       "      <td>1175684</td>\n",
       "      <td>5304990</td>\n",
       "      <td>2</td>\n",
       "      <td>sedan</td>\n",
       "      <td>manual</td>\n",
       "      <td>6.0</td>\n",
       "    </tr>\n",
       "    <tr>\n",
       "      <th>1021230</th>\n",
       "      <td>1175686</td>\n",
       "      <td>5304993</td>\n",
       "      <td>2</td>\n",
       "      <td>sedan</td>\n",
       "      <td>manual</td>\n",
       "      <td>3.0</td>\n",
       "    </tr>\n",
       "    <tr>\n",
       "      <th>1021231</th>\n",
       "      <td>1175687</td>\n",
       "      <td>5304994</td>\n",
       "      <td>2</td>\n",
       "      <td>sedan</td>\n",
       "      <td>manual</td>\n",
       "      <td>3.0</td>\n",
       "    </tr>\n",
       "    <tr>\n",
       "      <th>1021232</th>\n",
       "      <td>1175693</td>\n",
       "      <td>5305002</td>\n",
       "      <td>1</td>\n",
       "      <td>sedan</td>\n",
       "      <td>manual</td>\n",
       "      <td>5.0</td>\n",
       "    </tr>\n",
       "    <tr>\n",
       "      <th>1021233</th>\n",
       "      <td>1175699</td>\n",
       "      <td>5305007</td>\n",
       "      <td>1</td>\n",
       "      <td>sedan</td>\n",
       "      <td>manual</td>\n",
       "      <td>6.0</td>\n",
       "    </tr>\n",
       "  </tbody>\n",
       "</table>\n",
       "<p>1021234 rows × 6 columns</p>\n",
       "</div>"
      ],
      "text/plain": [
       "              id  case_id  party_number vehicle_type vehicle_transmission  \\\n",
       "0        1175713  5305032             2        sedan               manual   \n",
       "1              1  3858022             1        sedan                 auto   \n",
       "2        1175712  5305030             1        sedan                 auto   \n",
       "3        1175717  5305033             3        sedan                 auto   \n",
       "4        1175722  5305034             2        sedan                 auto   \n",
       "...          ...      ...           ...          ...                  ...   \n",
       "1021229  1175684  5304990             2        sedan               manual   \n",
       "1021230  1175686  5304993             2        sedan               manual   \n",
       "1021231  1175687  5304994             2        sedan               manual   \n",
       "1021232  1175693  5305002             1        sedan               manual   \n",
       "1021233  1175699  5305007             1        sedan               manual   \n",
       "\n",
       "         vehicle_age  \n",
       "0                3.0  \n",
       "1                3.0  \n",
       "2                3.0  \n",
       "3                5.0  \n",
       "4                5.0  \n",
       "...              ...  \n",
       "1021229          6.0  \n",
       "1021230          3.0  \n",
       "1021231          3.0  \n",
       "1021232          5.0  \n",
       "1021233          6.0  \n",
       "\n",
       "[1021234 rows x 6 columns]"
      ]
     },
     "metadata": {},
     "output_type": "display_data"
    }
   ],
   "source": [
    "query = '''\n",
    "SELECT\n",
    "    *\n",
    "FROM Vehicles \n",
    "'''\n",
    "\n",
    "table = pd.read_sql_query(query, con=engine) \n",
    "display(table)"
   ]
  },
  {
   "cell_type": "code",
   "execution_count": 8,
   "id": "63f70e20",
   "metadata": {},
   "outputs": [
    {
     "data": {
      "text/html": [
       "<div>\n",
       "<style scoped>\n",
       "    .dataframe tbody tr th:only-of-type {\n",
       "        vertical-align: middle;\n",
       "    }\n",
       "\n",
       "    .dataframe tbody tr th {\n",
       "        vertical-align: top;\n",
       "    }\n",
       "\n",
       "    .dataframe thead th {\n",
       "        text-align: right;\n",
       "    }\n",
       "</style>\n",
       "<table border=\"1\" class=\"dataframe\">\n",
       "  <thead>\n",
       "    <tr style=\"text-align: right;\">\n",
       "      <th></th>\n",
       "      <th>case_id</th>\n",
       "      <th>db_year</th>\n",
       "    </tr>\n",
       "  </thead>\n",
       "  <tbody>\n",
       "    <tr>\n",
       "      <th>0</th>\n",
       "      <td>0081715</td>\n",
       "      <td>2021</td>\n",
       "    </tr>\n",
       "    <tr>\n",
       "      <th>1</th>\n",
       "      <td>0726202</td>\n",
       "      <td>2021</td>\n",
       "    </tr>\n",
       "    <tr>\n",
       "      <th>2</th>\n",
       "      <td>3858022</td>\n",
       "      <td>2021</td>\n",
       "    </tr>\n",
       "    <tr>\n",
       "      <th>3</th>\n",
       "      <td>3899441</td>\n",
       "      <td>2021</td>\n",
       "    </tr>\n",
       "    <tr>\n",
       "      <th>4</th>\n",
       "      <td>3899442</td>\n",
       "      <td>2021</td>\n",
       "    </tr>\n",
       "    <tr>\n",
       "      <th>...</th>\n",
       "      <td>...</td>\n",
       "      <td>...</td>\n",
       "    </tr>\n",
       "    <tr>\n",
       "      <th>1399995</th>\n",
       "      <td>5668365</td>\n",
       "      <td>2021</td>\n",
       "    </tr>\n",
       "    <tr>\n",
       "      <th>1399996</th>\n",
       "      <td>5668366</td>\n",
       "      <td>2021</td>\n",
       "    </tr>\n",
       "    <tr>\n",
       "      <th>1399997</th>\n",
       "      <td>5668367</td>\n",
       "      <td>2021</td>\n",
       "    </tr>\n",
       "    <tr>\n",
       "      <th>1399998</th>\n",
       "      <td>5668368</td>\n",
       "      <td>2021</td>\n",
       "    </tr>\n",
       "    <tr>\n",
       "      <th>1399999</th>\n",
       "      <td>5668369</td>\n",
       "      <td>2021</td>\n",
       "    </tr>\n",
       "  </tbody>\n",
       "</table>\n",
       "<p>1400000 rows × 2 columns</p>\n",
       "</div>"
      ],
      "text/plain": [
       "         case_id db_year\n",
       "0        0081715    2021\n",
       "1        0726202    2021\n",
       "2        3858022    2021\n",
       "3        3899441    2021\n",
       "4        3899442    2021\n",
       "...          ...     ...\n",
       "1399995  5668365    2021\n",
       "1399996  5668366    2021\n",
       "1399997  5668367    2021\n",
       "1399998  5668368    2021\n",
       "1399999  5668369    2021\n",
       "\n",
       "[1400000 rows x 2 columns]"
      ]
     },
     "metadata": {},
     "output_type": "display_data"
    }
   ],
   "source": [
    "query = '''\n",
    "SELECT\n",
    "    *\n",
    "FROM case_ids \n",
    "'''\n",
    "\n",
    "table = pd.read_sql_query(query, con=engine) \n",
    "display(table)"
   ]
  },
  {
   "cell_type": "markdown",
   "id": "90866cd9",
   "metadata": {},
   "source": [
    "### Вывод"
   ]
  },
  {
   "cell_type": "markdown",
   "id": "8dd7a814",
   "metadata": {},
   "source": [
    "- все таблицы имеют заявленный набор данных. Однако стоит поправить на схеме данные о таблице case_ids: в ER диаграмме указано, что в этой таблице кроме ключа есть ещё один столбец \"Case_id\", в реальности же этим столбцом является \"db_year\". Также в таблице collisions: в документации устройство управление обозначено как \"control_condition_1\", в предоставленной таблице и ER-диаграмме оно отмечено как \"control_device\"\n",
    "\n",
    "- непонятно для чего в таблице collisions сделан отдельно столбец \"intersection\" с информацией \"Является ли место происшествие перекрёстком\", если есть столбец \"тип дороги\", в котором в том числе есть информация о перекрёстках.\n",
    "\n",
    "- количество таблиц соответствуют условию задачи\n",
    "\n",
    "- все таблицы имею общий ключ"
   ]
  },
  {
   "cell_type": "markdown",
   "id": "7c56b414",
   "metadata": {},
   "source": [
    "##  Статистический анализ факторов ДТП"
   ]
  },
  {
   "cell_type": "markdown",
   "id": "8f5f7a12",
   "metadata": {},
   "source": [
    "### Выяснить, в какие месяцы происходит наибольшее количество аварий. Проанализировать весь период наблюдений."
   ]
  },
  {
   "cell_type": "code",
   "execution_count": 9,
   "id": "525f8dec",
   "metadata": {},
   "outputs": [
    {
     "data": {
      "text/html": [
       "<div>\n",
       "<style scoped>\n",
       "    .dataframe tbody tr th:only-of-type {\n",
       "        vertical-align: middle;\n",
       "    }\n",
       "\n",
       "    .dataframe tbody tr th {\n",
       "        vertical-align: top;\n",
       "    }\n",
       "\n",
       "    .dataframe thead th {\n",
       "        text-align: right;\n",
       "    }\n",
       "</style>\n",
       "<table border=\"1\" class=\"dataframe\">\n",
       "  <thead>\n",
       "    <tr style=\"text-align: right;\">\n",
       "      <th></th>\n",
       "      <th>month</th>\n",
       "      <th>count</th>\n",
       "    </tr>\n",
       "  </thead>\n",
       "  <tbody>\n",
       "    <tr>\n",
       "      <th>0</th>\n",
       "      <td>1.0</td>\n",
       "      <td>132044</td>\n",
       "    </tr>\n",
       "    <tr>\n",
       "      <th>1</th>\n",
       "      <td>2.0</td>\n",
       "      <td>128858</td>\n",
       "    </tr>\n",
       "    <tr>\n",
       "      <th>2</th>\n",
       "      <td>3.0</td>\n",
       "      <td>139581</td>\n",
       "    </tr>\n",
       "    <tr>\n",
       "      <th>3</th>\n",
       "      <td>4.0</td>\n",
       "      <td>130180</td>\n",
       "    </tr>\n",
       "    <tr>\n",
       "      <th>4</th>\n",
       "      <td>5.0</td>\n",
       "      <td>130316</td>\n",
       "    </tr>\n",
       "    <tr>\n",
       "      <th>5</th>\n",
       "      <td>6.0</td>\n",
       "      <td>102594</td>\n",
       "    </tr>\n",
       "    <tr>\n",
       "      <th>6</th>\n",
       "      <td>7.0</td>\n",
       "      <td>102227</td>\n",
       "    </tr>\n",
       "    <tr>\n",
       "      <th>7</th>\n",
       "      <td>8.0</td>\n",
       "      <td>104089</td>\n",
       "    </tr>\n",
       "    <tr>\n",
       "      <th>8</th>\n",
       "      <td>9.0</td>\n",
       "      <td>105159</td>\n",
       "    </tr>\n",
       "    <tr>\n",
       "      <th>9</th>\n",
       "      <td>10.0</td>\n",
       "      <td>112237</td>\n",
       "    </tr>\n",
       "    <tr>\n",
       "      <th>10</th>\n",
       "      <td>11.0</td>\n",
       "      <td>104770</td>\n",
       "    </tr>\n",
       "    <tr>\n",
       "      <th>11</th>\n",
       "      <td>12.0</td>\n",
       "      <td>107945</td>\n",
       "    </tr>\n",
       "  </tbody>\n",
       "</table>\n",
       "</div>"
      ],
      "text/plain": [
       "    month   count\n",
       "0     1.0  132044\n",
       "1     2.0  128858\n",
       "2     3.0  139581\n",
       "3     4.0  130180\n",
       "4     5.0  130316\n",
       "5     6.0  102594\n",
       "6     7.0  102227\n",
       "7     8.0  104089\n",
       "8     9.0  105159\n",
       "9    10.0  112237\n",
       "10   11.0  104770\n",
       "11   12.0  107945"
      ]
     },
     "metadata": {},
     "output_type": "display_data"
    }
   ],
   "source": [
    "query = '''\n",
    "SELECT\n",
    "    EXTRACT(MONTH FROM CAST(collision_date AS timestamp)) AS month,\n",
    "    COUNT(case_id)\n",
    "FROM collisions \n",
    "GROUP BY EXTRACT(MONTH FROM CAST(collision_date AS timestamp))\n",
    "'''\n",
    "\n",
    "table = pd.read_sql_query(query, con=engine) \n",
    "display(table)"
   ]
  },
  {
   "cell_type": "code",
   "execution_count": 10,
   "id": "d8d7091c",
   "metadata": {},
   "outputs": [
    {
     "data": {
      "image/png": "[encoded data removed]",
      "text/plain": [
       "<Figure size 864x576 with 1 Axes>"
      ]
     },
     "metadata": {
      "needs_background": "light"
     },
     "output_type": "display_data"
    }
   ],
   "source": [
    "plt.figure(figsize=(12, 8))\n",
    "plt.plot(table['month'], table['count'])\n",
    "plt.gca().set(title='График количества ДТП по месяцам', ylabel='Количество ДТИ', xlabel='Месяц')\n",
    "plt.show()"
   ]
  },
  {
   "cell_type": "markdown",
   "id": "a103a885",
   "metadata": {},
   "source": [
    "#### Вывод"
   ]
  },
  {
   "cell_type": "markdown",
   "id": "c80bbe41",
   "metadata": {},
   "source": [
    "Самое \"опасное\" время года по количествам ДТП - весна: в весенние месяцы намного больше ДТП нежели в другое время года. Наибольшее количество ДТП случается в марте. Самым \"безопасным\" временем года является лето, а наименьшее количество ДТП случается в июле."
   ]
  },
  {
   "cell_type": "code",
   "execution_count": 11,
   "id": "417da6d0",
   "metadata": {},
   "outputs": [
    {
     "data": {
      "text/html": [
       "<div>\n",
       "<style scoped>\n",
       "    .dataframe tbody tr th:only-of-type {\n",
       "        vertical-align: middle;\n",
       "    }\n",
       "\n",
       "    .dataframe tbody tr th {\n",
       "        vertical-align: top;\n",
       "    }\n",
       "\n",
       "    .dataframe thead th {\n",
       "        text-align: right;\n",
       "    }\n",
       "</style>\n",
       "<table border=\"1\" class=\"dataframe\">\n",
       "  <thead>\n",
       "    <tr style=\"text-align: right;\">\n",
       "      <th></th>\n",
       "      <th>count</th>\n",
       "      <th>date_part</th>\n",
       "    </tr>\n",
       "  </thead>\n",
       "  <tbody>\n",
       "    <tr>\n",
       "      <th>0</th>\n",
       "      <td>12</td>\n",
       "      <td>2009.0</td>\n",
       "    </tr>\n",
       "    <tr>\n",
       "      <th>1</th>\n",
       "      <td>12</td>\n",
       "      <td>2010.0</td>\n",
       "    </tr>\n",
       "    <tr>\n",
       "      <th>2</th>\n",
       "      <td>12</td>\n",
       "      <td>2011.0</td>\n",
       "    </tr>\n",
       "    <tr>\n",
       "      <th>3</th>\n",
       "      <td>12</td>\n",
       "      <td>2012.0</td>\n",
       "    </tr>\n",
       "    <tr>\n",
       "      <th>4</th>\n",
       "      <td>6</td>\n",
       "      <td>2013.0</td>\n",
       "    </tr>\n",
       "    <tr>\n",
       "      <th>5</th>\n",
       "      <td>2</td>\n",
       "      <td>2020.0</td>\n",
       "    </tr>\n",
       "  </tbody>\n",
       "</table>\n",
       "</div>"
      ],
      "text/plain": [
       "   count  date_part\n",
       "0     12     2009.0\n",
       "1     12     2010.0\n",
       "2     12     2011.0\n",
       "3     12     2012.0\n",
       "4      6     2013.0\n",
       "5      2     2020.0"
      ]
     },
     "metadata": {},
     "output_type": "display_data"
    }
   ],
   "source": [
    "query = '''\n",
    "SELECT\n",
    "    COUNT(DISTINCT(EXTRACT(MONTH FROM CAST(collision_date AS timestamp)))),\n",
    "    EXTRACT(YEAR FROM CAST(collision_date AS timestamp))\n",
    "FROM collisions \n",
    "GROUP BY EXTRACT(YEAR FROM CAST(collision_date AS timestamp))\n",
    "'''\n",
    "\n",
    "table = pd.read_sql_query(query, con=engine) \n",
    "display(table)"
   ]
  },
  {
   "cell_type": "markdown",
   "id": "9f0777ce",
   "metadata": {},
   "source": [
    "Присутствуют данные за неполные года, посмотрим как сильно они меняют картину ситуации"
   ]
  },
  {
   "cell_type": "code",
   "execution_count": 12,
   "id": "da110eef",
   "metadata": {},
   "outputs": [
    {
     "data": {
      "text/html": [
       "<div>\n",
       "<style scoped>\n",
       "    .dataframe tbody tr th:only-of-type {\n",
       "        vertical-align: middle;\n",
       "    }\n",
       "\n",
       "    .dataframe tbody tr th {\n",
       "        vertical-align: top;\n",
       "    }\n",
       "\n",
       "    .dataframe thead th {\n",
       "        text-align: right;\n",
       "    }\n",
       "</style>\n",
       "<table border=\"1\" class=\"dataframe\">\n",
       "  <thead>\n",
       "    <tr style=\"text-align: right;\">\n",
       "      <th></th>\n",
       "      <th>month</th>\n",
       "      <th>count</th>\n",
       "    </tr>\n",
       "  </thead>\n",
       "  <tbody>\n",
       "    <tr>\n",
       "      <th>0</th>\n",
       "      <td>1.0</td>\n",
       "      <td>144</td>\n",
       "    </tr>\n",
       "    <tr>\n",
       "      <th>1</th>\n",
       "      <td>2.0</td>\n",
       "      <td>108</td>\n",
       "    </tr>\n",
       "    <tr>\n",
       "      <th>2</th>\n",
       "      <td>3.0</td>\n",
       "      <td>47</td>\n",
       "    </tr>\n",
       "    <tr>\n",
       "      <th>3</th>\n",
       "      <td>4.0</td>\n",
       "      <td>5</td>\n",
       "    </tr>\n",
       "    <tr>\n",
       "      <th>4</th>\n",
       "      <td>6.0</td>\n",
       "      <td>1</td>\n",
       "    </tr>\n",
       "    <tr>\n",
       "      <th>5</th>\n",
       "      <td>7.0</td>\n",
       "      <td>2</td>\n",
       "    </tr>\n",
       "  </tbody>\n",
       "</table>\n",
       "</div>"
      ],
      "text/plain": [
       "   month  count\n",
       "0    1.0    144\n",
       "1    2.0    108\n",
       "2    3.0     47\n",
       "3    4.0      5\n",
       "4    6.0      1\n",
       "5    7.0      2"
      ]
     },
     "metadata": {},
     "output_type": "display_data"
    }
   ],
   "source": [
    "query = '''\n",
    "SELECT\n",
    "    EXTRACT(MONTH FROM CAST(collision_date AS timestamp)) AS month,\n",
    "    COUNT(case_id)\n",
    "FROM collisions \n",
    "WHERE EXTRACT(YEAR FROM CAST(collision_date AS timestamp)) > 2012\n",
    "GROUP BY EXTRACT(MONTH FROM CAST(collision_date AS timestamp))\n",
    "'''\n",
    "\n",
    "table = pd.read_sql_query(query, con=engine) \n",
    "display(table)"
   ]
  },
  {
   "cell_type": "code",
   "execution_count": 13,
   "id": "e76d7e62",
   "metadata": {},
   "outputs": [
    {
     "data": {
      "text/html": [
       "<div>\n",
       "<style scoped>\n",
       "    .dataframe tbody tr th:only-of-type {\n",
       "        vertical-align: middle;\n",
       "    }\n",
       "\n",
       "    .dataframe tbody tr th {\n",
       "        vertical-align: top;\n",
       "    }\n",
       "\n",
       "    .dataframe thead th {\n",
       "        text-align: right;\n",
       "    }\n",
       "</style>\n",
       "<table border=\"1\" class=\"dataframe\">\n",
       "  <thead>\n",
       "    <tr style=\"text-align: right;\">\n",
       "      <th></th>\n",
       "      <th>month</th>\n",
       "      <th>count</th>\n",
       "    </tr>\n",
       "  </thead>\n",
       "  <tbody>\n",
       "    <tr>\n",
       "      <th>0</th>\n",
       "      <td>1.0</td>\n",
       "      <td>131900</td>\n",
       "    </tr>\n",
       "    <tr>\n",
       "      <th>1</th>\n",
       "      <td>2.0</td>\n",
       "      <td>128750</td>\n",
       "    </tr>\n",
       "    <tr>\n",
       "      <th>2</th>\n",
       "      <td>3.0</td>\n",
       "      <td>139534</td>\n",
       "    </tr>\n",
       "    <tr>\n",
       "      <th>3</th>\n",
       "      <td>4.0</td>\n",
       "      <td>130175</td>\n",
       "    </tr>\n",
       "    <tr>\n",
       "      <th>4</th>\n",
       "      <td>5.0</td>\n",
       "      <td>130316</td>\n",
       "    </tr>\n",
       "    <tr>\n",
       "      <th>5</th>\n",
       "      <td>6.0</td>\n",
       "      <td>102593</td>\n",
       "    </tr>\n",
       "    <tr>\n",
       "      <th>6</th>\n",
       "      <td>7.0</td>\n",
       "      <td>102225</td>\n",
       "    </tr>\n",
       "    <tr>\n",
       "      <th>7</th>\n",
       "      <td>8.0</td>\n",
       "      <td>104089</td>\n",
       "    </tr>\n",
       "    <tr>\n",
       "      <th>8</th>\n",
       "      <td>9.0</td>\n",
       "      <td>105159</td>\n",
       "    </tr>\n",
       "    <tr>\n",
       "      <th>9</th>\n",
       "      <td>10.0</td>\n",
       "      <td>112237</td>\n",
       "    </tr>\n",
       "    <tr>\n",
       "      <th>10</th>\n",
       "      <td>11.0</td>\n",
       "      <td>104770</td>\n",
       "    </tr>\n",
       "    <tr>\n",
       "      <th>11</th>\n",
       "      <td>12.0</td>\n",
       "      <td>107945</td>\n",
       "    </tr>\n",
       "  </tbody>\n",
       "</table>\n",
       "</div>"
      ],
      "text/plain": [
       "    month   count\n",
       "0     1.0  131900\n",
       "1     2.0  128750\n",
       "2     3.0  139534\n",
       "3     4.0  130175\n",
       "4     5.0  130316\n",
       "5     6.0  102593\n",
       "6     7.0  102225\n",
       "7     8.0  104089\n",
       "8     9.0  105159\n",
       "9    10.0  112237\n",
       "10   11.0  104770\n",
       "11   12.0  107945"
      ]
     },
     "metadata": {},
     "output_type": "display_data"
    },
    {
     "data": {
      "image/png": "[encoded data removed]",
      "text/plain": [
       "<Figure size 864x576 with 1 Axes>"
      ]
     },
     "metadata": {
      "needs_background": "light"
     },
     "output_type": "display_data"
    }
   ],
   "source": [
    "query = '''\n",
    "SELECT\n",
    "    EXTRACT(MONTH FROM CAST(collision_date AS timestamp)) AS month,\n",
    "    COUNT(case_id)\n",
    "FROM collisions \n",
    "WHERE EXTRACT(YEAR FROM CAST(collision_date AS timestamp)) < 2013\n",
    "GROUP BY EXTRACT(MONTH FROM CAST(collision_date AS timestamp))\n",
    "'''\n",
    "\n",
    "table = pd.read_sql_query(query, con=engine) \n",
    "display(table)\n",
    "\n",
    "\n",
    "plt.figure(figsize=(12, 8))\n",
    "plt.plot(table['month'], table['count'])\n",
    "plt.gca().set(title='График количества ДТП по месяцам', ylabel='Количество ДТИ', xlabel='Месяц')\n",
    "plt.show()"
   ]
  },
  {
   "cell_type": "markdown",
   "id": "9c787c8b",
   "metadata": {},
   "source": [
    "<b>Вывод</b>\n",
    "\n",
    "Данные за неполные года присутствуют, однако их количество много меньше данных за другие годы, поэтому они никак не меняют график и общий вывод задачи."
   ]
  },
  {
   "cell_type": "markdown",
   "id": "5db69229",
   "metadata": {},
   "source": [
    "### Скоро состоится первое совещание рабочей группы. Чтобы обсуждение было конструктивным, каждый сотрудник должен понимать данные. Для этого нужно создать подходящие аналитические задачи и поручить их решение коллегам."
   ]
  },
  {
   "cell_type": "markdown",
   "id": "d18c2b0c",
   "metadata": {},
   "source": [
    "#### Создать не менее шести задач для коллег, опираясь на примеры и таблицы."
   ]
  },
  {
   "cell_type": "markdown",
   "id": "328a6161",
   "metadata": {},
   "source": [
    "1. Какой тип транспортных средств чаще всего попадает в серьёзные ДТП (не считая царапин) ?\n",
    "2. Какие типы ДТП наиболее распространены среди автомобилей старше 10 лет\n",
    "3. В каких географических районах чаще всего происходят ДТП с участием человека в нетрезвом виде?\n",
    "4. Верно ли, что на перекрестках больше аварий случается у водителей с ручным КПП?\n",
    "5. В какие часы происходит больше всего ДТП по вине нетрезвого участника?\n",
    "6. Сколько ДТП произошло на перекрёстке по вине участника, у которого было выявлено наличие телефона в машине?"
   ]
  },
  {
   "cell_type": "markdown",
   "id": "2bd39f55",
   "metadata": {},
   "source": [
    "#### Порядок решения для двух задач из списка. Обязательное условие — решение этих задач должно включать связь не менее 2-х таблиц."
   ]
  },
  {
   "cell_type": "markdown",
   "id": "99ed8cd0",
   "metadata": {},
   "source": [
    "<b>Порядок решения для задачи 1:</b>\n",
    "\n",
    "1. Создать sql-запрос для выгрузки статистики о зависимости между типом ТС и количеством ДТП, используя таблицы vehicles и collisions\n",
    "2. Построить график и определить типы ТС с наибольшим количеством ДТП\n",
    "3. Сделать вывод\n",
    "\n",
    "\n",
    "<b>Порядок решения для задачи 4:</b>\n",
    "\n",
    "\n",
    "1. Создать sql-запрос для выгрузки статистики о зависимости между типом КПП и количеством аварий на перекрёстках, используя таблицы vehicles и collisions.\n",
    "2. Сделать вывод."
   ]
  },
  {
   "cell_type": "markdown",
   "id": "3a4868ea",
   "metadata": {},
   "source": [
    "## Создать модель для оценки водительского риска"
   ]
  },
  {
   "cell_type": "markdown",
   "id": "a9d2c92a",
   "metadata": {},
   "source": [
    "### Подготовка набора данных на основе первичного предположения заказчика"
   ]
  },
  {
   "cell_type": "markdown",
   "id": "aa5da6e1",
   "metadata": {},
   "source": [
    "<b>Идея решения задачи от заказчика</b>:\n",
    "\n",
    "1. Создать модель предсказания ДТП (целевое значение — at_fault (виновник) в таблице parties)\n",
    "  - Для модели выбрать тип виновника — только машина (car).\n",
    "  - Выбрать случаи, когда ДТП привело к любым повреждениям транспортного средства, кроме типа SCRATCH (царапина).\n",
    "  - Для моделирования ограничиться данными за 2012 год — они самые свежие.\n",
    "  - Обязательное условие — учесть фактор возраста автомобиля.\n",
    "  \n",
    "2. На основе модели исследовать основные факторы ДТП.\n",
    "\n",
    "3. Понять, помогут ли результаты моделирования и анализ важности факторов ответить на вопросы:\n",
    "  - Возможно ли создать адекватную системы оценки водительского риска при выдаче авто?\n",
    "  - Какие ещё факторы нужно учесть?\n",
    "  - Нужно ли оборудовать автомобиль какими-либо датчиками или камерой?"
   ]
  },
  {
   "cell_type": "code",
   "execution_count": 14,
   "id": "09c0dfa7",
   "metadata": {},
   "outputs": [
    {
     "data": {
      "text/html": [
       "<div>\n",
       "<style scoped>\n",
       "    .dataframe tbody tr th:only-of-type {\n",
       "        vertical-align: middle;\n",
       "    }\n",
       "\n",
       "    .dataframe tbody tr th {\n",
       "        vertical-align: top;\n",
       "    }\n",
       "\n",
       "    .dataframe thead th {\n",
       "        text-align: right;\n",
       "    }\n",
       "</style>\n",
       "<table border=\"1\" class=\"dataframe\">\n",
       "  <thead>\n",
       "    <tr style=\"text-align: right;\">\n",
       "      <th></th>\n",
       "      <th>case_id</th>\n",
       "      <th>county_city_location</th>\n",
       "      <th>county_location</th>\n",
       "      <th>distance</th>\n",
       "      <th>direction</th>\n",
       "      <th>intersection</th>\n",
       "      <th>weather_1</th>\n",
       "      <th>location_type</th>\n",
       "      <th>collision_damage</th>\n",
       "      <th>party_count</th>\n",
       "      <th>primary_collision_factor</th>\n",
       "      <th>pcf_violation_category</th>\n",
       "      <th>type_of_collision</th>\n",
       "      <th>motor_vehicle_involved_with</th>\n",
       "      <th>road_surface</th>\n",
       "      <th>road_condition_1</th>\n",
       "      <th>lighting</th>\n",
       "      <th>control_device</th>\n",
       "      <th>collision_date</th>\n",
       "      <th>collision_time</th>\n",
       "      <th>case_id</th>\n",
       "      <th>db_year</th>\n",
       "      <th>id</th>\n",
       "      <th>case_id</th>\n",
       "      <th>party_number</th>\n",
       "      <th>vehicle_type</th>\n",
       "      <th>vehicle_transmission</th>\n",
       "      <th>vehicle_age</th>\n",
       "      <th>id</th>\n",
       "      <th>case_id</th>\n",
       "      <th>party_number</th>\n",
       "      <th>party_type</th>\n",
       "      <th>at_fault</th>\n",
       "      <th>insurance_premium</th>\n",
       "      <th>party_sobriety</th>\n",
       "      <th>party_drug_physical</th>\n",
       "      <th>cellphone_in_use</th>\n",
       "    </tr>\n",
       "  </thead>\n",
       "  <tbody>\n",
       "    <tr>\n",
       "      <th>0</th>\n",
       "      <td>5607652</td>\n",
       "      <td>3616</td>\n",
       "      <td>san bernardino</td>\n",
       "      <td>650.0</td>\n",
       "      <td>east</td>\n",
       "      <td>0.0</td>\n",
       "      <td>raining</td>\n",
       "      <td>None</td>\n",
       "      <td>small damage</td>\n",
       "      <td>2</td>\n",
       "      <td>vehicle code violation</td>\n",
       "      <td>None</td>\n",
       "      <td>rear end</td>\n",
       "      <td>parked motor vehicle</td>\n",
       "      <td>wet</td>\n",
       "      <td>normal</td>\n",
       "      <td>dark with street lights</td>\n",
       "      <td>none</td>\n",
       "      <td>2012-04-25</td>\n",
       "      <td>20:11:00</td>\n",
       "      <td>5607652</td>\n",
       "      <td>2021</td>\n",
       "      <td>1470493</td>\n",
       "      <td>5607652</td>\n",
       "      <td>1</td>\n",
       "      <td>sedan</td>\n",
       "      <td>auto</td>\n",
       "      <td>7.0</td>\n",
       "      <td>2670815</td>\n",
       "      <td>5607652</td>\n",
       "      <td>2</td>\n",
       "      <td>road bumper</td>\n",
       "      <td>0</td>\n",
       "      <td>NaN</td>\n",
       "      <td>None</td>\n",
       "      <td>None</td>\n",
       "      <td>NaN</td>\n",
       "    </tr>\n",
       "    <tr>\n",
       "      <th>1</th>\n",
       "      <td>5403134</td>\n",
       "      <td>3711</td>\n",
       "      <td>san diego</td>\n",
       "      <td>0.0</td>\n",
       "      <td>None</td>\n",
       "      <td>1.0</td>\n",
       "      <td>None</td>\n",
       "      <td>None</td>\n",
       "      <td>fatal</td>\n",
       "      <td>2</td>\n",
       "      <td>vehicle code violation</td>\n",
       "      <td>speeding</td>\n",
       "      <td>other</td>\n",
       "      <td>other object</td>\n",
       "      <td>dry</td>\n",
       "      <td>normal</td>\n",
       "      <td>daylight</td>\n",
       "      <td>none</td>\n",
       "      <td>2012-01-17</td>\n",
       "      <td>07:46:00</td>\n",
       "      <td>5403134</td>\n",
       "      <td>2021</td>\n",
       "      <td>1274977</td>\n",
       "      <td>5403134</td>\n",
       "      <td>2</td>\n",
       "      <td>hatchback</td>\n",
       "      <td>manual</td>\n",
       "      <td>14.0</td>\n",
       "      <td>2312706</td>\n",
       "      <td>5403134</td>\n",
       "      <td>2</td>\n",
       "      <td>road signs</td>\n",
       "      <td>0</td>\n",
       "      <td>92.0</td>\n",
       "      <td>had not been drinking</td>\n",
       "      <td>None</td>\n",
       "      <td>0.0</td>\n",
       "    </tr>\n",
       "    <tr>\n",
       "      <th>2</th>\n",
       "      <td>5403135</td>\n",
       "      <td>3404</td>\n",
       "      <td>sacramento</td>\n",
       "      <td>10.0</td>\n",
       "      <td>east</td>\n",
       "      <td>0.0</td>\n",
       "      <td>cloudy</td>\n",
       "      <td>None</td>\n",
       "      <td>fatal</td>\n",
       "      <td>2</td>\n",
       "      <td>vehicle code violation</td>\n",
       "      <td>improper passing</td>\n",
       "      <td>None</td>\n",
       "      <td>other object</td>\n",
       "      <td>wet</td>\n",
       "      <td>normal</td>\n",
       "      <td>dusk or dawn</td>\n",
       "      <td>none</td>\n",
       "      <td>2012-01-19</td>\n",
       "      <td>17:10:00</td>\n",
       "      <td>5403135</td>\n",
       "      <td>2021</td>\n",
       "      <td>1274981</td>\n",
       "      <td>5403135</td>\n",
       "      <td>2</td>\n",
       "      <td>hatchback</td>\n",
       "      <td>auto</td>\n",
       "      <td>2.0</td>\n",
       "      <td>2312708</td>\n",
       "      <td>5403135</td>\n",
       "      <td>2</td>\n",
       "      <td>road signs</td>\n",
       "      <td>0</td>\n",
       "      <td>16.0</td>\n",
       "      <td>had not been drinking</td>\n",
       "      <td>None</td>\n",
       "      <td>NaN</td>\n",
       "    </tr>\n",
       "    <tr>\n",
       "      <th>3</th>\n",
       "      <td>5403135</td>\n",
       "      <td>3404</td>\n",
       "      <td>sacramento</td>\n",
       "      <td>10.0</td>\n",
       "      <td>east</td>\n",
       "      <td>0.0</td>\n",
       "      <td>cloudy</td>\n",
       "      <td>None</td>\n",
       "      <td>fatal</td>\n",
       "      <td>2</td>\n",
       "      <td>vehicle code violation</td>\n",
       "      <td>improper passing</td>\n",
       "      <td>None</td>\n",
       "      <td>other object</td>\n",
       "      <td>wet</td>\n",
       "      <td>normal</td>\n",
       "      <td>dusk or dawn</td>\n",
       "      <td>none</td>\n",
       "      <td>2012-01-19</td>\n",
       "      <td>17:10:00</td>\n",
       "      <td>5403135</td>\n",
       "      <td>2021</td>\n",
       "      <td>1274978</td>\n",
       "      <td>5403135</td>\n",
       "      <td>1</td>\n",
       "      <td>sedan</td>\n",
       "      <td>manual</td>\n",
       "      <td>2.0</td>\n",
       "      <td>2312708</td>\n",
       "      <td>5403135</td>\n",
       "      <td>2</td>\n",
       "      <td>road signs</td>\n",
       "      <td>0</td>\n",
       "      <td>16.0</td>\n",
       "      <td>had not been drinking</td>\n",
       "      <td>None</td>\n",
       "      <td>NaN</td>\n",
       "    </tr>\n",
       "    <tr>\n",
       "      <th>4</th>\n",
       "      <td>5457730</td>\n",
       "      <td>1942</td>\n",
       "      <td>los angeles</td>\n",
       "      <td>395.0</td>\n",
       "      <td>south</td>\n",
       "      <td>0.0</td>\n",
       "      <td>clear</td>\n",
       "      <td>None</td>\n",
       "      <td>middle damage</td>\n",
       "      <td>3</td>\n",
       "      <td>vehicle code violation</td>\n",
       "      <td>speeding</td>\n",
       "      <td>rear end</td>\n",
       "      <td>parked motor vehicle</td>\n",
       "      <td>dry</td>\n",
       "      <td>normal</td>\n",
       "      <td>daylight</td>\n",
       "      <td>none</td>\n",
       "      <td>2012-01-25</td>\n",
       "      <td>16:40:00</td>\n",
       "      <td>5457730</td>\n",
       "      <td>2021</td>\n",
       "      <td>1329394</td>\n",
       "      <td>5457730</td>\n",
       "      <td>1</td>\n",
       "      <td>coupe</td>\n",
       "      <td>auto</td>\n",
       "      <td>3.0</td>\n",
       "      <td>2411914</td>\n",
       "      <td>5457730</td>\n",
       "      <td>3</td>\n",
       "      <td>road bumper</td>\n",
       "      <td>0</td>\n",
       "      <td>NaN</td>\n",
       "      <td>not applicable</td>\n",
       "      <td>not applicable</td>\n",
       "      <td>NaN</td>\n",
       "    </tr>\n",
       "    <tr>\n",
       "      <th>...</th>\n",
       "      <td>...</td>\n",
       "      <td>...</td>\n",
       "      <td>...</td>\n",
       "      <td>...</td>\n",
       "      <td>...</td>\n",
       "      <td>...</td>\n",
       "      <td>...</td>\n",
       "      <td>...</td>\n",
       "      <td>...</td>\n",
       "      <td>...</td>\n",
       "      <td>...</td>\n",
       "      <td>...</td>\n",
       "      <td>...</td>\n",
       "      <td>...</td>\n",
       "      <td>...</td>\n",
       "      <td>...</td>\n",
       "      <td>...</td>\n",
       "      <td>...</td>\n",
       "      <td>...</td>\n",
       "      <td>...</td>\n",
       "      <td>...</td>\n",
       "      <td>...</td>\n",
       "      <td>...</td>\n",
       "      <td>...</td>\n",
       "      <td>...</td>\n",
       "      <td>...</td>\n",
       "      <td>...</td>\n",
       "      <td>...</td>\n",
       "      <td>...</td>\n",
       "      <td>...</td>\n",
       "      <td>...</td>\n",
       "      <td>...</td>\n",
       "      <td>...</td>\n",
       "      <td>...</td>\n",
       "      <td>...</td>\n",
       "      <td>...</td>\n",
       "      <td>...</td>\n",
       "    </tr>\n",
       "    <tr>\n",
       "      <th>116964</th>\n",
       "      <td>5455478</td>\n",
       "      <td>1500</td>\n",
       "      <td>kern</td>\n",
       "      <td>18.0</td>\n",
       "      <td>south</td>\n",
       "      <td>0.0</td>\n",
       "      <td>clear</td>\n",
       "      <td>None</td>\n",
       "      <td>small damage</td>\n",
       "      <td>2</td>\n",
       "      <td>vehicle code violation</td>\n",
       "      <td>unsafe lane change</td>\n",
       "      <td>sideswipe</td>\n",
       "      <td>other motor vehicle</td>\n",
       "      <td>dry</td>\n",
       "      <td>normal</td>\n",
       "      <td>daylight</td>\n",
       "      <td>functioning</td>\n",
       "      <td>2012-01-04</td>\n",
       "      <td>16:00:00</td>\n",
       "      <td>5455478</td>\n",
       "      <td>2021</td>\n",
       "      <td>1327108</td>\n",
       "      <td>5455478</td>\n",
       "      <td>2</td>\n",
       "      <td>sedan</td>\n",
       "      <td>auto</td>\n",
       "      <td>11.0</td>\n",
       "      <td>2407561</td>\n",
       "      <td>5455478</td>\n",
       "      <td>2</td>\n",
       "      <td>car</td>\n",
       "      <td>0</td>\n",
       "      <td>20.0</td>\n",
       "      <td>had not been drinking</td>\n",
       "      <td>None</td>\n",
       "      <td>0.0</td>\n",
       "    </tr>\n",
       "    <tr>\n",
       "      <th>116965</th>\n",
       "      <td>5455525</td>\n",
       "      <td>4204</td>\n",
       "      <td>santa barbara</td>\n",
       "      <td>3168.0</td>\n",
       "      <td>north</td>\n",
       "      <td>0.0</td>\n",
       "      <td>clear</td>\n",
       "      <td>highway</td>\n",
       "      <td>small damage</td>\n",
       "      <td>1</td>\n",
       "      <td>vehicle code violation</td>\n",
       "      <td>speeding</td>\n",
       "      <td>hit object</td>\n",
       "      <td>other object</td>\n",
       "      <td>dry</td>\n",
       "      <td>obstruction</td>\n",
       "      <td>daylight</td>\n",
       "      <td>functioning</td>\n",
       "      <td>2012-01-02</td>\n",
       "      <td>08:55:00</td>\n",
       "      <td>5455525</td>\n",
       "      <td>2021</td>\n",
       "      <td>1327155</td>\n",
       "      <td>5455525</td>\n",
       "      <td>1</td>\n",
       "      <td>sedan</td>\n",
       "      <td>auto</td>\n",
       "      <td>14.0</td>\n",
       "      <td>2407636</td>\n",
       "      <td>5455525</td>\n",
       "      <td>1</td>\n",
       "      <td>car</td>\n",
       "      <td>1</td>\n",
       "      <td>77.0</td>\n",
       "      <td>had not been drinking</td>\n",
       "      <td>None</td>\n",
       "      <td>0.0</td>\n",
       "    </tr>\n",
       "    <tr>\n",
       "      <th>116966</th>\n",
       "      <td>5455540</td>\n",
       "      <td>0300</td>\n",
       "      <td>amador</td>\n",
       "      <td>10.0</td>\n",
       "      <td>north</td>\n",
       "      <td>0.0</td>\n",
       "      <td>clear</td>\n",
       "      <td>None</td>\n",
       "      <td>small damage</td>\n",
       "      <td>1</td>\n",
       "      <td>vehicle code violation</td>\n",
       "      <td>wrong side of road</td>\n",
       "      <td>hit object</td>\n",
       "      <td>fixed object</td>\n",
       "      <td>dry</td>\n",
       "      <td>loose material</td>\n",
       "      <td>dark with no street lights</td>\n",
       "      <td>functioning</td>\n",
       "      <td>2012-01-02</td>\n",
       "      <td>20:59:00</td>\n",
       "      <td>5455540</td>\n",
       "      <td>2021</td>\n",
       "      <td>1327182</td>\n",
       "      <td>5455540</td>\n",
       "      <td>1</td>\n",
       "      <td>sedan</td>\n",
       "      <td>manual</td>\n",
       "      <td>2.0</td>\n",
       "      <td>2407663</td>\n",
       "      <td>5455540</td>\n",
       "      <td>1</td>\n",
       "      <td>car</td>\n",
       "      <td>1</td>\n",
       "      <td>18.0</td>\n",
       "      <td>had not been drinking</td>\n",
       "      <td>None</td>\n",
       "      <td>0.0</td>\n",
       "    </tr>\n",
       "    <tr>\n",
       "      <th>116967</th>\n",
       "      <td>5455736</td>\n",
       "      <td>1949</td>\n",
       "      <td>los angeles</td>\n",
       "      <td>1000.0</td>\n",
       "      <td>north</td>\n",
       "      <td>0.0</td>\n",
       "      <td>clear</td>\n",
       "      <td>highway</td>\n",
       "      <td>small damage</td>\n",
       "      <td>2</td>\n",
       "      <td>vehicle code violation</td>\n",
       "      <td>improper turning</td>\n",
       "      <td>hit object</td>\n",
       "      <td>other object</td>\n",
       "      <td>dry</td>\n",
       "      <td>normal</td>\n",
       "      <td>daylight</td>\n",
       "      <td>none</td>\n",
       "      <td>2012-01-04</td>\n",
       "      <td>11:55:00</td>\n",
       "      <td>5455736</td>\n",
       "      <td>2021</td>\n",
       "      <td>1327369</td>\n",
       "      <td>5455736</td>\n",
       "      <td>2</td>\n",
       "      <td>sedan</td>\n",
       "      <td>manual</td>\n",
       "      <td>1.0</td>\n",
       "      <td>2408036</td>\n",
       "      <td>5455736</td>\n",
       "      <td>1</td>\n",
       "      <td>car</td>\n",
       "      <td>1</td>\n",
       "      <td>25.0</td>\n",
       "      <td>had not been drinking</td>\n",
       "      <td>None</td>\n",
       "      <td>0.0</td>\n",
       "    </tr>\n",
       "    <tr>\n",
       "      <th>116968</th>\n",
       "      <td>5455736</td>\n",
       "      <td>1949</td>\n",
       "      <td>los angeles</td>\n",
       "      <td>1000.0</td>\n",
       "      <td>north</td>\n",
       "      <td>0.0</td>\n",
       "      <td>clear</td>\n",
       "      <td>highway</td>\n",
       "      <td>small damage</td>\n",
       "      <td>2</td>\n",
       "      <td>vehicle code violation</td>\n",
       "      <td>improper turning</td>\n",
       "      <td>hit object</td>\n",
       "      <td>other object</td>\n",
       "      <td>dry</td>\n",
       "      <td>normal</td>\n",
       "      <td>daylight</td>\n",
       "      <td>none</td>\n",
       "      <td>2012-01-04</td>\n",
       "      <td>11:55:00</td>\n",
       "      <td>5455736</td>\n",
       "      <td>2021</td>\n",
       "      <td>1327369</td>\n",
       "      <td>5455736</td>\n",
       "      <td>2</td>\n",
       "      <td>sedan</td>\n",
       "      <td>manual</td>\n",
       "      <td>1.0</td>\n",
       "      <td>2408037</td>\n",
       "      <td>5455736</td>\n",
       "      <td>2</td>\n",
       "      <td>car</td>\n",
       "      <td>0</td>\n",
       "      <td>54.0</td>\n",
       "      <td>had not been drinking</td>\n",
       "      <td>None</td>\n",
       "      <td>0.0</td>\n",
       "    </tr>\n",
       "  </tbody>\n",
       "</table>\n",
       "<p>116969 rows × 37 columns</p>\n",
       "</div>"
      ],
      "text/plain": [
       "        case_id county_city_location county_location  distance direction  \\\n",
       "0       5607652                 3616  san bernardino     650.0      east   \n",
       "1       5403134                 3711       san diego       0.0      None   \n",
       "2       5403135                 3404      sacramento      10.0      east   \n",
       "3       5403135                 3404      sacramento      10.0      east   \n",
       "4       5457730                 1942     los angeles     395.0     south   \n",
       "...         ...                  ...             ...       ...       ...   \n",
       "116964  5455478                 1500            kern      18.0     south   \n",
       "116965  5455525                 4204   santa barbara    3168.0     north   \n",
       "116966  5455540                 0300          amador      10.0     north   \n",
       "116967  5455736                 1949     los angeles    1000.0     north   \n",
       "116968  5455736                 1949     los angeles    1000.0     north   \n",
       "\n",
       "        intersection weather_1 location_type collision_damage  party_count  \\\n",
       "0                0.0   raining          None     small damage            2   \n",
       "1                1.0      None          None            fatal            2   \n",
       "2                0.0    cloudy          None            fatal            2   \n",
       "3                0.0    cloudy          None            fatal            2   \n",
       "4                0.0     clear          None    middle damage            3   \n",
       "...              ...       ...           ...              ...          ...   \n",
       "116964           0.0     clear          None     small damage            2   \n",
       "116965           0.0     clear       highway     small damage            1   \n",
       "116966           0.0     clear          None     small damage            1   \n",
       "116967           0.0     clear       highway     small damage            2   \n",
       "116968           0.0     clear       highway     small damage            2   \n",
       "\n",
       "       primary_collision_factor pcf_violation_category type_of_collision  \\\n",
       "0        vehicle code violation                   None          rear end   \n",
       "1        vehicle code violation               speeding             other   \n",
       "2        vehicle code violation       improper passing              None   \n",
       "3        vehicle code violation       improper passing              None   \n",
       "4        vehicle code violation               speeding          rear end   \n",
       "...                         ...                    ...               ...   \n",
       "116964   vehicle code violation     unsafe lane change         sideswipe   \n",
       "116965   vehicle code violation               speeding        hit object   \n",
       "116966   vehicle code violation     wrong side of road        hit object   \n",
       "116967   vehicle code violation       improper turning        hit object   \n",
       "116968   vehicle code violation       improper turning        hit object   \n",
       "\n",
       "       motor_vehicle_involved_with road_surface road_condition_1  \\\n",
       "0             parked motor vehicle          wet           normal   \n",
       "1                     other object          dry           normal   \n",
       "2                     other object          wet           normal   \n",
       "3                     other object          wet           normal   \n",
       "4             parked motor vehicle          dry           normal   \n",
       "...                            ...          ...              ...   \n",
       "116964         other motor vehicle          dry           normal   \n",
       "116965                other object          dry      obstruction   \n",
       "116966                fixed object          dry   loose material   \n",
       "116967                other object          dry           normal   \n",
       "116968                other object          dry           normal   \n",
       "\n",
       "                          lighting control_device collision_date  \\\n",
       "0          dark with street lights           none     2012-04-25   \n",
       "1                         daylight           none     2012-01-17   \n",
       "2                     dusk or dawn           none     2012-01-19   \n",
       "3                     dusk or dawn           none     2012-01-19   \n",
       "4                         daylight           none     2012-01-25   \n",
       "...                            ...            ...            ...   \n",
       "116964                    daylight    functioning     2012-01-04   \n",
       "116965                    daylight    functioning     2012-01-02   \n",
       "116966  dark with no street lights    functioning     2012-01-02   \n",
       "116967                    daylight           none     2012-01-04   \n",
       "116968                    daylight           none     2012-01-04   \n",
       "\n",
       "       collision_time  case_id db_year       id  case_id  party_number  \\\n",
       "0            20:11:00  5607652    2021  1470493  5607652             1   \n",
       "1            07:46:00  5403134    2021  1274977  5403134             2   \n",
       "2            17:10:00  5403135    2021  1274981  5403135             2   \n",
       "3            17:10:00  5403135    2021  1274978  5403135             1   \n",
       "4            16:40:00  5457730    2021  1329394  5457730             1   \n",
       "...               ...      ...     ...      ...      ...           ...   \n",
       "116964       16:00:00  5455478    2021  1327108  5455478             2   \n",
       "116965       08:55:00  5455525    2021  1327155  5455525             1   \n",
       "116966       20:59:00  5455540    2021  1327182  5455540             1   \n",
       "116967       11:55:00  5455736    2021  1327369  5455736             2   \n",
       "116968       11:55:00  5455736    2021  1327369  5455736             2   \n",
       "\n",
       "       vehicle_type vehicle_transmission  vehicle_age       id  case_id  \\\n",
       "0             sedan                 auto          7.0  2670815  5607652   \n",
       "1         hatchback               manual         14.0  2312706  5403134   \n",
       "2         hatchback                 auto          2.0  2312708  5403135   \n",
       "3             sedan               manual          2.0  2312708  5403135   \n",
       "4             coupe                 auto          3.0  2411914  5457730   \n",
       "...             ...                  ...          ...      ...      ...   \n",
       "116964        sedan                 auto         11.0  2407561  5455478   \n",
       "116965        sedan                 auto         14.0  2407636  5455525   \n",
       "116966        sedan               manual          2.0  2407663  5455540   \n",
       "116967        sedan               manual          1.0  2408036  5455736   \n",
       "116968        sedan               manual          1.0  2408037  5455736   \n",
       "\n",
       "        party_number   party_type  at_fault  insurance_premium  \\\n",
       "0                  2  road bumper         0                NaN   \n",
       "1                  2   road signs         0               92.0   \n",
       "2                  2   road signs         0               16.0   \n",
       "3                  2   road signs         0               16.0   \n",
       "4                  3  road bumper         0                NaN   \n",
       "...              ...          ...       ...                ...   \n",
       "116964             2          car         0               20.0   \n",
       "116965             1          car         1               77.0   \n",
       "116966             1          car         1               18.0   \n",
       "116967             1          car         1               25.0   \n",
       "116968             2          car         0               54.0   \n",
       "\n",
       "               party_sobriety party_drug_physical  cellphone_in_use  \n",
       "0                        None                None               NaN  \n",
       "1       had not been drinking                None               0.0  \n",
       "2       had not been drinking                None               NaN  \n",
       "3       had not been drinking                None               NaN  \n",
       "4              not applicable      not applicable               NaN  \n",
       "...                       ...                 ...               ...  \n",
       "116964  had not been drinking                None               0.0  \n",
       "116965  had not been drinking                None               0.0  \n",
       "116966  had not been drinking                None               0.0  \n",
       "116967  had not been drinking                None               0.0  \n",
       "116968  had not been drinking                None               0.0  \n",
       "\n",
       "[116969 rows x 37 columns]"
      ]
     },
     "metadata": {},
     "output_type": "display_data"
    }
   ],
   "source": [
    "query = '''\n",
    "SELECT\n",
    "    *\n",
    "FROM collisions AS cols\n",
    "JOIN case_ids AS ci ON ci.case_id=cols.case_id\n",
    "JOIN vehicles AS v ON v.case_id=ci.case_id\n",
    "JOIN parties AS p ON p.case_id=ci.case_id\n",
    "WHERE cols.case_id in (SELECT\n",
    "                            DISTINCT(case_id)\n",
    "                        FROM parties\n",
    "                        WHERE party_type = 'car' \n",
    "                        AND at_fault = 1)\n",
    "AND EXTRACT(YEAR FROM CAST(cols.collision_date AS timestamp)) = 2012\n",
    "AND cols.collision_damage != 'scratch'\n",
    "'''\n",
    "\n",
    "data = pd.read_sql_query(query, con=engine) \n",
    "display(data)"
   ]
  },
  {
   "cell_type": "code",
   "execution_count": 15,
   "id": "ddb4237b",
   "metadata": {},
   "outputs": [
    {
     "name": "stdout",
     "output_type": "stream",
     "text": [
      "<class 'pandas.core.frame.DataFrame'>\n",
      "RangeIndex: 116969 entries, 0 to 116968\n",
      "Data columns (total 37 columns):\n",
      " #   Column                       Non-Null Count   Dtype  \n",
      "---  ------                       --------------   -----  \n",
      " 0   case_id                      116969 non-null  object \n",
      " 1   county_city_location         116969 non-null  object \n",
      " 2   county_location              116969 non-null  object \n",
      " 3   distance                     116969 non-null  float64\n",
      " 4   direction                    88806 non-null   object \n",
      " 5   intersection                 116590 non-null  float64\n",
      " 6   weather_1                    116602 non-null  object \n",
      " 7   location_type                53200 non-null   object \n",
      " 8   collision_damage             116969 non-null  object \n",
      " 9   party_count                  116969 non-null  int64  \n",
      " 10  primary_collision_factor     116969 non-null  object \n",
      " 11  pcf_violation_category       115598 non-null  object \n",
      " 12  type_of_collision            116393 non-null  object \n",
      " 13  motor_vehicle_involved_with  116656 non-null  object \n",
      " 14  road_surface                 116200 non-null  object \n",
      " 15  road_condition_1             116412 non-null  object \n",
      " 16  lighting                     116648 non-null  object \n",
      " 17  control_device               116549 non-null  object \n",
      " 18  collision_date               116969 non-null  object \n",
      " 19  collision_time               116840 non-null  object \n",
      " 20  case_id                      116969 non-null  object \n",
      " 21  db_year                      116969 non-null  object \n",
      " 22  id                           116969 non-null  int64  \n",
      " 23  case_id                      116969 non-null  object \n",
      " 24  party_number                 116969 non-null  int64  \n",
      " 25  vehicle_type                 116969 non-null  object \n",
      " 26  vehicle_transmission         115131 non-null  object \n",
      " 27  vehicle_age                  113642 non-null  float64\n",
      " 28  id                           116969 non-null  int64  \n",
      " 29  case_id                      116969 non-null  object \n",
      " 30  party_number                 116969 non-null  int64  \n",
      " 31  party_type                   116911 non-null  object \n",
      " 32  at_fault                     116969 non-null  int64  \n",
      " 33  insurance_premium            108093 non-null  float64\n",
      " 34  party_sobriety               114654 non-null  object \n",
      " 35  party_drug_physical          11549 non-null   object \n",
      " 36  cellphone_in_use             104127 non-null  float64\n",
      "dtypes: float64(5), int64(6), object(26)\n",
      "memory usage: 33.0+ MB\n"
     ]
    }
   ],
   "source": [
    "data.info()"
   ]
  },
  {
   "cell_type": "markdown",
   "id": "a8aa3767",
   "metadata": {},
   "source": [
    "#### Первичный отбор факторов, необходимых для модели"
   ]
  },
  {
   "cell_type": "markdown",
   "id": "fa1f9383",
   "metadata": {},
   "source": [
    "Полученная таблица довольно большая, и понятно, что для модели не нужны все признаки, поэтому сначала отберём все признаки, которые теоретически могут повлиять на вероятность ДТП.\n",
    "\n",
    "Для начала убираем все столбцы, которые были необходимы для связи между таблицами в базе данных"
   ]
  },
  {
   "cell_type": "code",
   "execution_count": 16,
   "id": "ae3abf2a",
   "metadata": {},
   "outputs": [
    {
     "name": "stdout",
     "output_type": "stream",
     "text": [
      "<class 'pandas.core.frame.DataFrame'>\n",
      "RangeIndex: 116969 entries, 0 to 116968\n",
      "Data columns (total 29 columns):\n",
      " #   Column                       Non-Null Count   Dtype  \n",
      "---  ------                       --------------   -----  \n",
      " 0   county_city_location         116969 non-null  object \n",
      " 1   county_location              116969 non-null  object \n",
      " 2   distance                     116969 non-null  float64\n",
      " 3   direction                    88806 non-null   object \n",
      " 4   intersection                 116590 non-null  float64\n",
      " 5   weather_1                    116602 non-null  object \n",
      " 6   location_type                53200 non-null   object \n",
      " 7   collision_damage             116969 non-null  object \n",
      " 8   party_count                  116969 non-null  int64  \n",
      " 9   primary_collision_factor     116969 non-null  object \n",
      " 10  pcf_violation_category       115598 non-null  object \n",
      " 11  type_of_collision            116393 non-null  object \n",
      " 12  motor_vehicle_involved_with  116656 non-null  object \n",
      " 13  road_surface                 116200 non-null  object \n",
      " 14  road_condition_1             116412 non-null  object \n",
      " 15  lighting                     116648 non-null  object \n",
      " 16  control_device               116549 non-null  object \n",
      " 17  collision_date               116969 non-null  object \n",
      " 18  collision_time               116840 non-null  object \n",
      " 19  db_year                      116969 non-null  object \n",
      " 20  vehicle_type                 116969 non-null  object \n",
      " 21  vehicle_transmission         115131 non-null  object \n",
      " 22  vehicle_age                  113642 non-null  float64\n",
      " 23  party_type                   116911 non-null  object \n",
      " 24  at_fault                     116969 non-null  int64  \n",
      " 25  insurance_premium            108093 non-null  float64\n",
      " 26  party_sobriety               114654 non-null  object \n",
      " 27  party_drug_physical          11549 non-null   object \n",
      " 28  cellphone_in_use             104127 non-null  float64\n",
      "dtypes: float64(5), int64(2), object(22)\n",
      "memory usage: 25.9+ MB\n"
     ]
    }
   ],
   "source": [
    "for_drop_1 = ['case_id', 'id', 'party_number']\n",
    "\n",
    "data = data.drop(for_drop_1, axis=1)\n",
    "data.info()"
   ]
  },
  {
   "cell_type": "markdown",
   "id": "8205dd5d",
   "metadata": {},
   "source": [
    "Посмотрим на оставшиеся столбцы:\n",
    "\n",
    "1. 'county_city_location' и 'county_location' - являются одними и теми же данными в разном представлении. Этот признак является категориальным, поэтому мы точно можем убрать один из столбцов. Теперь подумаем, может ли географический район повлиять на ДТП? - да, может, т.к., судя по содержанию столбцов, речь идёт о США, в которых, как известно, каждый штат имеет собственный кодекс дорожного движения, что может повлиять на ДТП, однако влияние такого фактора мало, но из-за того, что этот признак является категориальным, то при оставлении мы получим много дополнительных столбцов после категоризации, что ухудшит предсказание модели. <b>(ИТОГ: убрать столбцы 'county_location' и 'county_city_location')</b>\n",
    "\n",
    "\n",
    "2. столбец 'distance' обозначает расстояние от главной дороги. Теоретически, этот признак может влиять на вероятность ДТП, т.к. можно предположить, что чем дальше от главной дороги, тем хуже дорожные условия, например хуже видимость, отсутствие некоторых дорожных знаков, хуже дорожное полотно. На первичном отборе оставим этот признак. <b>(ИТОГ: оставить 'distance')</b>\n",
    "\n",
    "\n",
    "3. 'direction' - направление движение, а конкретно север/юг/запад/восток. Вряд ли можно логически представить какую-либо зависимость вероятности ДТП от направления движения, убираем признак. <b>(ИТОГ: убрать 'direction')</b>\n",
    "\n",
    "\n",
    "4. 'intersection' - является ли место происшествие перекрёстком да/нет. Как было замечено в предыдущем пункте, столбец 'intersection' является частным случаем столбца 'location_type', т.к. в первом указано произошло происшествие на перекрестке или нет, а во втором - тип дороги как характеристика ДТП и среди этих типов уже есть перекресток. Проверим записаны ли все данные из столбца 'intersection' в столбец 'location_type'. <b>(ИТОГ: Проверить на соответствие столбца 'intersection' столбцу 'location_type')</b>\n",
    "\n",
    "\n",
    "5. 'weather_1' - погода. В некоторых случаях погода может влиять на вероятность ДТП, потому что сама по себе изменяет дорожные условия, например видимость или сцепление с дорожным покрытием(что может отрицательно сказаться на тормозном пути и стать причиной аварии) <b>(ИТОГ: оставить 'weather_1')</b>\n",
    "\n",
    "\n",
    "6. 'location_type' - тип дороги. Является обобщением столбца 'intersection' (см. п.4). Тип дороги также имеет отношением к вероятности ДТП, т.к. является одним из определяющих дорожные условия. <b>(ИТОГ: Проверить на соответствие столбца 'intersection' столбцу 'location_type')</b>\n",
    "\n",
    "\n",
    "7. 'collision_damage', 'party_count', 'primary_collision_factor', 'pcf_violation_category', 'type_of_collision', 'motor_vehicle_involved_with' - факторы, которые являются следствием возникновения ДТП, т.е. появляются только после самого ДТП, а значит не могут использованы для модели, прогнозирующей вероятность ДТП. <b>(ИТОГ: Убрать 'collision_damage', 'party_count', 'primary_collision_factor', 'pcf_violation_category', 'type_of_collision', 'motor_vehicle_involved_with')</b>\n",
    "\n",
    "\n",
    "8. 'road_surface' - cостояние дороги(мокрая/сухая/заледенелая/..). Само по себе состояние дороги является важным фактором для вероятности ДТП, однако стоит заметить, что оно практически полностью зависит от погоды, если бы в данных было больше информации о погоде (температура, скорость ветра и т.д.), то тогда данный стобец был бы лишним для модели, но их нет, поэтому оставляем признак. <b>(ИТОГ: оставить 'road_surface')</b>\n",
    "\n",
    "\n",
    "9. 'road_condition_1' - дорожное состояние (ямы, сыпучий материал и т.п.). Является таким же важным признаком как и 'road_surface', поэтому оставляем. <b>(ИТОГ: оставить 'road_condition_1')</b>\n",
    "\n",
    "\n",
    "10. 'lighting' - освещение. Является важным признаком, т.к. определяет дорожные условия и соответственно влияет на ДТП. <b>(ИТОГ: оставить 'lighting')</b>\n",
    "\n",
    "\n",
    "11. 'control_device' - устройство управления. Логично предположить, что исправность устройства управления в некоторых случаях во многом определяет вероятность ДТП. <b>(ИТОГ: оставить 'control_device')</b>\n",
    "\n",
    "\n",
    "12. 'collision_date' - дата происшествия. Как мы узнали из пунктов выше, в разные месяцы - разное количество ДТП, а значит как минимум месяц коррелирует с вероятностью. Отметим, что год не имеет влияния (как минимум потому, что мы рассматриваем данные только за 2012), день также вряд ли оказывает влияние на вероятность, поэтому сам признак мы оставляем, но выделяем только месяц. <b>(ИТОГ: выделить месяц из 'collision_date')</b>\n",
    "\n",
    "\n",
    "13. 'collision_time' - время происшествия. Время суток также оказывает влияние на дорожные условия(видимость), а значит и на вероятность ДТП, оставляем признак. <b>(ИТОГ: оставить 'collision_time')</b>\n",
    "\n",
    "\n",
    "14. 'db_year' - какой-то год, связанной с базой данных, все значения равны 2021, т.е. это неинформативный признак, можно убрать. <b>(ИТОГ: убрать 'db_year')</b>\n",
    "\n",
    "\n",
    "15. 'vehicle_type' - тип кузова. Можно сказать, что определенный тип кузова несёт в себе определенные признаки в устройстве автомобиля, например минивэн вряд ли будет пытаться сильно превысить скорость, тогда как у купе эта вероятность выше. Однако это скорее преубеждения и на большой выборке вероятность ДТП будет совсем минимально или не будет зависеть вообще от типа кузова. <b>(ИТОГ: убрать 'vehicle_type')</b>\n",
    "\n",
    "\n",
    "16. 'vehicle_transmission' - Тип КПП. Аналогичные рассуждения как и с 'vehicle_type'. Если зависимость между вероятностью ДТП и типом КПП есть, то она крайне мала. Модель лишь будет \"отвлекаться\" на эти данные. <b>(ИТОГ: убрать 'vehicle_transmission')</b>\n",
    "\n",
    "\n",
    "17. 'vehicle_age' - возраст автомобиля. По условию задачи: \"Обязательное условие — учесть фактор возраста автомобиля.\". Оставляем. <b>(ИТОГ: оставить 'vehicle_age')</b>\n",
    "\n",
    "\n",
    "18. 'party_type' - тип участника ДТП. При выгрузке было задано, что party_type = 'car'. Неинформативный признак, убираем. <b>(ИТОГ: убрать 'party_type')</b>\n",
    "\n",
    "\n",
    "19. 'at_fault' - целевой признак. <b>(ИТОГ: оставить 'at_fault')</b>\n",
    "\n",
    "\n",
    "20. 'insurance_premium' - cумма страховки. Объективно, сумма страховки не может иметь хоть какое-то отношение к вероятности ДТП. <b>(ИТОГ: убрать 'insurance_premium')</b>\n",
    "\n",
    "\n",
    "21. 'party_sobriety' - трезвость участника. Очевидно, что этот признак является важным для целевого признака. <b>(ИТОГ: оставить 'party_sobriety')</b>\n",
    "\n",
    "\n",
    "22. 'party_drug_physical' - cостояние участника: физическое или с учётом принятых лекарств. Аналогично 'party_sobriety'. <b>(ИТОГ: оставить 'party_drug_physical')</b>\n",
    "\n",
    "\n",
    "23. 'cellphone_in_use' - наличие телефона в автомобиле (возможности разговаривать по громкой связи). Здесь стоит вспомнить, что согласно ПДД запрещено разговаривать по телефону, находясь за рулём, не только потому, что занята одна рука (громкая связь убирает это недостаток), но и потому, что падает внимательность водителя, что может привести к ДТП. Оставляем признак. <b>(ИТОГ: оставить 'cellphone_in_use')</b>"
   ]
  },
  {
   "cell_type": "code",
   "execution_count": 17,
   "id": "986e7df8",
   "metadata": {},
   "outputs": [
    {
     "name": "stdout",
     "output_type": "stream",
     "text": [
      "highway         43962\n",
      "ramp             5007\n",
      "intersection      556\n",
      "Name: location_type, dtype: int64\n",
      "intersection    2186\n",
      "ramp             954\n",
      "highway          473\n",
      "Name: location_type, dtype: int64\n"
     ]
    }
   ],
   "source": [
    "# Пункты 4. и 6.\n",
    "# Проверка на соответствие intersection столбцу location_type\n",
    "\n",
    "print(data.loc[data['intersection'] == 0]['location_type'].value_counts())\n",
    "print(data.loc[data['intersection'] == 1]['location_type'].value_counts())"
   ]
  },
  {
   "cell_type": "markdown",
   "id": "a62cc0d8",
   "metadata": {},
   "source": [
    "Похоже, что столбец 'intersection' не относится к столбцу 'location_type', поэтому оставляем оба столбца."
   ]
  },
  {
   "cell_type": "code",
   "execution_count": 18,
   "id": "15fd651f",
   "metadata": {},
   "outputs": [
    {
     "data": {
      "text/html": [
       "<div>\n",
       "<style scoped>\n",
       "    .dataframe tbody tr th:only-of-type {\n",
       "        vertical-align: middle;\n",
       "    }\n",
       "\n",
       "    .dataframe tbody tr th {\n",
       "        vertical-align: top;\n",
       "    }\n",
       "\n",
       "    .dataframe thead th {\n",
       "        text-align: right;\n",
       "    }\n",
       "</style>\n",
       "<table border=\"1\" class=\"dataframe\">\n",
       "  <thead>\n",
       "    <tr style=\"text-align: right;\">\n",
       "      <th></th>\n",
       "      <th>county_city_location</th>\n",
       "      <th>county_location</th>\n",
       "      <th>distance</th>\n",
       "      <th>direction</th>\n",
       "      <th>intersection</th>\n",
       "      <th>weather_1</th>\n",
       "      <th>location_type</th>\n",
       "      <th>collision_damage</th>\n",
       "      <th>party_count</th>\n",
       "      <th>primary_collision_factor</th>\n",
       "      <th>pcf_violation_category</th>\n",
       "      <th>type_of_collision</th>\n",
       "      <th>motor_vehicle_involved_with</th>\n",
       "      <th>road_surface</th>\n",
       "      <th>road_condition_1</th>\n",
       "      <th>lighting</th>\n",
       "      <th>control_device</th>\n",
       "      <th>collision_date</th>\n",
       "      <th>collision_time</th>\n",
       "      <th>db_year</th>\n",
       "      <th>vehicle_type</th>\n",
       "      <th>vehicle_transmission</th>\n",
       "      <th>vehicle_age</th>\n",
       "      <th>party_type</th>\n",
       "      <th>at_fault</th>\n",
       "      <th>insurance_premium</th>\n",
       "      <th>party_sobriety</th>\n",
       "      <th>party_drug_physical</th>\n",
       "      <th>cellphone_in_use</th>\n",
       "    </tr>\n",
       "  </thead>\n",
       "  <tbody>\n",
       "    <tr>\n",
       "      <th>0</th>\n",
       "      <td>3616</td>\n",
       "      <td>san bernardino</td>\n",
       "      <td>650.0</td>\n",
       "      <td>east</td>\n",
       "      <td>0.0</td>\n",
       "      <td>raining</td>\n",
       "      <td>None</td>\n",
       "      <td>small damage</td>\n",
       "      <td>2</td>\n",
       "      <td>vehicle code violation</td>\n",
       "      <td>None</td>\n",
       "      <td>rear end</td>\n",
       "      <td>parked motor vehicle</td>\n",
       "      <td>wet</td>\n",
       "      <td>normal</td>\n",
       "      <td>dark with street lights</td>\n",
       "      <td>none</td>\n",
       "      <td>4</td>\n",
       "      <td>20</td>\n",
       "      <td>2021</td>\n",
       "      <td>sedan</td>\n",
       "      <td>auto</td>\n",
       "      <td>7.0</td>\n",
       "      <td>road bumper</td>\n",
       "      <td>0</td>\n",
       "      <td>NaN</td>\n",
       "      <td>None</td>\n",
       "      <td>None</td>\n",
       "      <td>NaN</td>\n",
       "    </tr>\n",
       "    <tr>\n",
       "      <th>1</th>\n",
       "      <td>3711</td>\n",
       "      <td>san diego</td>\n",
       "      <td>0.0</td>\n",
       "      <td>None</td>\n",
       "      <td>1.0</td>\n",
       "      <td>None</td>\n",
       "      <td>None</td>\n",
       "      <td>fatal</td>\n",
       "      <td>2</td>\n",
       "      <td>vehicle code violation</td>\n",
       "      <td>speeding</td>\n",
       "      <td>other</td>\n",
       "      <td>other object</td>\n",
       "      <td>dry</td>\n",
       "      <td>normal</td>\n",
       "      <td>daylight</td>\n",
       "      <td>none</td>\n",
       "      <td>1</td>\n",
       "      <td>7</td>\n",
       "      <td>2021</td>\n",
       "      <td>hatchback</td>\n",
       "      <td>manual</td>\n",
       "      <td>14.0</td>\n",
       "      <td>road signs</td>\n",
       "      <td>0</td>\n",
       "      <td>92.0</td>\n",
       "      <td>had not been drinking</td>\n",
       "      <td>None</td>\n",
       "      <td>0.0</td>\n",
       "    </tr>\n",
       "    <tr>\n",
       "      <th>2</th>\n",
       "      <td>3404</td>\n",
       "      <td>sacramento</td>\n",
       "      <td>10.0</td>\n",
       "      <td>east</td>\n",
       "      <td>0.0</td>\n",
       "      <td>cloudy</td>\n",
       "      <td>None</td>\n",
       "      <td>fatal</td>\n",
       "      <td>2</td>\n",
       "      <td>vehicle code violation</td>\n",
       "      <td>improper passing</td>\n",
       "      <td>None</td>\n",
       "      <td>other object</td>\n",
       "      <td>wet</td>\n",
       "      <td>normal</td>\n",
       "      <td>dusk or dawn</td>\n",
       "      <td>none</td>\n",
       "      <td>1</td>\n",
       "      <td>17</td>\n",
       "      <td>2021</td>\n",
       "      <td>hatchback</td>\n",
       "      <td>auto</td>\n",
       "      <td>2.0</td>\n",
       "      <td>road signs</td>\n",
       "      <td>0</td>\n",
       "      <td>16.0</td>\n",
       "      <td>had not been drinking</td>\n",
       "      <td>None</td>\n",
       "      <td>NaN</td>\n",
       "    </tr>\n",
       "    <tr>\n",
       "      <th>3</th>\n",
       "      <td>3404</td>\n",
       "      <td>sacramento</td>\n",
       "      <td>10.0</td>\n",
       "      <td>east</td>\n",
       "      <td>0.0</td>\n",
       "      <td>cloudy</td>\n",
       "      <td>None</td>\n",
       "      <td>fatal</td>\n",
       "      <td>2</td>\n",
       "      <td>vehicle code violation</td>\n",
       "      <td>improper passing</td>\n",
       "      <td>None</td>\n",
       "      <td>other object</td>\n",
       "      <td>wet</td>\n",
       "      <td>normal</td>\n",
       "      <td>dusk or dawn</td>\n",
       "      <td>none</td>\n",
       "      <td>1</td>\n",
       "      <td>17</td>\n",
       "      <td>2021</td>\n",
       "      <td>sedan</td>\n",
       "      <td>manual</td>\n",
       "      <td>2.0</td>\n",
       "      <td>road signs</td>\n",
       "      <td>0</td>\n",
       "      <td>16.0</td>\n",
       "      <td>had not been drinking</td>\n",
       "      <td>None</td>\n",
       "      <td>NaN</td>\n",
       "    </tr>\n",
       "    <tr>\n",
       "      <th>4</th>\n",
       "      <td>1942</td>\n",
       "      <td>los angeles</td>\n",
       "      <td>395.0</td>\n",
       "      <td>south</td>\n",
       "      <td>0.0</td>\n",
       "      <td>clear</td>\n",
       "      <td>None</td>\n",
       "      <td>middle damage</td>\n",
       "      <td>3</td>\n",
       "      <td>vehicle code violation</td>\n",
       "      <td>speeding</td>\n",
       "      <td>rear end</td>\n",
       "      <td>parked motor vehicle</td>\n",
       "      <td>dry</td>\n",
       "      <td>normal</td>\n",
       "      <td>daylight</td>\n",
       "      <td>none</td>\n",
       "      <td>1</td>\n",
       "      <td>16</td>\n",
       "      <td>2021</td>\n",
       "      <td>coupe</td>\n",
       "      <td>auto</td>\n",
       "      <td>3.0</td>\n",
       "      <td>road bumper</td>\n",
       "      <td>0</td>\n",
       "      <td>NaN</td>\n",
       "      <td>not applicable</td>\n",
       "      <td>not applicable</td>\n",
       "      <td>NaN</td>\n",
       "    </tr>\n",
       "    <tr>\n",
       "      <th>...</th>\n",
       "      <td>...</td>\n",
       "      <td>...</td>\n",
       "      <td>...</td>\n",
       "      <td>...</td>\n",
       "      <td>...</td>\n",
       "      <td>...</td>\n",
       "      <td>...</td>\n",
       "      <td>...</td>\n",
       "      <td>...</td>\n",
       "      <td>...</td>\n",
       "      <td>...</td>\n",
       "      <td>...</td>\n",
       "      <td>...</td>\n",
       "      <td>...</td>\n",
       "      <td>...</td>\n",
       "      <td>...</td>\n",
       "      <td>...</td>\n",
       "      <td>...</td>\n",
       "      <td>...</td>\n",
       "      <td>...</td>\n",
       "      <td>...</td>\n",
       "      <td>...</td>\n",
       "      <td>...</td>\n",
       "      <td>...</td>\n",
       "      <td>...</td>\n",
       "      <td>...</td>\n",
       "      <td>...</td>\n",
       "      <td>...</td>\n",
       "      <td>...</td>\n",
       "    </tr>\n",
       "    <tr>\n",
       "      <th>116964</th>\n",
       "      <td>1500</td>\n",
       "      <td>kern</td>\n",
       "      <td>18.0</td>\n",
       "      <td>south</td>\n",
       "      <td>0.0</td>\n",
       "      <td>clear</td>\n",
       "      <td>None</td>\n",
       "      <td>small damage</td>\n",
       "      <td>2</td>\n",
       "      <td>vehicle code violation</td>\n",
       "      <td>unsafe lane change</td>\n",
       "      <td>sideswipe</td>\n",
       "      <td>other motor vehicle</td>\n",
       "      <td>dry</td>\n",
       "      <td>normal</td>\n",
       "      <td>daylight</td>\n",
       "      <td>functioning</td>\n",
       "      <td>1</td>\n",
       "      <td>16</td>\n",
       "      <td>2021</td>\n",
       "      <td>sedan</td>\n",
       "      <td>auto</td>\n",
       "      <td>11.0</td>\n",
       "      <td>car</td>\n",
       "      <td>0</td>\n",
       "      <td>20.0</td>\n",
       "      <td>had not been drinking</td>\n",
       "      <td>None</td>\n",
       "      <td>0.0</td>\n",
       "    </tr>\n",
       "    <tr>\n",
       "      <th>116965</th>\n",
       "      <td>4204</td>\n",
       "      <td>santa barbara</td>\n",
       "      <td>3168.0</td>\n",
       "      <td>north</td>\n",
       "      <td>0.0</td>\n",
       "      <td>clear</td>\n",
       "      <td>highway</td>\n",
       "      <td>small damage</td>\n",
       "      <td>1</td>\n",
       "      <td>vehicle code violation</td>\n",
       "      <td>speeding</td>\n",
       "      <td>hit object</td>\n",
       "      <td>other object</td>\n",
       "      <td>dry</td>\n",
       "      <td>obstruction</td>\n",
       "      <td>daylight</td>\n",
       "      <td>functioning</td>\n",
       "      <td>1</td>\n",
       "      <td>8</td>\n",
       "      <td>2021</td>\n",
       "      <td>sedan</td>\n",
       "      <td>auto</td>\n",
       "      <td>14.0</td>\n",
       "      <td>car</td>\n",
       "      <td>1</td>\n",
       "      <td>77.0</td>\n",
       "      <td>had not been drinking</td>\n",
       "      <td>None</td>\n",
       "      <td>0.0</td>\n",
       "    </tr>\n",
       "    <tr>\n",
       "      <th>116966</th>\n",
       "      <td>0300</td>\n",
       "      <td>amador</td>\n",
       "      <td>10.0</td>\n",
       "      <td>north</td>\n",
       "      <td>0.0</td>\n",
       "      <td>clear</td>\n",
       "      <td>None</td>\n",
       "      <td>small damage</td>\n",
       "      <td>1</td>\n",
       "      <td>vehicle code violation</td>\n",
       "      <td>wrong side of road</td>\n",
       "      <td>hit object</td>\n",
       "      <td>fixed object</td>\n",
       "      <td>dry</td>\n",
       "      <td>loose material</td>\n",
       "      <td>dark with no street lights</td>\n",
       "      <td>functioning</td>\n",
       "      <td>1</td>\n",
       "      <td>20</td>\n",
       "      <td>2021</td>\n",
       "      <td>sedan</td>\n",
       "      <td>manual</td>\n",
       "      <td>2.0</td>\n",
       "      <td>car</td>\n",
       "      <td>1</td>\n",
       "      <td>18.0</td>\n",
       "      <td>had not been drinking</td>\n",
       "      <td>None</td>\n",
       "      <td>0.0</td>\n",
       "    </tr>\n",
       "    <tr>\n",
       "      <th>116967</th>\n",
       "      <td>1949</td>\n",
       "      <td>los angeles</td>\n",
       "      <td>1000.0</td>\n",
       "      <td>north</td>\n",
       "      <td>0.0</td>\n",
       "      <td>clear</td>\n",
       "      <td>highway</td>\n",
       "      <td>small damage</td>\n",
       "      <td>2</td>\n",
       "      <td>vehicle code violation</td>\n",
       "      <td>improper turning</td>\n",
       "      <td>hit object</td>\n",
       "      <td>other object</td>\n",
       "      <td>dry</td>\n",
       "      <td>normal</td>\n",
       "      <td>daylight</td>\n",
       "      <td>none</td>\n",
       "      <td>1</td>\n",
       "      <td>11</td>\n",
       "      <td>2021</td>\n",
       "      <td>sedan</td>\n",
       "      <td>manual</td>\n",
       "      <td>1.0</td>\n",
       "      <td>car</td>\n",
       "      <td>1</td>\n",
       "      <td>25.0</td>\n",
       "      <td>had not been drinking</td>\n",
       "      <td>None</td>\n",
       "      <td>0.0</td>\n",
       "    </tr>\n",
       "    <tr>\n",
       "      <th>116968</th>\n",
       "      <td>1949</td>\n",
       "      <td>los angeles</td>\n",
       "      <td>1000.0</td>\n",
       "      <td>north</td>\n",
       "      <td>0.0</td>\n",
       "      <td>clear</td>\n",
       "      <td>highway</td>\n",
       "      <td>small damage</td>\n",
       "      <td>2</td>\n",
       "      <td>vehicle code violation</td>\n",
       "      <td>improper turning</td>\n",
       "      <td>hit object</td>\n",
       "      <td>other object</td>\n",
       "      <td>dry</td>\n",
       "      <td>normal</td>\n",
       "      <td>daylight</td>\n",
       "      <td>none</td>\n",
       "      <td>1</td>\n",
       "      <td>11</td>\n",
       "      <td>2021</td>\n",
       "      <td>sedan</td>\n",
       "      <td>manual</td>\n",
       "      <td>1.0</td>\n",
       "      <td>car</td>\n",
       "      <td>0</td>\n",
       "      <td>54.0</td>\n",
       "      <td>had not been drinking</td>\n",
       "      <td>None</td>\n",
       "      <td>0.0</td>\n",
       "    </tr>\n",
       "  </tbody>\n",
       "</table>\n",
       "<p>116969 rows × 29 columns</p>\n",
       "</div>"
      ],
      "text/plain": [
       "       county_city_location county_location  distance direction  intersection  \\\n",
       "0                      3616  san bernardino     650.0      east           0.0   \n",
       "1                      3711       san diego       0.0      None           1.0   \n",
       "2                      3404      sacramento      10.0      east           0.0   \n",
       "3                      3404      sacramento      10.0      east           0.0   \n",
       "4                      1942     los angeles     395.0     south           0.0   \n",
       "...                     ...             ...       ...       ...           ...   \n",
       "116964                 1500            kern      18.0     south           0.0   \n",
       "116965                 4204   santa barbara    3168.0     north           0.0   \n",
       "116966                 0300          amador      10.0     north           0.0   \n",
       "116967                 1949     los angeles    1000.0     north           0.0   \n",
       "116968                 1949     los angeles    1000.0     north           0.0   \n",
       "\n",
       "       weather_1 location_type collision_damage  party_count  \\\n",
       "0        raining          None     small damage            2   \n",
       "1           None          None            fatal            2   \n",
       "2         cloudy          None            fatal            2   \n",
       "3         cloudy          None            fatal            2   \n",
       "4          clear          None    middle damage            3   \n",
       "...          ...           ...              ...          ...   \n",
       "116964     clear          None     small damage            2   \n",
       "116965     clear       highway     small damage            1   \n",
       "116966     clear          None     small damage            1   \n",
       "116967     clear       highway     small damage            2   \n",
       "116968     clear       highway     small damage            2   \n",
       "\n",
       "       primary_collision_factor pcf_violation_category type_of_collision  \\\n",
       "0        vehicle code violation                   None          rear end   \n",
       "1        vehicle code violation               speeding             other   \n",
       "2        vehicle code violation       improper passing              None   \n",
       "3        vehicle code violation       improper passing              None   \n",
       "4        vehicle code violation               speeding          rear end   \n",
       "...                         ...                    ...               ...   \n",
       "116964   vehicle code violation     unsafe lane change         sideswipe   \n",
       "116965   vehicle code violation               speeding        hit object   \n",
       "116966   vehicle code violation     wrong side of road        hit object   \n",
       "116967   vehicle code violation       improper turning        hit object   \n",
       "116968   vehicle code violation       improper turning        hit object   \n",
       "\n",
       "       motor_vehicle_involved_with road_surface road_condition_1  \\\n",
       "0             parked motor vehicle          wet           normal   \n",
       "1                     other object          dry           normal   \n",
       "2                     other object          wet           normal   \n",
       "3                     other object          wet           normal   \n",
       "4             parked motor vehicle          dry           normal   \n",
       "...                            ...          ...              ...   \n",
       "116964         other motor vehicle          dry           normal   \n",
       "116965                other object          dry      obstruction   \n",
       "116966                fixed object          dry   loose material   \n",
       "116967                other object          dry           normal   \n",
       "116968                other object          dry           normal   \n",
       "\n",
       "                          lighting control_device collision_date  \\\n",
       "0          dark with street lights           none              4   \n",
       "1                         daylight           none              1   \n",
       "2                     dusk or dawn           none              1   \n",
       "3                     dusk or dawn           none              1   \n",
       "4                         daylight           none              1   \n",
       "...                            ...            ...            ...   \n",
       "116964                    daylight    functioning              1   \n",
       "116965                    daylight    functioning              1   \n",
       "116966  dark with no street lights    functioning              1   \n",
       "116967                    daylight           none              1   \n",
       "116968                    daylight           none              1   \n",
       "\n",
       "       collision_time db_year vehicle_type vehicle_transmission  vehicle_age  \\\n",
       "0                  20    2021        sedan                 auto          7.0   \n",
       "1                   7    2021    hatchback               manual         14.0   \n",
       "2                  17    2021    hatchback                 auto          2.0   \n",
       "3                  17    2021        sedan               manual          2.0   \n",
       "4                  16    2021        coupe                 auto          3.0   \n",
       "...               ...     ...          ...                  ...          ...   \n",
       "116964             16    2021        sedan                 auto         11.0   \n",
       "116965              8    2021        sedan                 auto         14.0   \n",
       "116966             20    2021        sedan               manual          2.0   \n",
       "116967             11    2021        sedan               manual          1.0   \n",
       "116968             11    2021        sedan               manual          1.0   \n",
       "\n",
       "         party_type  at_fault  insurance_premium         party_sobriety  \\\n",
       "0       road bumper         0                NaN                   None   \n",
       "1        road signs         0               92.0  had not been drinking   \n",
       "2        road signs         0               16.0  had not been drinking   \n",
       "3        road signs         0               16.0  had not been drinking   \n",
       "4       road bumper         0                NaN         not applicable   \n",
       "...             ...       ...                ...                    ...   \n",
       "116964          car         0               20.0  had not been drinking   \n",
       "116965          car         1               77.0  had not been drinking   \n",
       "116966          car         1               18.0  had not been drinking   \n",
       "116967          car         1               25.0  had not been drinking   \n",
       "116968          car         0               54.0  had not been drinking   \n",
       "\n",
       "       party_drug_physical  cellphone_in_use  \n",
       "0                     None               NaN  \n",
       "1                     None               0.0  \n",
       "2                     None               NaN  \n",
       "3                     None               NaN  \n",
       "4           not applicable               NaN  \n",
       "...                    ...               ...  \n",
       "116964                None               0.0  \n",
       "116965                None               0.0  \n",
       "116966                None               0.0  \n",
       "116967                None               0.0  \n",
       "116968                None               0.0  \n",
       "\n",
       "[116969 rows x 29 columns]"
      ]
     },
     "execution_count": 18,
     "metadata": {},
     "output_type": "execute_result"
    }
   ],
   "source": [
    "# Пункты 12. и 13.\n",
    "\n",
    "data['collision_date'] = pd.to_datetime(data['collision_date'], format='%Y-%m-%d')\n",
    "data['collision_time'] = pd.to_datetime(data['collision_time'], format='%H:%M:%S')\n",
    "\n",
    "for i in data.index:\n",
    "    data.loc[i, 'collision_date'] = data.loc[i, 'collision_date'].month\n",
    "    data.loc[i, 'collision_time'] = data.loc[i, 'collision_time'].hour\n",
    "data"
   ]
  },
  {
   "cell_type": "code",
   "execution_count": 19,
   "id": "3a354ecd",
   "metadata": {},
   "outputs": [
    {
     "name": "stdout",
     "output_type": "stream",
     "text": [
      "<class 'pandas.core.frame.DataFrame'>\n",
      "RangeIndex: 116969 entries, 0 to 116968\n",
      "Data columns (total 15 columns):\n",
      " #   Column               Non-Null Count   Dtype  \n",
      "---  ------               --------------   -----  \n",
      " 0   distance             116969 non-null  float64\n",
      " 1   intersection         116590 non-null  float64\n",
      " 2   weather_1            116602 non-null  object \n",
      " 3   location_type        53200 non-null   object \n",
      " 4   road_surface         116200 non-null  object \n",
      " 5   road_condition_1     116412 non-null  object \n",
      " 6   lighting             116648 non-null  object \n",
      " 7   control_device       116549 non-null  object \n",
      " 8   collision_date       116969 non-null  object \n",
      " 9   collision_time       116840 non-null  object \n",
      " 10  vehicle_age          113642 non-null  float64\n",
      " 11  at_fault             116969 non-null  int64  \n",
      " 12  party_sobriety       114654 non-null  object \n",
      " 13  party_drug_physical  11549 non-null   object \n",
      " 14  cellphone_in_use     104127 non-null  float64\n",
      "dtypes: float64(4), int64(1), object(10)\n",
      "memory usage: 13.4+ MB\n"
     ]
    }
   ],
   "source": [
    "for_drop_2 = ['county_location', 'direction', 'collision_damage', 'party_count', 'primary_collision_factor', \n",
    "              'pcf_violation_category', 'type_of_collision', 'motor_vehicle_involved_with', 'db_year', 'vehicle_type', \n",
    "              'vehicle_transmission', 'party_type', 'insurance_premium', 'county_city_location']\n",
    "\n",
    "data = data.drop(for_drop_2, axis=1)\n",
    "data.info()"
   ]
  },
  {
   "cell_type": "markdown",
   "id": "e767c16f",
   "metadata": {},
   "source": [
    "#### Статистическое исследование отобранных факторов."
   ]
  },
  {
   "cell_type": "markdown",
   "id": "3dc68cea",
   "metadata": {},
   "source": [
    "Рассмотрим подробнее каждый признак"
   ]
  },
  {
   "cell_type": "code",
   "execution_count": 20,
   "id": "3623378f",
   "metadata": {},
   "outputs": [
    {
     "name": "stdout",
     "output_type": "stream",
     "text": [
      "<class 'pandas.core.frame.DataFrame'>\n",
      "RangeIndex: 116969 entries, 0 to 116968\n",
      "Data columns (total 15 columns):\n",
      " #   Column               Non-Null Count   Dtype  \n",
      "---  ------               --------------   -----  \n",
      " 0   distance             116969 non-null  float64\n",
      " 1   intersection         116590 non-null  float64\n",
      " 2   weather_1            116602 non-null  object \n",
      " 3   location_type        53200 non-null   object \n",
      " 4   road_surface         116200 non-null  object \n",
      " 5   road_condition_1     116412 non-null  object \n",
      " 6   lighting             116648 non-null  object \n",
      " 7   control_device       116549 non-null  object \n",
      " 8   collision_date       116969 non-null  object \n",
      " 9   collision_time       116840 non-null  object \n",
      " 10  vehicle_age          113642 non-null  float64\n",
      " 11  at_fault             116969 non-null  int64  \n",
      " 12  party_sobriety       114654 non-null  object \n",
      " 13  party_drug_physical  11549 non-null   object \n",
      " 14  cellphone_in_use     104127 non-null  float64\n",
      "dtypes: float64(4), int64(1), object(10)\n",
      "memory usage: 13.4+ MB\n"
     ]
    }
   ],
   "source": [
    "data.info()"
   ]
  },
  {
   "cell_type": "code",
   "execution_count": 21,
   "id": "515fe5c7",
   "metadata": {},
   "outputs": [],
   "source": [
    "def col_desc(column):\n",
    "    '''Функция для получения статистического описания признака'''\n",
    "    print('Описание признака:')\n",
    "    display(data[column].describe())\n",
    "    print('-----------------------------------------------------------')\n",
    "    print('Уникальные значения:')\n",
    "    display(data[column].value_counts())\n",
    "    print('-----------------------------------------------------------')\n",
    "    print('Количество пропусков:', data[column].isna().sum())\n",
    "    print('-----------------------------------------------------------')"
   ]
  },
  {
   "cell_type": "markdown",
   "id": "13cc248a",
   "metadata": {},
   "source": [
    "##### Признак 'distance'"
   ]
  },
  {
   "cell_type": "code",
   "execution_count": 22,
   "id": "8f719e65",
   "metadata": {},
   "outputs": [
    {
     "name": "stdout",
     "output_type": "stream",
     "text": [
      "Описание признака:\n"
     ]
    },
    {
     "data": {
      "text/plain": [
       "count    1.169690e+05\n",
       "mean     7.158912e+02\n",
       "std      6.926367e+03\n",
       "min      0.000000e+00\n",
       "25%      4.000000e+00\n",
       "50%      1.150000e+02\n",
       "75%      5.280000e+02\n",
       "max      1.584000e+06\n",
       "Name: distance, dtype: float64"
      ]
     },
     "metadata": {},
     "output_type": "display_data"
    },
    {
     "name": "stdout",
     "output_type": "stream",
     "text": [
      "-----------------------------------------------------------\n",
      "Уникальные значения:\n"
     ]
    },
    {
     "data": {
      "text/plain": [
       "0.0        28590\n",
       "100.0       3808\n",
       "200.0       3360\n",
       "300.0       2926\n",
       "500.0       2781\n",
       "           ...  \n",
       "13464.0        1\n",
       "15998.0        1\n",
       "7260.0         1\n",
       "5148.0         1\n",
       "1638.0         1\n",
       "Name: distance, Length: 1847, dtype: int64"
      ]
     },
     "metadata": {},
     "output_type": "display_data"
    },
    {
     "name": "stdout",
     "output_type": "stream",
     "text": [
      "-----------------------------------------------------------\n",
      "Количество пропусков: 0\n",
      "-----------------------------------------------------------\n"
     ]
    }
   ],
   "source": [
    "col_desc('distance')"
   ]
  },
  {
   "cell_type": "code",
   "execution_count": 23,
   "id": "565b8c0c",
   "metadata": {},
   "outputs": [
    {
     "data": {
      "image/png": "[encoded data removed]",
      "text/plain": [
       "<Figure size 864x576 with 1 Axes>"
      ]
     },
     "metadata": {
      "needs_background": "light"
     },
     "output_type": "display_data"
    }
   ],
   "source": [
    "plt.figure(figsize=(12, 8))\n",
    "plt.hist(data['distance'], bins=120)\n",
    "plt.gca().set(title='Гистограмма распределения дистанции', ylabel='Частота повторений', xlabel='Дистанция')\n",
    "plt.show()"
   ]
  },
  {
   "cell_type": "markdown",
   "id": "869bcdf2",
   "metadata": {},
   "source": [
    "<b>Вывод</b>\n",
    "\n",
    "Сам по себе признак имеет малое, лишь предположительное, влияние на целевой признак, однако при этом имеет сильно скошенное влево распределение, что заметно ухудшит предсказания модели. Признак лучше убрать."
   ]
  },
  {
   "cell_type": "code",
   "execution_count": 24,
   "id": "c533e82f",
   "metadata": {},
   "outputs": [],
   "source": [
    "data = data.drop('distance', axis=1)"
   ]
  },
  {
   "cell_type": "markdown",
   "id": "c8aecb99",
   "metadata": {},
   "source": [
    "##### Признак 'intersection'"
   ]
  },
  {
   "cell_type": "code",
   "execution_count": 25,
   "id": "6aaa57e7",
   "metadata": {},
   "outputs": [
    {
     "name": "stdout",
     "output_type": "stream",
     "text": [
      "Описание признака:\n"
     ]
    },
    {
     "data": {
      "text/plain": [
       "count    116590.000000\n",
       "mean          0.230637\n",
       "std           0.421243\n",
       "min           0.000000\n",
       "25%           0.000000\n",
       "50%           0.000000\n",
       "75%           0.000000\n",
       "max           1.000000\n",
       "Name: intersection, dtype: float64"
      ]
     },
     "metadata": {},
     "output_type": "display_data"
    },
    {
     "name": "stdout",
     "output_type": "stream",
     "text": [
      "-----------------------------------------------------------\n",
      "Уникальные значения:\n"
     ]
    },
    {
     "data": {
      "text/plain": [
       "0.0    89700\n",
       "1.0    26890\n",
       "Name: intersection, dtype: int64"
      ]
     },
     "metadata": {},
     "output_type": "display_data"
    },
    {
     "name": "stdout",
     "output_type": "stream",
     "text": [
      "-----------------------------------------------------------\n",
      "Количество пропусков: 379\n",
      "-----------------------------------------------------------\n"
     ]
    }
   ],
   "source": [
    "col_desc('intersection')"
   ]
  },
  {
   "cell_type": "markdown",
   "id": "530cc97d",
   "metadata": {},
   "source": [
    "<b>Вывод</b> \n",
    "\n",
    "Признак имеет вполне приемлимый формат. Имеется малое количество пропусков, которые можно просто удалить."
   ]
  },
  {
   "cell_type": "code",
   "execution_count": 26,
   "id": "00023318",
   "metadata": {},
   "outputs": [],
   "source": [
    "data = data.drop(data.loc[data['intersection'].isna()].index, axis=0)"
   ]
  },
  {
   "cell_type": "markdown",
   "id": "a6a0e87c",
   "metadata": {},
   "source": [
    "##### Признак 'weather_1'"
   ]
  },
  {
   "cell_type": "code",
   "execution_count": 27,
   "id": "96765efe",
   "metadata": {},
   "outputs": [
    {
     "name": "stdout",
     "output_type": "stream",
     "text": [
      "Описание признака:\n"
     ]
    },
    {
     "data": {
      "text/plain": [
       "count     116226\n",
       "unique         7\n",
       "top        clear\n",
       "freq       94432\n",
       "Name: weather_1, dtype: object"
      ]
     },
     "metadata": {},
     "output_type": "display_data"
    },
    {
     "name": "stdout",
     "output_type": "stream",
     "text": [
      "-----------------------------------------------------------\n",
      "Уникальные значения:\n"
     ]
    },
    {
     "data": {
      "text/plain": [
       "clear      94432\n",
       "cloudy     16813\n",
       "raining     4225\n",
       "fog          409\n",
       "snowing      264\n",
       "other         62\n",
       "wind          21\n",
       "Name: weather_1, dtype: int64"
      ]
     },
     "metadata": {},
     "output_type": "display_data"
    },
    {
     "name": "stdout",
     "output_type": "stream",
     "text": [
      "-----------------------------------------------------------\n",
      "Количество пропусков: 364\n",
      "-----------------------------------------------------------\n"
     ]
    }
   ],
   "source": [
    "col_desc('weather_1')"
   ]
  },
  {
   "cell_type": "markdown",
   "id": "919bfc77",
   "metadata": {},
   "source": [
    "<b>Вывод</b>\n",
    "\n",
    "Ситуация аналогична предыдущему рассматриваемому признаку. Удаляем пропуски."
   ]
  },
  {
   "cell_type": "code",
   "execution_count": 28,
   "id": "2d9aec73",
   "metadata": {},
   "outputs": [],
   "source": [
    "data = data.drop(data.loc[data['weather_1'].isna()].index, axis=0)"
   ]
  },
  {
   "cell_type": "markdown",
   "id": "f428e109",
   "metadata": {},
   "source": [
    "##### Признак 'location_type'"
   ]
  },
  {
   "cell_type": "code",
   "execution_count": 29,
   "id": "e22e90fc",
   "metadata": {},
   "outputs": [
    {
     "name": "stdout",
     "output_type": "stream",
     "text": [
      "Описание признака:\n"
     ]
    },
    {
     "data": {
      "text/plain": [
       "count       52992\n",
       "unique          3\n",
       "top       highway\n",
       "freq        44301\n",
       "Name: location_type, dtype: object"
      ]
     },
     "metadata": {},
     "output_type": "display_data"
    },
    {
     "name": "stdout",
     "output_type": "stream",
     "text": [
      "-----------------------------------------------------------\n",
      "Уникальные значения:\n"
     ]
    },
    {
     "data": {
      "text/plain": [
       "highway         44301\n",
       "ramp             5951\n",
       "intersection     2740\n",
       "Name: location_type, dtype: int64"
      ]
     },
     "metadata": {},
     "output_type": "display_data"
    },
    {
     "name": "stdout",
     "output_type": "stream",
     "text": [
      "-----------------------------------------------------------\n",
      "Количество пропусков: 63234\n",
      "-----------------------------------------------------------\n"
     ]
    }
   ],
   "source": [
    "col_desc('location_type')"
   ]
  },
  {
   "cell_type": "markdown",
   "id": "1f41e391",
   "metadata": {},
   "source": [
    "<b>Вывод</b>\n",
    "\n",
    "Больше половины значений в столбце пропущено, а значит больше чем на половину такой признак неинформативен для модели, т.е. он будет больше мешать модели, чем помогать. Такой признак стоит удалить"
   ]
  },
  {
   "cell_type": "code",
   "execution_count": 30,
   "id": "92a0a5d9",
   "metadata": {},
   "outputs": [],
   "source": [
    "data = data.drop('location_type', axis=1)"
   ]
  },
  {
   "cell_type": "markdown",
   "id": "0a7e1988",
   "metadata": {},
   "source": [
    "##### Признак 'road_surface'"
   ]
  },
  {
   "cell_type": "code",
   "execution_count": 31,
   "id": "60b2dbcc",
   "metadata": {},
   "outputs": [
    {
     "name": "stdout",
     "output_type": "stream",
     "text": [
      "Описание признака:\n"
     ]
    },
    {
     "data": {
      "text/plain": [
       "count     115606\n",
       "unique         4\n",
       "top          dry\n",
       "freq      104876\n",
       "Name: road_surface, dtype: object"
      ]
     },
     "metadata": {},
     "output_type": "display_data"
    },
    {
     "name": "stdout",
     "output_type": "stream",
     "text": [
      "-----------------------------------------------------------\n",
      "Уникальные значения:\n"
     ]
    },
    {
     "data": {
      "text/plain": [
       "dry         104876\n",
       "wet          10090\n",
       "snowy          577\n",
       "slippery        63\n",
       "Name: road_surface, dtype: int64"
      ]
     },
     "metadata": {},
     "output_type": "display_data"
    },
    {
     "name": "stdout",
     "output_type": "stream",
     "text": [
      "-----------------------------------------------------------\n",
      "Количество пропусков: 620\n",
      "-----------------------------------------------------------\n"
     ]
    }
   ],
   "source": [
    "col_desc('road_surface')"
   ]
  },
  {
   "cell_type": "markdown",
   "id": "901a6155",
   "metadata": {},
   "source": [
    "<b>Вывод</b>\n",
    "\n",
    "Признак имеет вполне приемлимый формат. Имеется малое количество пропусков, которые можно просто удалить."
   ]
  },
  {
   "cell_type": "code",
   "execution_count": 32,
   "id": "e11d0266",
   "metadata": {},
   "outputs": [],
   "source": [
    "data = data.drop(data.loc[data['road_surface'].isna()].index, axis=0)"
   ]
  },
  {
   "cell_type": "markdown",
   "id": "3d7daa82",
   "metadata": {},
   "source": [
    "##### Признак 'road_condition_1'"
   ]
  },
  {
   "cell_type": "code",
   "execution_count": 33,
   "id": "9ce79270",
   "metadata": {},
   "outputs": [
    {
     "name": "stdout",
     "output_type": "stream",
     "text": [
      "Описание признака:\n"
     ]
    },
    {
     "data": {
      "text/plain": [
       "count     115212\n",
       "unique         8\n",
       "top       normal\n",
       "freq      111525\n",
       "Name: road_condition_1, dtype: object"
      ]
     },
     "metadata": {},
     "output_type": "display_data"
    },
    {
     "name": "stdout",
     "output_type": "stream",
     "text": [
      "-----------------------------------------------------------\n",
      "Уникальные значения:\n"
     ]
    },
    {
     "data": {
      "text/plain": [
       "normal            111525\n",
       "construction        2207\n",
       "obstruction          438\n",
       "other                401\n",
       "holes                263\n",
       "loose material       191\n",
       "reduced width        118\n",
       "flooded               69\n",
       "Name: road_condition_1, dtype: int64"
      ]
     },
     "metadata": {},
     "output_type": "display_data"
    },
    {
     "name": "stdout",
     "output_type": "stream",
     "text": [
      "-----------------------------------------------------------\n",
      "Количество пропусков: 394\n",
      "-----------------------------------------------------------\n"
     ]
    }
   ],
   "source": [
    "col_desc('road_condition_1')"
   ]
  },
  {
   "cell_type": "markdown",
   "id": "9bd70bfb",
   "metadata": {},
   "source": [
    "<b>Вывод</b>\n",
    "\n",
    "Признак практически полностью заполнен лишь одним значением, однако так и должно быть, наличие других значений нам важно, поэтому оставляем признак. Имеется малое количество пропусков, которые можно просто удалить."
   ]
  },
  {
   "cell_type": "code",
   "execution_count": 34,
   "id": "c490914f",
   "metadata": {},
   "outputs": [],
   "source": [
    "data = data.drop(data.loc[data['road_condition_1'].isna()].index, axis=0)"
   ]
  },
  {
   "cell_type": "markdown",
   "id": "f9fef35d",
   "metadata": {},
   "source": [
    "##### Признак 'lighting'"
   ]
  },
  {
   "cell_type": "code",
   "execution_count": 35,
   "id": "00cabf3a",
   "metadata": {},
   "outputs": [
    {
     "name": "stdout",
     "output_type": "stream",
     "text": [
      "Описание признака:\n"
     ]
    },
    {
     "data": {
      "text/plain": [
       "count       115033\n",
       "unique           5\n",
       "top       daylight\n",
       "freq         80418\n",
       "Name: lighting, dtype: object"
      ]
     },
     "metadata": {},
     "output_type": "display_data"
    },
    {
     "name": "stdout",
     "output_type": "stream",
     "text": [
      "-----------------------------------------------------------\n",
      "Уникальные значения:\n"
     ]
    },
    {
     "data": {
      "text/plain": [
       "daylight                                   80418\n",
       "dark with street lights                    22123\n",
       "dark with no street lights                  8654\n",
       "dusk or dawn                                3572\n",
       "dark with street lights not functioning      266\n",
       "Name: lighting, dtype: int64"
      ]
     },
     "metadata": {},
     "output_type": "display_data"
    },
    {
     "name": "stdout",
     "output_type": "stream",
     "text": [
      "-----------------------------------------------------------\n",
      "Количество пропусков: 179\n",
      "-----------------------------------------------------------\n"
     ]
    }
   ],
   "source": [
    "col_desc('lighting')"
   ]
  },
  {
   "cell_type": "markdown",
   "id": "ad1a1bfc",
   "metadata": {},
   "source": [
    "<b>Вывод</b>\n",
    "\n",
    "Признак имеет вполне приемлимый формат. Имеется малое количество пропусков, которые можно просто удалить."
   ]
  },
  {
   "cell_type": "code",
   "execution_count": 36,
   "id": "e138e3c1",
   "metadata": {},
   "outputs": [],
   "source": [
    "data = data.drop(data.loc[data['lighting'].isna()].index, axis=0)"
   ]
  },
  {
   "cell_type": "markdown",
   "id": "d645afb1",
   "metadata": {},
   "source": [
    "##### Признак 'control_device'"
   ]
  },
  {
   "cell_type": "code",
   "execution_count": 37,
   "id": "99b1da3c",
   "metadata": {},
   "outputs": [
    {
     "name": "stdout",
     "output_type": "stream",
     "text": [
      "Описание признака:\n"
     ]
    },
    {
     "data": {
      "text/plain": [
       "count     114674\n",
       "unique         4\n",
       "top         none\n",
       "freq       75371\n",
       "Name: control_device, dtype: object"
      ]
     },
     "metadata": {},
     "output_type": "display_data"
    },
    {
     "name": "stdout",
     "output_type": "stream",
     "text": [
      "-----------------------------------------------------------\n",
      "Уникальные значения:\n"
     ]
    },
    {
     "data": {
      "text/plain": [
       "none               75371\n",
       "functioning        39015\n",
       "not functioning      223\n",
       "obscured              65\n",
       "Name: control_device, dtype: int64"
      ]
     },
     "metadata": {},
     "output_type": "display_data"
    },
    {
     "name": "stdout",
     "output_type": "stream",
     "text": [
      "-----------------------------------------------------------\n",
      "Количество пропусков: 359\n",
      "-----------------------------------------------------------\n"
     ]
    }
   ],
   "source": [
    "col_desc('control_device')"
   ]
  },
  {
   "cell_type": "markdown",
   "id": "8c8fd27f",
   "metadata": {},
   "source": [
    "<b>Вывод</b>\n",
    "\n",
    "Признак имеет вполне приемлимый формат. Имеется малое количество пропусков, которые можно просто удалить."
   ]
  },
  {
   "cell_type": "code",
   "execution_count": 38,
   "id": "7f1bf558",
   "metadata": {},
   "outputs": [],
   "source": [
    "data = data.drop(data.loc[data['control_device'].isna()].index, axis=0)"
   ]
  },
  {
   "cell_type": "markdown",
   "id": "ec7c1022",
   "metadata": {},
   "source": [
    "##### Признак 'collision_date'"
   ]
  },
  {
   "cell_type": "code",
   "execution_count": 39,
   "id": "0661bc99",
   "metadata": {},
   "outputs": [
    {
     "name": "stdout",
     "output_type": "stream",
     "text": [
      "Описание признака:\n"
     ]
    },
    {
     "data": {
      "text/plain": [
       "count     114674\n",
       "unique        12\n",
       "top            3\n",
       "freq       23651\n",
       "Name: collision_date, dtype: int64"
      ]
     },
     "metadata": {},
     "output_type": "display_data"
    },
    {
     "name": "stdout",
     "output_type": "stream",
     "text": [
      "-----------------------------------------------------------\n",
      "Уникальные значения:\n"
     ]
    },
    {
     "data": {
      "text/plain": [
       "3     23651\n",
       "1     22315\n",
       "4     21716\n",
       "2     21164\n",
       "5     19557\n",
       "6      2688\n",
       "8       777\n",
       "7       716\n",
       "9       669\n",
       "10      479\n",
       "11      478\n",
       "12      464\n",
       "Name: collision_date, dtype: int64"
      ]
     },
     "metadata": {},
     "output_type": "display_data"
    },
    {
     "name": "stdout",
     "output_type": "stream",
     "text": [
      "-----------------------------------------------------------\n",
      "Количество пропусков: 0\n",
      "-----------------------------------------------------------\n"
     ]
    }
   ],
   "source": [
    "col_desc('collision_date')"
   ]
  },
  {
   "cell_type": "markdown",
   "id": "2580bc59",
   "metadata": {},
   "source": [
    "<b>Вывод</b>\n",
    "\n",
    "Признак имеет вполне приемлимый формат."
   ]
  },
  {
   "cell_type": "markdown",
   "id": "87ad5d27",
   "metadata": {},
   "source": [
    "##### Признак 'collision_time'"
   ]
  },
  {
   "cell_type": "code",
   "execution_count": 40,
   "id": "089c1e45",
   "metadata": {},
   "outputs": [
    {
     "name": "stdout",
     "output_type": "stream",
     "text": [
      "Описание признака:\n"
     ]
    },
    {
     "data": {
      "text/plain": [
       "count     114555\n",
       "unique        24\n",
       "top           15\n",
       "freq       10419\n",
       "Name: collision_time, dtype: int64"
      ]
     },
     "metadata": {},
     "output_type": "display_data"
    },
    {
     "name": "stdout",
     "output_type": "stream",
     "text": [
      "-----------------------------------------------------------\n",
      "Уникальные значения:\n"
     ]
    },
    {
     "data": {
      "text/plain": [
       "15    10419\n",
       "17     9155\n",
       "16     8681\n",
       "14     8626\n",
       "18     7955\n",
       "13     7407\n",
       "12     6901\n",
       "11     5824\n",
       "7      5558\n",
       "8      5421\n",
       "19     5190\n",
       "10     4698\n",
       "20     4292\n",
       "9      4280\n",
       "21     3698\n",
       "22     2872\n",
       "23     2405\n",
       "6      2231\n",
       "2      1978\n",
       "1      1877\n",
       "0      1828\n",
       "5      1340\n",
       "3      1144\n",
       "4       775\n",
       "Name: collision_time, dtype: int64"
      ]
     },
     "metadata": {},
     "output_type": "display_data"
    },
    {
     "name": "stdout",
     "output_type": "stream",
     "text": [
      "-----------------------------------------------------------\n",
      "Количество пропусков: 119\n",
      "-----------------------------------------------------------\n"
     ]
    }
   ],
   "source": [
    "col_desc('collision_time')"
   ]
  },
  {
   "cell_type": "markdown",
   "id": "5852c4f9",
   "metadata": {},
   "source": [
    "<b>Вывод</b>\n",
    "\n",
    "Признак имеет вполне приемлимый формат. Имеется малое количество пропусков, которые можно просто удалить."
   ]
  },
  {
   "cell_type": "code",
   "execution_count": 41,
   "id": "fc493390",
   "metadata": {},
   "outputs": [],
   "source": [
    "data = data.drop(data.loc[data['collision_time'].isna()].index, axis=0)"
   ]
  },
  {
   "cell_type": "markdown",
   "id": "f58ceffc",
   "metadata": {},
   "source": [
    "##### Признак 'vehicle_age'"
   ]
  },
  {
   "cell_type": "code",
   "execution_count": 42,
   "id": "b992d213",
   "metadata": {},
   "outputs": [
    {
     "name": "stdout",
     "output_type": "stream",
     "text": [
      "Описание признака:\n"
     ]
    },
    {
     "data": {
      "text/plain": [
       "count    111335.000000\n",
       "mean          4.906885\n",
       "std           3.256513\n",
       "min           0.000000\n",
       "25%           3.000000\n",
       "50%           4.000000\n",
       "75%           7.000000\n",
       "max         161.000000\n",
       "Name: vehicle_age, dtype: float64"
      ]
     },
     "metadata": {},
     "output_type": "display_data"
    },
    {
     "name": "stdout",
     "output_type": "stream",
     "text": [
      "-----------------------------------------------------------\n",
      "Уникальные значения:\n"
     ]
    },
    {
     "data": {
      "text/plain": [
       "3.0      21399\n",
       "4.0      14270\n",
       "2.0      12255\n",
       "5.0      11440\n",
       "6.0       8254\n",
       "7.0       8079\n",
       "8.0       7354\n",
       "0.0       6455\n",
       "9.0       5905\n",
       "1.0       5264\n",
       "10.0      4166\n",
       "11.0      2870\n",
       "12.0      1778\n",
       "13.0      1145\n",
       "14.0       588\n",
       "15.0        83\n",
       "16.0        17\n",
       "17.0         6\n",
       "161.0        4\n",
       "19.0         3\n",
       "Name: vehicle_age, dtype: int64"
      ]
     },
     "metadata": {},
     "output_type": "display_data"
    },
    {
     "name": "stdout",
     "output_type": "stream",
     "text": [
      "-----------------------------------------------------------\n",
      "Количество пропусков: 3220\n",
      "-----------------------------------------------------------\n"
     ]
    }
   ],
   "source": [
    "col_desc('vehicle_age')"
   ]
  },
  {
   "cell_type": "markdown",
   "id": "62a29dca",
   "metadata": {},
   "source": [
    "<b>Вывод</b>\n",
    "\n",
    "Признак имеет выбросы в виде значений равных 161 году, которые нужно удалить. Также в столбце присутствуют пропущенные значения, их больше нежели во всех предыдущих рассматриваемых признаках, однако их всё равно получается меньше 3% от общего количества данных, а значит их лучше будет удалить."
   ]
  },
  {
   "cell_type": "code",
   "execution_count": 43,
   "id": "a866c308",
   "metadata": {},
   "outputs": [],
   "source": [
    "data = data.loc[data['vehicle_age'] < 10]\n",
    "data = data.drop(data.loc[data['collision_time'].isna()].index, axis=0)"
   ]
  },
  {
   "cell_type": "markdown",
   "id": "1b9652a6",
   "metadata": {},
   "source": [
    "##### Признак 'at_fault'"
   ]
  },
  {
   "cell_type": "code",
   "execution_count": 44,
   "id": "111d1ec5",
   "metadata": {},
   "outputs": [
    {
     "name": "stdout",
     "output_type": "stream",
     "text": [
      "Описание признака:\n"
     ]
    },
    {
     "data": {
      "text/plain": [
       "count    100675.000000\n",
       "mean          0.476702\n",
       "std           0.499459\n",
       "min           0.000000\n",
       "25%           0.000000\n",
       "50%           0.000000\n",
       "75%           1.000000\n",
       "max           1.000000\n",
       "Name: at_fault, dtype: float64"
      ]
     },
     "metadata": {},
     "output_type": "display_data"
    },
    {
     "name": "stdout",
     "output_type": "stream",
     "text": [
      "-----------------------------------------------------------\n",
      "Уникальные значения:\n"
     ]
    },
    {
     "data": {
      "text/plain": [
       "0    52683\n",
       "1    47992\n",
       "Name: at_fault, dtype: int64"
      ]
     },
     "metadata": {},
     "output_type": "display_data"
    },
    {
     "name": "stdout",
     "output_type": "stream",
     "text": [
      "-----------------------------------------------------------\n",
      "Количество пропусков: 0\n",
      "-----------------------------------------------------------\n"
     ]
    }
   ],
   "source": [
    "col_desc('at_fault')"
   ]
  },
  {
   "cell_type": "markdown",
   "id": "78107808",
   "metadata": {},
   "source": [
    "<b>Вывод</b>\n",
    "\n",
    "Целевой признак в порядке, не требует каких-либо изменений."
   ]
  },
  {
   "cell_type": "markdown",
   "id": "af5305e3",
   "metadata": {},
   "source": [
    "##### Признак 'party_sobriety'"
   ]
  },
  {
   "cell_type": "code",
   "execution_count": 45,
   "id": "7cb310da",
   "metadata": {},
   "outputs": [
    {
     "name": "stdout",
     "output_type": "stream",
     "text": [
      "Описание признака:\n"
     ]
    },
    {
     "data": {
      "text/plain": [
       "count                     98813\n",
       "unique                        6\n",
       "top       had not been drinking\n",
       "freq                      83422\n",
       "Name: party_sobriety, dtype: object"
      ]
     },
     "metadata": {},
     "output_type": "display_data"
    },
    {
     "name": "stdout",
     "output_type": "stream",
     "text": [
      "-----------------------------------------------------------\n",
      "Уникальные значения:\n"
     ]
    },
    {
     "data": {
      "text/plain": [
       "had not been drinking                     83422\n",
       "had been drinking, under influence         5891\n",
       "impairment unknown                         4842\n",
       "not applicable                             3348\n",
       "had been drinking, not under influence      835\n",
       "had been drinking, impairment unknown       475\n",
       "Name: party_sobriety, dtype: int64"
      ]
     },
     "metadata": {},
     "output_type": "display_data"
    },
    {
     "name": "stdout",
     "output_type": "stream",
     "text": [
      "-----------------------------------------------------------\n",
      "Количество пропусков: 1862\n",
      "-----------------------------------------------------------\n"
     ]
    }
   ],
   "source": [
    "col_desc('party_sobriety')"
   ]
  },
  {
   "cell_type": "markdown",
   "id": "aa4850b4",
   "metadata": {},
   "source": [
    "<b>Вывод</b>\n",
    "\n",
    "В столбце присутствуют пропущенные значения, их больше нежели во всех предыдущих рассматриваемых признаках, однако их всё равно получается меньше 3% от общего количества данных, а значит их лучше будет удалить."
   ]
  },
  {
   "cell_type": "code",
   "execution_count": 46,
   "id": "5cf8fe18",
   "metadata": {},
   "outputs": [],
   "source": [
    "data = data.drop(data.loc[data['party_sobriety'].isna()].index, axis=0)"
   ]
  },
  {
   "cell_type": "markdown",
   "id": "e0849bb6",
   "metadata": {},
   "source": [
    "##### Признак 'party_drug_physical'"
   ]
  },
  {
   "cell_type": "code",
   "execution_count": 47,
   "id": "db171f78",
   "metadata": {},
   "outputs": [
    {
     "name": "stdout",
     "output_type": "stream",
     "text": [
      "Описание признака:\n"
     ]
    },
    {
     "data": {
      "text/plain": [
       "count     9181\n",
       "unique       5\n",
       "top          G\n",
       "freq      4842\n",
       "Name: party_drug_physical, dtype: object"
      ]
     },
     "metadata": {},
     "output_type": "display_data"
    },
    {
     "name": "stdout",
     "output_type": "stream",
     "text": [
      "-----------------------------------------------------------\n",
      "Уникальные значения:\n"
     ]
    },
    {
     "data": {
      "text/plain": [
       "G                        4842\n",
       "not applicable           3348\n",
       "under drug influence      720\n",
       "sleepy/fatigued           255\n",
       "impairment - physical      16\n",
       "Name: party_drug_physical, dtype: int64"
      ]
     },
     "metadata": {},
     "output_type": "display_data"
    },
    {
     "name": "stdout",
     "output_type": "stream",
     "text": [
      "-----------------------------------------------------------\n",
      "Количество пропусков: 89632\n",
      "-----------------------------------------------------------\n"
     ]
    }
   ],
   "source": [
    "col_desc('party_drug_physical')"
   ]
  },
  {
   "cell_type": "markdown",
   "id": "5e24d395",
   "metadata": {},
   "source": [
    "<b>Вывод</b>\n",
    "\n",
    "Столбец более чем на 90% состоит из пропусков, что делает его неинформативным для модели. Удаляем его"
   ]
  },
  {
   "cell_type": "code",
   "execution_count": 48,
   "id": "1b532166",
   "metadata": {},
   "outputs": [],
   "source": [
    "data = data.drop('party_drug_physical', axis=1)"
   ]
  },
  {
   "cell_type": "markdown",
   "id": "291ab4d8",
   "metadata": {},
   "source": [
    "##### Признак 'cellphone_in_use'"
   ]
  },
  {
   "cell_type": "code",
   "execution_count": 49,
   "id": "f12ec0d7",
   "metadata": {},
   "outputs": [
    {
     "name": "stdout",
     "output_type": "stream",
     "text": [
      "Описание признака:\n"
     ]
    },
    {
     "data": {
      "text/plain": [
       "count    89200.000000\n",
       "mean         0.021300\n",
       "std          0.144385\n",
       "min          0.000000\n",
       "25%          0.000000\n",
       "50%          0.000000\n",
       "75%          0.000000\n",
       "max          1.000000\n",
       "Name: cellphone_in_use, dtype: float64"
      ]
     },
     "metadata": {},
     "output_type": "display_data"
    },
    {
     "name": "stdout",
     "output_type": "stream",
     "text": [
      "-----------------------------------------------------------\n",
      "Уникальные значения:\n"
     ]
    },
    {
     "data": {
      "text/plain": [
       "0.0    87300\n",
       "1.0     1900\n",
       "Name: cellphone_in_use, dtype: int64"
      ]
     },
     "metadata": {},
     "output_type": "display_data"
    },
    {
     "name": "stdout",
     "output_type": "stream",
     "text": [
      "-----------------------------------------------------------\n",
      "Количество пропусков: 9613\n",
      "-----------------------------------------------------------\n"
     ]
    }
   ],
   "source": [
    "col_desc('cellphone_in_use')"
   ]
  },
  {
   "cell_type": "markdown",
   "id": "f9be854c",
   "metadata": {},
   "source": [
    "<b>Вывод</b>\n",
    "\n",
    "Столбец практически весь состоит из одинаковых значений и пропусков. Однако он может оказаться полезным для модели, т.к. всё несёт информацию и будет занимать только один столбец после обработки категориальных значений. Пропуски заполним медианой."
   ]
  },
  {
   "cell_type": "code",
   "execution_count": 50,
   "id": "44d973a1",
   "metadata": {},
   "outputs": [],
   "source": [
    "data['cellphone_in_use'] = data['cellphone_in_use'].fillna(data['cellphone_in_use'].median())"
   ]
  },
  {
   "cell_type": "code",
   "execution_count": 51,
   "id": "96a8521f",
   "metadata": {},
   "outputs": [
    {
     "name": "stdout",
     "output_type": "stream",
     "text": [
      "<class 'pandas.core.frame.DataFrame'>\n",
      "Int64Index: 98813 entries, 2 to 116968\n",
      "Data columns (total 12 columns):\n",
      " #   Column            Non-Null Count  Dtype  \n",
      "---  ------            --------------  -----  \n",
      " 0   intersection      98813 non-null  float64\n",
      " 1   weather_1         98813 non-null  object \n",
      " 2   road_surface      98813 non-null  object \n",
      " 3   road_condition_1  98813 non-null  object \n",
      " 4   lighting          98813 non-null  object \n",
      " 5   control_device    98813 non-null  object \n",
      " 6   collision_date    98813 non-null  object \n",
      " 7   collision_time    98813 non-null  object \n",
      " 8   vehicle_age       98813 non-null  float64\n",
      " 9   at_fault          98813 non-null  int64  \n",
      " 10  party_sobriety    98813 non-null  object \n",
      " 11  cellphone_in_use  98813 non-null  float64\n",
      "dtypes: float64(3), int64(1), object(8)\n",
      "memory usage: 9.8+ MB\n"
     ]
    }
   ],
   "source": [
    "data.info()"
   ]
  },
  {
   "cell_type": "code",
   "execution_count": 52,
   "id": "d9e888cd",
   "metadata": {},
   "outputs": [
    {
     "name": "stdout",
     "output_type": "stream",
     "text": [
      "<class 'pandas.core.frame.DataFrame'>\n",
      "Int64Index: 98813 entries, 2 to 116968\n",
      "Data columns (total 12 columns):\n",
      " #   Column            Non-Null Count  Dtype \n",
      "---  ------            --------------  ----- \n",
      " 0   intersection      98813 non-null  object\n",
      " 1   weather_1         98813 non-null  object\n",
      " 2   road_surface      98813 non-null  object\n",
      " 3   road_condition_1  98813 non-null  object\n",
      " 4   lighting          98813 non-null  object\n",
      " 5   control_device    98813 non-null  object\n",
      " 6   collision_date    98813 non-null  object\n",
      " 7   collision_time    98813 non-null  object\n",
      " 8   vehicle_age       98813 non-null  int32 \n",
      " 9   at_fault          98813 non-null  int64 \n",
      " 10  party_sobriety    98813 non-null  object\n",
      " 11  cellphone_in_use  98813 non-null  object\n",
      "dtypes: int32(1), int64(1), object(10)\n",
      "memory usage: 9.4+ MB\n"
     ]
    }
   ],
   "source": [
    "data[['intersection', 'cellphone_in_use']] = data[['intersection', 'cellphone_in_use']].astype(object)\n",
    "data['vehicle_age'] = data['vehicle_age'].astype(int)\n",
    "\n",
    "data.info()"
   ]
  },
  {
   "cell_type": "markdown",
   "id": "5594f931",
   "metadata": {},
   "source": [
    "##### Вывод"
   ]
  },
  {
   "cell_type": "markdown",
   "id": "94b35932",
   "metadata": {},
   "source": [
    "Рассмотрены все признаки, отобраны только наиболее важные. Обработаны пропуски. Изменены типы данных."
   ]
  },
  {
   "cell_type": "markdown",
   "id": "16038474",
   "metadata": {},
   "source": [
    "## Построение моделей"
   ]
  },
  {
   "cell_type": "markdown",
   "id": "9f9e148c",
   "metadata": {},
   "source": [
    "<b>Выбор метрики</b>\n",
    "\n",
    "Нам важны и полнота и точность предсказаний, что наталкивает нас на использование F1-метрики. Однако мы не знаем даже примерного порогового значения этой метрики для подобных классификаторов. Поэтому при выборе наилучших моделей мы будем использовать F1-метрику, а уже их оценивать между собой также учитывая метрику AUC-ROC, потому что она учитывает эффективность модели при различных пороговых значениях и является комплексной метрикой для оценки того, насколько хорошо разделяются случаи в разных группах."
   ]
  },
  {
   "cell_type": "markdown",
   "id": "b73df6f1",
   "metadata": {},
   "source": [
    "### Подготовка выборок"
   ]
  },
  {
   "cell_type": "code",
   "execution_count": 53,
   "id": "b30b667c",
   "metadata": {},
   "outputs": [],
   "source": [
    "numeric = ['vehicle_age']\n",
    "categorical = ['intersection', 'weather_1', 'road_surface', 'road_condition_1', 'lighting', 'control_device', 'collision_date',\n",
    "              'collision_time', 'party_sobriety', 'cellphone_in_use']"
   ]
  },
  {
   "cell_type": "code",
   "execution_count": 54,
   "id": "50f0d877",
   "metadata": {},
   "outputs": [],
   "source": [
    "# Для моделей LGB\n",
    "\n",
    "data_train, data_test = train_test_split(data, test_size=0.2, shuffle=True, random_state=123)\n",
    "\n",
    "data_train_LGB = data_train.copy()\n",
    "data_test_LGB = data_test.copy()\n",
    "\n",
    "obj_feat = list(data_train_LGB.loc[:, data_train_LGB.dtypes == 'object'].columns.values)\n",
    "for feature in obj_feat:\n",
    "    data_train_LGB[feature] = pd.Series(data_train_LGB[feature], dtype=\"category\")\n",
    "    data_test_LGB[feature] = pd.Series(data_test_LGB[feature], dtype=\"category\")\n",
    "\n",
    "\n",
    "    \n",
    "features_train_LGB = data_train_LGB.drop('at_fault', axis=1)\n",
    "target_train_LGB = data_train_LGB['at_fault']\n",
    "features_train_LGB, features_valid_LGB, target_train_LGB, target_valid_LGB = train_test_split(features_train_LGB, target_train_LGB, test_size=0.2, shuffle=True, random_state=123)\n",
    "features_test_LGB = data_test_LGB.drop('at_fault', axis=1)\n",
    "target_test_LGB = data_test_LGB['at_fault']\n",
    "\n",
    "scaler = StandardScaler()\n",
    "scaler.fit(features_train_LGB[numeric])\n",
    "features_train_LGB[numeric] = scaler.transform(features_train_LGB[numeric])\n",
    "features_test_LGB[numeric] = scaler.transform(features_test_LGB[numeric])"
   ]
  },
  {
   "cell_type": "code",
   "execution_count": 55,
   "id": "35ba33db",
   "metadata": {},
   "outputs": [],
   "source": [
    "# Для классических моделей sklearn\n",
    "\n",
    "features_train = data_train.drop('at_fault', axis=1)\n",
    "target_train = data_train['at_fault']\n",
    "features_test = data_test.drop('at_fault', axis=1)\n",
    "target_test = data_test['at_fault']\n",
    "\n",
    "col_transformer = ColumnTransformer(\n",
    "    transformers=[('ss', StandardScaler(), numeric),\n",
    "                  ('ohe', OneHotEncoder(drop='first'), categorical)], \n",
    "    remainder='passthrough', n_jobs=-1,  sparse_threshold=0)\n",
    "\n",
    "col_transformer.fit(features_train)\n",
    "\n",
    "features_train = col_transformer.transform(features_train)\n",
    "features_test = col_transformer.transform(features_test)"
   ]
  },
  {
   "cell_type": "markdown",
   "id": "f5e3ef5f",
   "metadata": {},
   "source": [
    "### Построение моделей sklearn"
   ]
  },
  {
   "cell_type": "markdown",
   "id": "b8597443",
   "metadata": {},
   "source": [
    "Рассмотрим классические модели машинного обучения Decision Tree Classifier и Random Forest Classifier."
   ]
  },
  {
   "cell_type": "code",
   "execution_count": 56,
   "id": "907a3e37",
   "metadata": {},
   "outputs": [
    {
     "data": {
      "text/plain": [
       "GridSearchCV(estimator=DecisionTreeClassifier(random_state=123), n_jobs=-1,\n",
       "             param_grid={'class_weight': ['balanced'],\n",
       "                         'max_depth': range(5, 91, 5)},\n",
       "             scoring='f1')"
      ]
     },
     "execution_count": 56,
     "metadata": {},
     "output_type": "execute_result"
    }
   ],
   "source": [
    "# Decision Tree Classifier\n",
    "\n",
    "params = {\n",
    "    'max_depth': range(5, 91, 5),\n",
    "    'class_weight':['balanced']\n",
    "}\n",
    "\n",
    "grid_dt = GridSearchCV(DecisionTreeClassifier(random_state=123), params, n_jobs=-1, scoring = 'f1')\n",
    "\n",
    "grid_dt.fit(features_train, target_train)"
   ]
  },
  {
   "cell_type": "code",
   "execution_count": 57,
   "id": "c84bf122",
   "metadata": {},
   "outputs": [
    {
     "name": "stdout",
     "output_type": "stream",
     "text": [
      "Decision Tree Classifier\n",
      "Подобранные параметры:\n",
      "{'class_weight': 'balanced', 'max_depth': 60}\n",
      "F1-метрика на обучающей выборке: 0.45184126630467414\n",
      "F1-метрика на тестовой выборке: 0.4213415680219592\n",
      "AUC-ROC: 0.4832441959434426\n"
     ]
    }
   ],
   "source": [
    "f1_train_list =[]\n",
    "f1_test_list = []\n",
    "auc_list = []\n",
    "\n",
    "print('Decision Tree Classifier')\n",
    "print('Подобранные параметры:')\n",
    "print(grid_dt.best_params_)\n",
    "print('F1-метрика на обучающей выборке:', grid_dt.best_score_ )\n",
    "f1_train_list.append(grid_dt.best_score_)\n",
    "\n",
    "predictions = grid_dt.predict(features_test)\n",
    "f1_test = f1_score(target_test, predictions)\n",
    "print('F1-метрика на тестовой выборке:', f1_test )\n",
    "f1_test_list.append(f1_test)\n",
    "\n",
    "roc = roc_auc_score(target_test, predictions)\n",
    "auc_list.append(roc)\n",
    "print('AUC-ROC:', roc)"
   ]
  },
  {
   "cell_type": "code",
   "execution_count": 58,
   "id": "097121e7",
   "metadata": {},
   "outputs": [
    {
     "data": {
      "text/plain": [
       "GridSearchCV(estimator=RandomForestClassifier(random_state=123), n_jobs=-1,\n",
       "             param_grid={'class_weight': ['balanced'],\n",
       "                         'max_depth': range(15, 61, 5),\n",
       "                         'n_estimators': range(10, 41, 10)},\n",
       "             scoring='f1')"
      ]
     },
     "execution_count": 58,
     "metadata": {},
     "output_type": "execute_result"
    }
   ],
   "source": [
    "# Random Forest Classifier\n",
    "\n",
    "params = {\n",
    "    'max_depth': range(15, 61, 5),\n",
    "    'n_estimators': range(10, 41, 10),\n",
    "    'class_weight':['balanced']\n",
    "}\n",
    "\n",
    "grid_rf = GridSearchCV(RandomForestClassifier(random_state=123), params, n_jobs=-1, scoring = 'f1')\n",
    "\n",
    "grid_rf.fit(features_train, target_train)"
   ]
  },
  {
   "cell_type": "code",
   "execution_count": 59,
   "id": "95eebef1",
   "metadata": {},
   "outputs": [
    {
     "name": "stdout",
     "output_type": "stream",
     "text": [
      "Random Forest Classifier\n",
      "Подобранные параметры:\n",
      "{'class_weight': 'balanced', 'max_depth': 60, 'n_estimators': 10}\n",
      "F1-метрика на обучающей выборке: 0.4503754016670215\n",
      "F1-метрика на тестовой выборке: 0.4229302352872147\n",
      "AUC-ROC: 0.4964635068687161\n"
     ]
    }
   ],
   "source": [
    "print('Random Forest Classifier')\n",
    "print('Подобранные параметры:')\n",
    "print(grid_rf.best_params_)\n",
    "print('F1-метрика на обучающей выборке:', grid_rf.best_score_ )\n",
    "f1_train_list.append(grid_rf.best_score_)\n",
    "\n",
    "predictions = grid_rf.predict(features_test)\n",
    "f1_test = f1_score(target_test, predictions)\n",
    "print('F1-метрика на тестовой выборке:', f1_test )\n",
    "f1_test_list.append(f1_test)\n",
    "\n",
    "roc = roc_auc_score(target_test, predictions)\n",
    "auc_list.append(roc)\n",
    "print('AUC-ROC:', roc)"
   ]
  },
  {
   "cell_type": "markdown",
   "id": "8f683a15",
   "metadata": {},
   "source": [
    "### Построение моделей LGB"
   ]
  },
  {
   "cell_type": "code",
   "execution_count": 60,
   "id": "8f8ce303",
   "metadata": {},
   "outputs": [
    {
     "data": {
      "text/plain": [
       "GridSearchCV(estimator=LGBMClassifier(random_state=123), n_jobs=-1,\n",
       "             param_grid={'boosting_type': ['gbdt'],\n",
       "                         'class_weight': ['balanced'], 'max_depth': [60],\n",
       "                         'n_estimators': [10]},\n",
       "             scoring='f1')"
      ]
     },
     "execution_count": 60,
     "metadata": {},
     "output_type": "execute_result"
    }
   ],
   "source": [
    "# LGBMClassifier\n",
    "\n",
    "param_list = list(grid_rf.best_params_.values())\n",
    "\n",
    "max_depth = param_list[1]\n",
    "n_estimators = param_list[2]\n",
    "\n",
    "params = {\n",
    "    'boosting_type': ['gbdt'],\n",
    "    'max_depth': [max_depth],\n",
    "    'n_estimators': [n_estimators],\n",
    "    'class_weight':['balanced']\n",
    "}\n",
    "\n",
    "grid_lgb = GridSearchCV(LGBMClassifier(random_state=123), params, n_jobs=-1, scoring = 'f1')\n",
    "\n",
    "grid_lgb.fit(features_train_LGB, target_train_LGB)"
   ]
  },
  {
   "cell_type": "code",
   "execution_count": 61,
   "id": "a069eb62",
   "metadata": {},
   "outputs": [
    {
     "name": "stdout",
     "output_type": "stream",
     "text": [
      "LGBMClassifier\n",
      "Подобранные параметры:\n",
      "{'boosting_type': 'gbdt', 'class_weight': 'balanced', 'max_depth': 60, 'n_estimators': 10}\n",
      "F1-метрика на обучающей выборке: 0.4212117679958835\n",
      "F1-метрика на тестовой выборке: 0.4180704441041348\n",
      "AUC-ROC: 0.5991841711533192\n"
     ]
    }
   ],
   "source": [
    "print('LGBMClassifier')\n",
    "print('Подобранные параметры:')\n",
    "print(grid_lgb.best_params_)\n",
    "print('F1-метрика на обучающей выборке:', grid_lgb.best_score_ )\n",
    "f1_train_list.append(grid_lgb.best_score_)\n",
    "\n",
    "predictions = grid_lgb.predict(features_test_LGB)\n",
    "f1_test = f1_score(target_test_LGB, predictions)\n",
    "print('F1-метрика на тестовой выборке:', f1_test )\n",
    "f1_test_list.append(f1_test)\n",
    "\n",
    "roc = roc_auc_score(target_test_LGB, predictions)\n",
    "auc_list.append(roc)\n",
    "print('AUC-ROC:', roc)"
   ]
  },
  {
   "cell_type": "markdown",
   "id": "39048f49",
   "metadata": {},
   "source": [
    "### Сравнение моделей"
   ]
  },
  {
   "cell_type": "code",
   "execution_count": 62,
   "id": "c70864ba",
   "metadata": {},
   "outputs": [
    {
     "data": {
      "text/html": [
       "<div>\n",
       "<style scoped>\n",
       "    .dataframe tbody tr th:only-of-type {\n",
       "        vertical-align: middle;\n",
       "    }\n",
       "\n",
       "    .dataframe tbody tr th {\n",
       "        vertical-align: top;\n",
       "    }\n",
       "\n",
       "    .dataframe thead th {\n",
       "        text-align: right;\n",
       "    }\n",
       "</style>\n",
       "<table border=\"1\" class=\"dataframe\">\n",
       "  <thead>\n",
       "    <tr style=\"text-align: right;\">\n",
       "      <th></th>\n",
       "      <th>model</th>\n",
       "      <th>F1_train</th>\n",
       "      <th>F1_test</th>\n",
       "      <th>AUC-ROC</th>\n",
       "    </tr>\n",
       "  </thead>\n",
       "  <tbody>\n",
       "    <tr>\n",
       "      <th>0</th>\n",
       "      <td>Decision Tree Classifier</td>\n",
       "      <td>0.451841</td>\n",
       "      <td>0.421342</td>\n",
       "      <td>0.483244</td>\n",
       "    </tr>\n",
       "    <tr>\n",
       "      <th>1</th>\n",
       "      <td>Random Forest Classifier</td>\n",
       "      <td>0.450375</td>\n",
       "      <td>0.422930</td>\n",
       "      <td>0.496464</td>\n",
       "    </tr>\n",
       "    <tr>\n",
       "      <th>2</th>\n",
       "      <td>LGBMClassifier</td>\n",
       "      <td>0.421212</td>\n",
       "      <td>0.418070</td>\n",
       "      <td>0.599184</td>\n",
       "    </tr>\n",
       "  </tbody>\n",
       "</table>\n",
       "</div>"
      ],
      "text/plain": [
       "                      model  F1_train   F1_test   AUC-ROC\n",
       "0  Decision Tree Classifier  0.451841  0.421342  0.483244\n",
       "1  Random Forest Classifier  0.450375  0.422930  0.496464\n",
       "2            LGBMClassifier  0.421212  0.418070  0.599184"
      ]
     },
     "metadata": {},
     "output_type": "display_data"
    }
   ],
   "source": [
    "compare_models = pd.DataFrame()\n",
    "compare_models['model'] = ['Decision Tree Classifier', 'Random Forest Classifier', 'LGBMClassifier']\n",
    "compare_models['F1_train'] = f1_train_list\n",
    "compare_models['F1_test'] = f1_test_list\n",
    "compare_models['AUC-ROC'] = auc_list\n",
    "display(compare_models)"
   ]
  },
  {
   "cell_type": "markdown",
   "id": "df15c06d",
   "metadata": {},
   "source": [
    "<b>Вывод</b>\n",
    "\n"
   ]
  },
  {
   "cell_type": "markdown",
   "id": "d0a87360",
   "metadata": {},
   "source": [
    "Т.к. AUC-ROC у дерева решений и случайного леса ниже 0.5, что говорит о том, что они предсказывают хуже базовой модели, их рассматривать не будем, продолжим дальнейшую работу с моделью LGBM"
   ]
  },
  {
   "cell_type": "markdown",
   "id": "6dfb5d06",
   "metadata": {},
   "source": [
    "## Анализ важности факторов ДТП"
   ]
  },
  {
   "cell_type": "markdown",
   "id": "96274a04",
   "metadata": {},
   "source": [
    "### Матрица ошибок"
   ]
  },
  {
   "cell_type": "code",
   "execution_count": 63,
   "id": "b2ac3032",
   "metadata": {},
   "outputs": [
    {
     "data": {
      "image/png": "[encoded data removed]",
      "text/plain": [
       "<Figure size 864x432 with 2 Axes>"
      ]
     },
     "metadata": {},
     "output_type": "display_data"
    }
   ],
   "source": [
    "preds_test = grid_lgb.predict(features_test_LGB)\n",
    "\n",
    "conf_matrix = confusion_matrix(target_test_LGB, preds_test)\n",
    "\n",
    "df_conf_matrix = pd.DataFrame(conf_matrix, index=['True Negative', 'True Positive'],\n",
    "                 columns=['Predicted Negative', 'Predicted Positive'])\n",
    "\n",
    "sns.set(font_scale=1.2)\n",
    "plt.figure(figsize=(12,6))\n",
    "    \n",
    "sns.heatmap(conf_matrix, annot=True, fmt='g' ,xticklabels=df_conf_matrix.columns, yticklabels=df_conf_matrix.index, annot_kws={\"size\": 12})\n",
    "plt.title(\"Матрица ошибок\", size=12)\n",
    "plt.xlabel('Класс предсказаний')\n",
    "plt.ylabel('Реальный класс');"
   ]
  },
  {
   "cell_type": "code",
   "execution_count": 64,
   "id": "327d6765",
   "metadata": {},
   "outputs": [
    {
     "name": "stdout",
     "output_type": "stream",
     "text": [
      "Всего предсказаний: 19763\n",
      "Правильно классифицированные: 62.0%\n",
      "Правильно классифицированная вина: 59.0%\n",
      "Правильно классифицированое отсутствие вины: 74.0%\n",
      "Прогнозируемая вина, соответствующая действительности: 91.0%\n",
      "Прогнозируемое отсутствие вины, которой так же на самом деле нет: 29.0%\n"
     ]
    }
   ],
   "source": [
    "TP = conf_matrix[0][0]\n",
    "TN = conf_matrix[1][1]\n",
    "FP = conf_matrix[0][1]\n",
    "FN = conf_matrix[1][0]\n",
    "total = conf_matrix[0][0]+conf_matrix[1][1]+conf_matrix[0][1]+conf_matrix[1][0]\n",
    "\n",
    "print('Всего предсказаний:',total)\n",
    "print(f'Правильно классифицированные: {np.round((TP+TN)/total*100)}%')\n",
    "print(f'Правильно классифицированная вина: {np.round(TP/(TP+FN)*100)}%')\n",
    "print(f'Правильно классифицированое отсутствие вины: {np.round(TN/(TN+FP)*100)}%')\n",
    "print(f'Прогнозируемая вина, соответствующая действительности: {np.round(TP/(TP+FP)*100)}%')\n",
    "print(f'Прогнозируемое отсутствие вины, которой так же на самом деле нет: {np.round(TN/(TN+FN)*100)}%')"
   ]
  },
  {
   "cell_type": "markdown",
   "id": "b3af7e33",
   "metadata": {},
   "source": [
    "### Анализ важности основных факторов, влияющих на вероятность ДТП"
   ]
  },
  {
   "cell_type": "code",
   "execution_count": 65,
   "id": "238d86d3",
   "metadata": {},
   "outputs": [
    {
     "data": {
      "image/png": "[encoded data removed]",
      "text/plain": [
       "<Figure size 864x576 with 1 Axes>"
      ]
     },
     "metadata": {},
     "output_type": "display_data"
    }
   ],
   "source": [
    "plt.figure(figsize=(12, 8))\n",
    "feat_importances_dt = pd.Series((grid_lgb.best_estimator_.feature_importances_), index=features_train_LGB.columns)\n",
    "feat_importances_dt.nlargest(5).plot(kind='barh')\n",
    "plt.show()"
   ]
  },
  {
   "cell_type": "markdown",
   "id": "c2678338",
   "metadata": {},
   "source": [
    "<b>Вывод</b>\n",
    "\n",
    "Наиболее важный фактор для модели - время суток. Следующие по важности факторы идут: возраст автомобиля, трезвость участников, состояние дорожного покрытия и месяц."
   ]
  },
  {
   "cell_type": "code",
   "execution_count": 66,
   "id": "f3a5ae8b",
   "metadata": {},
   "outputs": [
    {
     "data": {
      "text/html": [
       "<div>\n",
       "<style scoped>\n",
       "    .dataframe tbody tr th:only-of-type {\n",
       "        vertical-align: middle;\n",
       "    }\n",
       "\n",
       "    .dataframe tbody tr th {\n",
       "        vertical-align: top;\n",
       "    }\n",
       "\n",
       "    .dataframe thead th {\n",
       "        text-align: right;\n",
       "    }\n",
       "</style>\n",
       "<table border=\"1\" class=\"dataframe\">\n",
       "  <thead>\n",
       "    <tr style=\"text-align: right;\">\n",
       "      <th></th>\n",
       "      <th>hours</th>\n",
       "      <th>count_of_collisions</th>\n",
       "    </tr>\n",
       "  </thead>\n",
       "  <tbody>\n",
       "    <tr>\n",
       "      <th>0</th>\n",
       "      <td>4.0</td>\n",
       "      <td>15255</td>\n",
       "    </tr>\n",
       "    <tr>\n",
       "      <th>1</th>\n",
       "      <td>3.0</td>\n",
       "      <td>18406</td>\n",
       "    </tr>\n",
       "    <tr>\n",
       "      <th>2</th>\n",
       "      <td>5.0</td>\n",
       "      <td>20194</td>\n",
       "    </tr>\n",
       "    <tr>\n",
       "      <th>3</th>\n",
       "      <td>0.0</td>\n",
       "      <td>26438</td>\n",
       "    </tr>\n",
       "    <tr>\n",
       "      <th>4</th>\n",
       "      <td>1.0</td>\n",
       "      <td>26611</td>\n",
       "    </tr>\n",
       "    <tr>\n",
       "      <th>5</th>\n",
       "      <td>2.0</td>\n",
       "      <td>28237</td>\n",
       "    </tr>\n",
       "    <tr>\n",
       "      <th>6</th>\n",
       "      <td>23.0</td>\n",
       "      <td>32549</td>\n",
       "    </tr>\n",
       "    <tr>\n",
       "      <th>7</th>\n",
       "      <td>6.0</td>\n",
       "      <td>33756</td>\n",
       "    </tr>\n",
       "    <tr>\n",
       "      <th>8</th>\n",
       "      <td>22.0</td>\n",
       "      <td>39195</td>\n",
       "    </tr>\n",
       "    <tr>\n",
       "      <th>9</th>\n",
       "      <td>21.0</td>\n",
       "      <td>45869</td>\n",
       "    </tr>\n",
       "    <tr>\n",
       "      <th>10</th>\n",
       "      <td>20.0</td>\n",
       "      <td>49210</td>\n",
       "    </tr>\n",
       "    <tr>\n",
       "      <th>11</th>\n",
       "      <td>9.0</td>\n",
       "      <td>58903</td>\n",
       "    </tr>\n",
       "    <tr>\n",
       "      <th>12</th>\n",
       "      <td>10.0</td>\n",
       "      <td>59558</td>\n",
       "    </tr>\n",
       "    <tr>\n",
       "      <th>13</th>\n",
       "      <td>19.0</td>\n",
       "      <td>61125</td>\n",
       "    </tr>\n",
       "    <tr>\n",
       "      <th>14</th>\n",
       "      <td>11.0</td>\n",
       "      <td>67970</td>\n",
       "    </tr>\n",
       "    <tr>\n",
       "      <th>15</th>\n",
       "      <td>7.0</td>\n",
       "      <td>71356</td>\n",
       "    </tr>\n",
       "    <tr>\n",
       "      <th>16</th>\n",
       "      <td>8.0</td>\n",
       "      <td>74860</td>\n",
       "    </tr>\n",
       "    <tr>\n",
       "      <th>17</th>\n",
       "      <td>12.0</td>\n",
       "      <td>79666</td>\n",
       "    </tr>\n",
       "    <tr>\n",
       "      <th>18</th>\n",
       "      <td>13.0</td>\n",
       "      <td>81840</td>\n",
       "    </tr>\n",
       "    <tr>\n",
       "      <th>19</th>\n",
       "      <td>18.0</td>\n",
       "      <td>89009</td>\n",
       "    </tr>\n",
       "    <tr>\n",
       "      <th>20</th>\n",
       "      <td>14.0</td>\n",
       "      <td>92105</td>\n",
       "    </tr>\n",
       "    <tr>\n",
       "      <th>21</th>\n",
       "      <td>16.0</td>\n",
       "      <td>99588</td>\n",
       "    </tr>\n",
       "    <tr>\n",
       "      <th>22</th>\n",
       "      <td>15.0</td>\n",
       "      <td>105866</td>\n",
       "    </tr>\n",
       "    <tr>\n",
       "      <th>23</th>\n",
       "      <td>17.0</td>\n",
       "      <td>110126</td>\n",
       "    </tr>\n",
       "  </tbody>\n",
       "</table>\n",
       "</div>"
      ],
      "text/plain": [
       "    hours  count_of_collisions\n",
       "0     4.0                15255\n",
       "1     3.0                18406\n",
       "2     5.0                20194\n",
       "3     0.0                26438\n",
       "4     1.0                26611\n",
       "5     2.0                28237\n",
       "6    23.0                32549\n",
       "7     6.0                33756\n",
       "8    22.0                39195\n",
       "9    21.0                45869\n",
       "10   20.0                49210\n",
       "11    9.0                58903\n",
       "12   10.0                59558\n",
       "13   19.0                61125\n",
       "14   11.0                67970\n",
       "15    7.0                71356\n",
       "16    8.0                74860\n",
       "17   12.0                79666\n",
       "18   13.0                81840\n",
       "19   18.0                89009\n",
       "20   14.0                92105\n",
       "21   16.0                99588\n",
       "22   15.0               105866\n",
       "23   17.0               110126"
      ]
     },
     "metadata": {},
     "output_type": "display_data"
    }
   ],
   "source": [
    "query = '''\n",
    "SELECT\n",
    "    EXTRACT(HOUR FROM collision_time ) AS hours,\n",
    "    count(case_id) AS count_of_collisions\n",
    "FROM collisions\n",
    "GROUP BY hours\n",
    "HAVING EXTRACT(HOUR FROM collision_time ) IS NOT NULL\n",
    "ORDER BY count_of_collisions\n",
    "'''\n",
    "\n",
    "table_1 = pd.read_sql_query(query, con=engine) \n",
    "display(table_1)"
   ]
  },
  {
   "cell_type": "code",
   "execution_count": 67,
   "id": "3f72f29f",
   "metadata": {},
   "outputs": [
    {
     "data": {
      "image/png": "[encoded data removed]",
      "text/plain": [
       "<Figure size 864x576 with 1 Axes>"
      ]
     },
     "metadata": {},
     "output_type": "display_data"
    }
   ],
   "source": [
    "plt.figure(figsize=(12, 8))\n",
    "plt.bar(table_1['hours'], table_1['count_of_collisions'])\n",
    "plt.gca().set(title='График количества ДТП по времени суток', ylabel='Количество ДТп', xlabel='Время суток(часы)')\n",
    "plt.show()"
   ]
  },
  {
   "cell_type": "markdown",
   "id": "66781607",
   "metadata": {},
   "source": [
    "#### Вывод"
   ]
  },
  {
   "cell_type": "markdown",
   "id": "a802ae5d",
   "metadata": {},
   "source": [
    "Судя по графику, количество ДТП действительно зависит от времени суток. Более того, наибольшее количество ДТП наблюдается в промежутке с 15 до 18 часов, когда люди едут домой с работы, также небольшой скачок наблюдается в 7-8 часов утра, когда едут на работу. Вполне логично предположить, что связь между временем суток и вероятностью ДТП появляется из-за нагруженности потока машин в определенное время - с большой вероятностью можно предположить, что если бы в данных была информация о нагруженности потока, то она также коррелировала, как и время суток, а может и точнее.\n",
    "\n",
    "\n",
    "При таком раскладе логичнее всего было бы предложить оборудовать автомобиль другой нейронной сетью, которая, кроме состояние дороги и других рассматриваемых в этом исследовании факторов, анализирует нагруженность дорог и наличие пробок, и строит более \"безопасный\" маршрут, где находится меньше машин, пускай на него и будет выходить на 10-15% больше времени (ставить больший приоритет на безопасность, а не на кратчайшее расстояние). Более того, если распространить такую систему на большое количество автомобилей, то нейронная сеть в режиме реального будет более менее равномерно распределять весь поток машин, что хоть и выходит за рамки данного проекта, но выглядит не менее полезно, как для бизнеса (большое распространение своей системы даст немалую прибыль для компании, создавшую её), так и для людей (меньше пробок и выше безопасность)."
   ]
  },
  {
   "cell_type": "markdown",
   "id": "2229caf6",
   "metadata": {},
   "source": [
    "## Выводы"
   ]
  },
  {
   "cell_type": "markdown",
   "id": "755876c8",
   "metadata": {},
   "source": [
    "### Краткое описание лучшей модели"
   ]
  },
  {
   "cell_type": "markdown",
   "id": "1991f897",
   "metadata": {},
   "source": [
    "Получена модель со следующими параметрами и результатами:"
   ]
  },
  {
   "cell_type": "code",
   "execution_count": 68,
   "id": "10963adb",
   "metadata": {},
   "outputs": [
    {
     "name": "stdout",
     "output_type": "stream",
     "text": [
      "                                           LGBMClassifier\n",
      "*********************************************************************************************************\n",
      "                                        Подобранные параметры:\n",
      "{'boosting_type': 'gbdt', 'class_weight': 'balanced', 'max_depth': 60, 'n_estimators': 10}\n",
      "*********************************************************************************************************\n",
      "                                       Полученные метрики модели\n"
     ]
    },
    {
     "data": {
      "text/plain": [
       "model       LGBMClassifier\n",
       "F1_train          0.421212\n",
       "F1_test            0.41807\n",
       "AUC-ROC           0.599184\n",
       "Name: 2, dtype: object"
      ]
     },
     "metadata": {},
     "output_type": "display_data"
    },
    {
     "name": "stdout",
     "output_type": "stream",
     "text": [
      "*********************************************************************************************************\n",
      "                                    Подробное описание результатов\n",
      "Всего предсказаний: 19763\n",
      "Правильно классифицированные: 62.0%\n",
      "Правильно классифицированная вина: 59.0%\n",
      "Правильно классифицированое отсутствие вины: 74.0%\n",
      "*********************************************************************************************************\n"
     ]
    }
   ],
   "source": [
    "print('                                           LGBMClassifier')\n",
    "print('*********************************************************************************************************')\n",
    "print('                                        Подобранные параметры:')\n",
    "print(grid_lgb.best_params_)\n",
    "print('*********************************************************************************************************')\n",
    "print('                                       Полученные метрики модели')\n",
    "display(compare_models.loc[2, :])\n",
    "TP = conf_matrix[0][0]\n",
    "TN = conf_matrix[1][1]\n",
    "FP = conf_matrix[0][1]\n",
    "FN = conf_matrix[1][0]\n",
    "total = conf_matrix[0][0]+conf_matrix[1][1]+conf_matrix[0][1]+conf_matrix[1][0]\n",
    "print('*********************************************************************************************************')\n",
    "print('                                    Подробное описание результатов')\n",
    "print('Всего предсказаний:',total)\n",
    "print(f'Правильно классифицированные: {np.round((TP+TN)/total*100)}%')\n",
    "print(f'Правильно классифицированная вина: {np.round(TP/(TP+FN)*100)}%')\n",
    "print(f'Правильно классифицированое отсутствие вины: {np.round(TN/(TN+FP)*100)}%')\n",
    "print('*********************************************************************************************************')"
   ]
  },
  {
   "cell_type": "markdown",
   "id": "87d89fb3",
   "metadata": {},
   "source": [
    "### Итоговый вывод"
   ]
  },
  {
   "cell_type": "markdown",
   "id": "5b1dfcf2",
   "metadata": {},
   "source": [
    "\n",
    "1. Выбранная модель предсказывает наличие вины чуть больше чем в половине случаев, что уже не так плохо, однако и не слишком хорошо. Возможно результаты были бы лучше, если применить другой тип моделей и перебрать больше параметров, но маловероятно, что в итоге будет получен заметно лучший результат. \n",
    "\n",
    "\n",
    "2. Создание адекватной системы оценки риска при выдаче авто возможен, т.к. уже сейчас получилось предсказать интересующие значения больше чем в половине случаев, значит это возможно. Однако для создания такой системы нужны дополнительные данные, тогда и результаты метрик качества(точности) будут выше.\n",
    "\n",
    "\n",
    "3. Факторы, которые ещё необходимо собирать: \n",
    "- информация о загруженности дорог в реальном времени; \n",
    "- определить опасные участки на конкретных маршрутах и, которые будут определяться лишь количеством аварий на конкретном участке, и если выбранный пользователем маршрут проложен через большое количество, то обозначать это определенным значением в данных.\n",
    "- стаж водителя"
   ]
  }
 ],
 "metadata": {
  "ExecuteTimeLog": [
   {
    "duration": 1497,
    "start_time": "2022-10-14T15:34:29.514Z"
   },
   {
    "duration": 3,
    "start_time": "2022-10-14T15:35:30.294Z"
   },
   {
    "duration": 115,
    "start_time": "2022-10-14T15:35:30.700Z"
   },
   {
    "duration": 3,
    "start_time": "2022-10-14T15:35:46.790Z"
   },
   {
    "duration": 10897,
    "start_time": "2022-10-14T15:35:47.158Z"
   },
   {
    "duration": 83,
    "start_time": "2022-10-14T15:40:34.453Z"
   },
   {
    "duration": 19,
    "start_time": "2022-10-14T15:41:13.663Z"
   },
   {
    "duration": 12,
    "start_time": "2022-10-14T15:41:26.676Z"
   },
   {
    "duration": 9,
    "start_time": "2022-10-14T15:41:53.165Z"
   },
   {
    "duration": 284,
    "start_time": "2022-10-14T16:21:30.726Z"
   },
   {
    "duration": 272,
    "start_time": "2022-10-14T16:21:46.290Z"
   },
   {
    "duration": 211,
    "start_time": "2022-10-14T16:23:47.118Z"
   },
   {
    "duration": 166,
    "start_time": "2022-10-14T16:25:47.624Z"
   },
   {
    "duration": 220,
    "start_time": "2022-10-14T16:25:54.630Z"
   },
   {
    "duration": 152,
    "start_time": "2022-10-14T16:32:49.968Z"
   },
   {
    "duration": 246,
    "start_time": "2022-10-14T16:33:10.324Z"
   },
   {
    "duration": 143,
    "start_time": "2022-10-14T16:33:52.280Z"
   },
   {
    "duration": 136,
    "start_time": "2022-10-14T16:34:04.441Z"
   },
   {
    "duration": 151,
    "start_time": "2022-10-14T16:34:15.799Z"
   },
   {
    "duration": 138,
    "start_time": "2022-10-14T17:29:38.129Z"
   },
   {
    "duration": 103,
    "start_time": "2022-10-14T19:30:17.126Z"
   },
   {
    "duration": 0,
    "start_time": "2022-10-14T19:31:53.375Z"
   },
   {
    "duration": 121,
    "start_time": "2022-10-14T19:38:46.735Z"
   },
   {
    "duration": 101,
    "start_time": "2022-10-14T19:38:55.767Z"
   },
   {
    "duration": 93,
    "start_time": "2022-10-14T19:39:09.512Z"
   },
   {
    "duration": 260,
    "start_time": "2022-10-14T19:40:01.943Z"
   },
   {
    "duration": 147,
    "start_time": "2022-10-14T19:40:16.469Z"
   },
   {
    "duration": 140,
    "start_time": "2022-10-14T19:40:58.270Z"
   },
   {
    "duration": 2875,
    "start_time": "2022-10-14T19:41:07.765Z"
   },
   {
    "duration": 23007,
    "start_time": "2022-10-14T19:41:14.470Z"
   },
   {
    "duration": 344,
    "start_time": "2022-10-14T19:41:48.774Z"
   },
   {
    "duration": 396,
    "start_time": "2022-10-14T19:54:54.877Z"
   },
   {
    "duration": 13,
    "start_time": "2022-10-14T19:57:48.989Z"
   },
   {
    "duration": 37151,
    "start_time": "2022-10-14T19:58:00.739Z"
   },
   {
    "duration": 371,
    "start_time": "2022-10-14T19:58:37.892Z"
   },
   {
    "duration": 453,
    "start_time": "2022-10-14T19:58:43.908Z"
   },
   {
    "duration": 5,
    "start_time": "2022-10-14T20:04:28.370Z"
   },
   {
    "duration": 34,
    "start_time": "2022-10-14T20:04:37.140Z"
   },
   {
    "duration": 41,
    "start_time": "2022-10-14T21:11:28.793Z"
   },
   {
    "duration": 36,
    "start_time": "2022-10-14T22:13:22.831Z"
   },
   {
    "duration": 80,
    "start_time": "2022-10-14T22:14:12.086Z"
   },
   {
    "duration": 60,
    "start_time": "2022-10-14T22:14:21.796Z"
   },
   {
    "duration": 118,
    "start_time": "2022-10-14T22:14:45.165Z"
   },
   {
    "duration": 240,
    "start_time": "2022-10-14T22:16:24.092Z"
   },
   {
    "duration": 172,
    "start_time": "2022-10-14T22:16:32.605Z"
   },
   {
    "duration": 39,
    "start_time": "2022-10-14T22:18:11.382Z"
   },
   {
    "duration": 334,
    "start_time": "2022-10-14T22:21:31.046Z"
   },
   {
    "duration": 84,
    "start_time": "2022-10-14T22:22:18.333Z"
   },
   {
    "duration": 30,
    "start_time": "2022-10-14T22:22:22.111Z"
   },
   {
    "duration": 596301,
    "start_time": "2022-10-14T22:22:38.151Z"
   },
   {
    "duration": 944,
    "start_time": "2022-10-14T22:32:45.976Z"
   },
   {
    "duration": 856,
    "start_time": "2022-10-14T22:33:09.347Z"
   },
   {
    "duration": 898,
    "start_time": "2022-10-14T22:33:44.799Z"
   },
   {
    "duration": 1300,
    "start_time": "2022-10-14T22:34:08.951Z"
   },
   {
    "duration": 0,
    "start_time": "2022-10-14T22:34:10.253Z"
   },
   {
    "duration": 0,
    "start_time": "2022-10-14T22:34:10.254Z"
   },
   {
    "duration": 0,
    "start_time": "2022-10-14T22:34:10.255Z"
   },
   {
    "duration": 0,
    "start_time": "2022-10-14T22:34:10.259Z"
   },
   {
    "duration": 0,
    "start_time": "2022-10-14T22:34:10.260Z"
   },
   {
    "duration": 0,
    "start_time": "2022-10-14T22:34:10.261Z"
   },
   {
    "duration": 0,
    "start_time": "2022-10-14T22:34:10.262Z"
   },
   {
    "duration": 0,
    "start_time": "2022-10-14T22:34:10.263Z"
   },
   {
    "duration": 0,
    "start_time": "2022-10-14T22:34:10.263Z"
   },
   {
    "duration": 0,
    "start_time": "2022-10-14T22:34:10.264Z"
   },
   {
    "duration": 0,
    "start_time": "2022-10-14T22:34:10.266Z"
   },
   {
    "duration": 0,
    "start_time": "2022-10-14T22:34:10.266Z"
   },
   {
    "duration": 0,
    "start_time": "2022-10-14T22:34:10.267Z"
   },
   {
    "duration": 0,
    "start_time": "2022-10-14T22:34:10.268Z"
   },
   {
    "duration": 1353,
    "start_time": "2022-10-14T22:34:37.541Z"
   },
   {
    "duration": 3,
    "start_time": "2022-10-14T22:34:38.897Z"
   },
   {
    "duration": 7806,
    "start_time": "2022-10-14T22:34:38.902Z"
   },
   {
    "duration": 70,
    "start_time": "2022-10-14T22:34:46.710Z"
   },
   {
    "duration": 18,
    "start_time": "2022-10-14T22:34:46.781Z"
   },
   {
    "duration": 26,
    "start_time": "2022-10-14T22:34:46.802Z"
   },
   {
    "duration": 25,
    "start_time": "2022-10-14T22:34:46.830Z"
   },
   {
    "duration": 259,
    "start_time": "2022-10-14T22:34:46.857Z"
   },
   {
    "duration": 153,
    "start_time": "2022-10-14T22:34:47.118Z"
   },
   {
    "duration": 28809,
    "start_time": "2022-10-14T22:34:47.274Z"
   },
   {
    "duration": 421,
    "start_time": "2022-10-14T22:35:16.084Z"
   },
   {
    "duration": 480,
    "start_time": "2022-10-14T22:35:16.507Z"
   },
   {
    "duration": 210,
    "start_time": "2022-10-14T22:35:16.989Z"
   },
   {
    "duration": 696929,
    "start_time": "2022-10-14T22:35:17.201Z"
   },
   {
    "duration": 2,
    "start_time": "2022-10-14T22:46:54.139Z"
   },
   {
    "duration": 265,
    "start_time": "2022-10-14T22:49:04.275Z"
   },
   {
    "duration": 135,
    "start_time": "2022-10-14T22:49:14.796Z"
   },
   {
    "duration": 153,
    "start_time": "2022-10-14T22:50:41.508Z"
   },
   {
    "duration": 4,
    "start_time": "2022-10-14T22:58:53.131Z"
   },
   {
    "duration": 107,
    "start_time": "2022-10-14T22:59:14.780Z"
   },
   {
    "duration": 19,
    "start_time": "2022-10-14T23:03:43.102Z"
   },
   {
    "duration": 348,
    "start_time": "2022-10-14T23:04:23.252Z"
   },
   {
    "duration": 199,
    "start_time": "2022-10-14T23:04:42.853Z"
   },
   {
    "duration": 159,
    "start_time": "2022-10-14T23:04:48.640Z"
   },
   {
    "duration": 202,
    "start_time": "2022-10-14T23:04:54.613Z"
   },
   {
    "duration": 273,
    "start_time": "2022-10-14T23:04:58.644Z"
   },
   {
    "duration": 38,
    "start_time": "2022-10-14T23:07:41.833Z"
   },
   {
    "duration": 19,
    "start_time": "2022-10-14T23:07:59.797Z"
   },
   {
    "duration": 7,
    "start_time": "2022-10-14T23:13:11.612Z"
   },
   {
    "duration": 6,
    "start_time": "2022-10-14T23:13:21.132Z"
   },
   {
    "duration": 10,
    "start_time": "2022-10-14T23:13:42.310Z"
   },
   {
    "duration": 25,
    "start_time": "2022-10-14T23:14:27.536Z"
   },
   {
    "duration": 106,
    "start_time": "2022-10-14T23:14:43.771Z"
   },
   {
    "duration": 74,
    "start_time": "2022-10-14T23:15:18.069Z"
   },
   {
    "duration": 35,
    "start_time": "2022-10-14T23:15:22.135Z"
   },
   {
    "duration": 121,
    "start_time": "2022-10-14T23:16:47.166Z"
   },
   {
    "duration": 73,
    "start_time": "2022-10-14T23:18:43.054Z"
   },
   {
    "duration": 135,
    "start_time": "2022-10-14T23:19:03.646Z"
   },
   {
    "duration": 71,
    "start_time": "2022-10-14T23:19:20.421Z"
   },
   {
    "duration": 23,
    "start_time": "2022-10-14T23:24:28.443Z"
   },
   {
    "duration": 33,
    "start_time": "2022-10-14T23:24:33.845Z"
   },
   {
    "duration": 131,
    "start_time": "2022-10-14T23:24:46.517Z"
   },
   {
    "duration": 125,
    "start_time": "2022-10-14T23:25:11.949Z"
   },
   {
    "duration": 78,
    "start_time": "2022-10-14T23:26:00.527Z"
   },
   {
    "duration": 128,
    "start_time": "2022-10-14T23:26:32.736Z"
   },
   {
    "duration": 117,
    "start_time": "2022-10-14T23:26:50.233Z"
   },
   {
    "duration": 91,
    "start_time": "2022-10-14T23:29:17.781Z"
   },
   {
    "duration": 134,
    "start_time": "2022-10-14T23:29:38.069Z"
   },
   {
    "duration": 119,
    "start_time": "2022-10-14T23:29:56.935Z"
   },
   {
    "duration": 81,
    "start_time": "2022-10-14T23:30:28.309Z"
   },
   {
    "duration": 110,
    "start_time": "2022-10-14T23:30:46.141Z"
   },
   {
    "duration": 136,
    "start_time": "2022-10-14T23:31:00.433Z"
   },
   {
    "duration": 89,
    "start_time": "2022-10-14T23:31:27.757Z"
   },
   {
    "duration": 125,
    "start_time": "2022-10-14T23:31:31.558Z"
   },
   {
    "duration": 113,
    "start_time": "2022-10-14T23:31:51.942Z"
   },
   {
    "duration": 89,
    "start_time": "2022-10-14T23:34:25.686Z"
   },
   {
    "duration": 127,
    "start_time": "2022-10-14T23:34:39.741Z"
   },
   {
    "duration": 29,
    "start_time": "2022-10-14T23:34:53.781Z"
   },
   {
    "duration": 28,
    "start_time": "2022-10-14T23:36:05.653Z"
   },
   {
    "duration": 64,
    "start_time": "2022-10-14T23:36:43.238Z"
   },
   {
    "duration": 119,
    "start_time": "2022-10-14T23:36:54.078Z"
   },
   {
    "duration": 18,
    "start_time": "2022-10-14T23:37:16.597Z"
   },
   {
    "duration": 131,
    "start_time": "2022-10-14T23:37:32.966Z"
   },
   {
    "duration": 118,
    "start_time": "2022-10-14T23:41:35.943Z"
   },
   {
    "duration": 125,
    "start_time": "2022-10-14T23:41:53.189Z"
   },
   {
    "duration": 20,
    "start_time": "2022-10-14T23:42:08.614Z"
   },
   {
    "duration": 119,
    "start_time": "2022-10-14T23:42:58.389Z"
   },
   {
    "duration": 74,
    "start_time": "2022-10-14T23:44:52.703Z"
   },
   {
    "duration": 55,
    "start_time": "2022-10-14T23:45:51.551Z"
   },
   {
    "duration": 123,
    "start_time": "2022-10-14T23:46:20.027Z"
   },
   {
    "duration": 114,
    "start_time": "2022-10-14T23:46:46.494Z"
   },
   {
    "duration": 31,
    "start_time": "2022-10-14T23:46:57.846Z"
   },
   {
    "duration": 50,
    "start_time": "2022-10-14T23:48:10.766Z"
   },
   {
    "duration": 122,
    "start_time": "2022-10-14T23:48:24.518Z"
   },
   {
    "duration": 17,
    "start_time": "2022-10-14T23:48:38.035Z"
   },
   {
    "duration": 6,
    "start_time": "2022-10-14T23:53:42.183Z"
   },
   {
    "duration": 135,
    "start_time": "2022-10-14T23:53:47.790Z"
   },
   {
    "duration": 69,
    "start_time": "2022-10-14T23:54:00.838Z"
   },
   {
    "duration": 117,
    "start_time": "2022-10-14T23:54:03.758Z"
   },
   {
    "duration": 1251,
    "start_time": "2022-10-14T23:54:30.480Z"
   },
   {
    "duration": 3,
    "start_time": "2022-10-14T23:54:31.733Z"
   },
   {
    "duration": 8214,
    "start_time": "2022-10-14T23:54:31.738Z"
   },
   {
    "duration": 66,
    "start_time": "2022-10-14T23:54:39.953Z"
   },
   {
    "duration": 26,
    "start_time": "2022-10-14T23:54:40.021Z"
   },
   {
    "duration": 9,
    "start_time": "2022-10-14T23:54:40.048Z"
   },
   {
    "duration": 18,
    "start_time": "2022-10-14T23:54:40.059Z"
   },
   {
    "duration": 268,
    "start_time": "2022-10-14T23:54:40.078Z"
   },
   {
    "duration": 143,
    "start_time": "2022-10-14T23:54:40.347Z"
   },
   {
    "duration": 21522,
    "start_time": "2022-10-14T23:54:40.491Z"
   },
   {
    "duration": 397,
    "start_time": "2022-10-14T23:55:02.014Z"
   },
   {
    "duration": 452,
    "start_time": "2022-10-14T23:55:02.413Z"
   },
   {
    "duration": 175,
    "start_time": "2022-10-14T23:55:02.867Z"
   },
   {
    "duration": 1611,
    "start_time": "2022-10-15T03:19:20.745Z"
   },
   {
    "duration": 4,
    "start_time": "2022-10-15T03:19:22.358Z"
   },
   {
    "duration": 4835,
    "start_time": "2022-10-15T03:19:22.363Z"
   },
   {
    "duration": 240,
    "start_time": "2022-10-15T03:19:27.200Z"
   },
   {
    "duration": 51,
    "start_time": "2022-10-15T03:19:27.442Z"
   },
   {
    "duration": 44,
    "start_time": "2022-10-15T03:19:27.495Z"
   },
   {
    "duration": 43,
    "start_time": "2022-10-15T03:19:27.541Z"
   },
   {
    "duration": 248,
    "start_time": "2022-10-15T03:19:27.586Z"
   },
   {
    "duration": 172,
    "start_time": "2022-10-15T03:19:27.835Z"
   },
   {
    "duration": 26529,
    "start_time": "2022-10-15T03:19:28.010Z"
   },
   {
    "duration": 467,
    "start_time": "2022-10-15T03:19:54.541Z"
   },
   {
    "duration": 530,
    "start_time": "2022-10-15T03:19:55.009Z"
   },
   {
    "duration": 221,
    "start_time": "2022-10-15T03:19:55.540Z"
   },
   {
    "duration": 738503,
    "start_time": "2022-10-15T03:19:55.762Z"
   },
   {
    "duration": 445,
    "start_time": "2022-10-15T03:32:14.266Z"
   },
   {
    "duration": 160,
    "start_time": "2022-10-15T03:32:14.712Z"
   },
   {
    "duration": 3,
    "start_time": "2022-10-15T03:32:14.874Z"
   },
   {
    "duration": 23,
    "start_time": "2022-10-15T03:32:14.879Z"
   },
   {
    "duration": 413,
    "start_time": "2022-10-15T03:32:14.903Z"
   },
   {
    "duration": 68,
    "start_time": "2022-10-15T03:32:15.317Z"
   },
   {
    "duration": 19,
    "start_time": "2022-10-15T03:32:15.387Z"
   },
   {
    "duration": 94,
    "start_time": "2022-10-15T03:32:15.408Z"
   },
   {
    "duration": 163,
    "start_time": "2022-10-15T03:32:15.505Z"
   },
   {
    "duration": 109,
    "start_time": "2022-10-15T03:32:15.670Z"
   },
   {
    "duration": 94,
    "start_time": "2022-10-15T03:32:15.780Z"
   },
   {
    "duration": 57,
    "start_time": "2022-10-15T03:32:15.875Z"
   },
   {
    "duration": 168,
    "start_time": "2022-10-15T03:32:15.934Z"
   },
   {
    "duration": 123,
    "start_time": "2022-10-15T03:32:16.106Z"
   },
   {
    "duration": 159,
    "start_time": "2022-10-15T03:32:16.231Z"
   },
   {
    "duration": 103,
    "start_time": "2022-10-15T03:32:16.392Z"
   },
   {
    "duration": 159,
    "start_time": "2022-10-15T03:32:16.497Z"
   },
   {
    "duration": 106,
    "start_time": "2022-10-15T03:32:16.658Z"
   },
   {
    "duration": 150,
    "start_time": "2022-10-15T03:32:16.766Z"
   },
   {
    "duration": 107,
    "start_time": "2022-10-15T03:32:16.918Z"
   },
   {
    "duration": 41,
    "start_time": "2022-10-15T03:32:17.026Z"
   },
   {
    "duration": 30,
    "start_time": "2022-10-15T03:32:17.069Z"
   },
   {
    "duration": 110,
    "start_time": "2022-10-15T03:32:17.100Z"
   },
   {
    "duration": 20,
    "start_time": "2022-10-15T03:32:17.212Z"
   },
   {
    "duration": 148,
    "start_time": "2022-10-15T03:32:17.234Z"
   },
   {
    "duration": 16,
    "start_time": "2022-10-15T03:32:17.384Z"
   },
   {
    "duration": 116,
    "start_time": "2022-10-15T03:32:17.401Z"
   },
   {
    "duration": 101,
    "start_time": "2022-10-15T03:32:17.519Z"
   },
   {
    "duration": 33,
    "start_time": "2022-10-15T03:32:17.622Z"
   },
   {
    "duration": 60,
    "start_time": "2022-10-15T03:32:17.657Z"
   },
   {
    "duration": 38,
    "start_time": "2022-10-15T03:32:17.719Z"
   },
   {
    "duration": 7,
    "start_time": "2022-10-15T03:32:17.758Z"
   },
   {
    "duration": 152,
    "start_time": "2022-10-15T03:32:17.767Z"
   },
   {
    "duration": 8,
    "start_time": "2022-10-15T03:32:17.920Z"
   },
   {
    "duration": 743,
    "start_time": "2022-10-15T03:44:43.662Z"
   },
   {
    "duration": 668,
    "start_time": "2022-10-15T03:44:54.340Z"
   },
   {
    "duration": 132,
    "start_time": "2022-10-15T03:51:07.726Z"
   },
   {
    "duration": 21,
    "start_time": "2022-10-15T03:52:51.843Z"
   },
   {
    "duration": 139,
    "start_time": "2022-10-15T03:52:57.757Z"
   },
   {
    "duration": 3,
    "start_time": "2022-10-15T03:53:10.078Z"
   },
   {
    "duration": 228,
    "start_time": "2022-10-15T03:53:14.637Z"
   },
   {
    "duration": 4,
    "start_time": "2022-10-15T03:54:29.270Z"
   },
   {
    "duration": 773,
    "start_time": "2022-10-15T03:54:37.342Z"
   },
   {
    "duration": 756,
    "start_time": "2022-10-15T03:55:07.622Z"
   },
   {
    "duration": 759,
    "start_time": "2022-10-15T03:55:17.320Z"
   },
   {
    "duration": 1496,
    "start_time": "2022-10-15T03:55:34.638Z"
   },
   {
    "duration": 37,
    "start_time": "2022-10-15T04:01:06.437Z"
   },
   {
    "duration": 773,
    "start_time": "2022-10-15T04:05:56.518Z"
   },
   {
    "duration": 878,
    "start_time": "2022-10-15T04:07:11.258Z"
   },
   {
    "duration": 6,
    "start_time": "2022-10-15T04:07:19.880Z"
   },
   {
    "duration": 6,
    "start_time": "2022-10-15T04:07:24.111Z"
   },
   {
    "duration": 12,
    "start_time": "2022-10-15T04:13:20.809Z"
   },
   {
    "duration": 387637,
    "start_time": "2022-10-15T04:13:34.431Z"
   },
   {
    "duration": 2824,
    "start_time": "2022-10-15T04:21:13.839Z"
   },
   {
    "duration": 2459,
    "start_time": "2022-10-15T04:21:28.313Z"
   },
   {
    "duration": 18047,
    "start_time": "2022-10-15T04:22:20.417Z"
   },
   {
    "duration": 16675,
    "start_time": "2022-10-15T04:29:50.684Z"
   },
   {
    "duration": 16,
    "start_time": "2022-10-15T04:45:43.866Z"
   },
   {
    "duration": 24397,
    "start_time": "2022-10-15T04:47:14.057Z"
   },
   {
    "duration": 3,
    "start_time": "2022-10-15T04:47:38.456Z"
   },
   {
    "duration": 92589,
    "start_time": "2022-10-15T04:48:01.475Z"
   },
   {
    "duration": 4,
    "start_time": "2022-10-15T04:49:34.066Z"
   },
   {
    "duration": 67,
    "start_time": "2022-10-15T04:52:16.714Z"
   },
   {
    "duration": 141,
    "start_time": "2022-10-15T04:55:19.024Z"
   },
   {
    "duration": 894,
    "start_time": "2022-10-15T04:55:27.266Z"
   },
   {
    "duration": 775,
    "start_time": "2022-10-15T04:57:04.514Z"
   },
   {
    "duration": 40,
    "start_time": "2022-10-15T04:59:20.442Z"
   },
   {
    "duration": 1622813,
    "start_time": "2022-10-15T04:59:24.423Z"
   },
   {
    "duration": 0,
    "start_time": "2022-10-15T05:26:27.238Z"
   },
   {
    "duration": 1309991,
    "start_time": "2022-10-15T05:26:43.661Z"
   },
   {
    "duration": 908,
    "start_time": "2022-10-15T05:48:33.654Z"
   },
   {
    "duration": 50,
    "start_time": "2022-10-15T06:32:15.823Z"
   },
   {
    "duration": 1537,
    "start_time": "2022-10-15T06:33:03.231Z"
   },
   {
    "duration": 4,
    "start_time": "2022-10-15T06:33:04.770Z"
   },
   {
    "duration": 7954,
    "start_time": "2022-10-15T06:33:04.775Z"
   },
   {
    "duration": 246,
    "start_time": "2022-10-15T06:33:12.731Z"
   },
   {
    "duration": 45,
    "start_time": "2022-10-15T06:33:12.979Z"
   },
   {
    "duration": 47,
    "start_time": "2022-10-15T06:33:13.025Z"
   },
   {
    "duration": 41,
    "start_time": "2022-10-15T06:33:13.074Z"
   },
   {
    "duration": 300,
    "start_time": "2022-10-15T06:33:13.117Z"
   },
   {
    "duration": 180,
    "start_time": "2022-10-15T06:33:13.419Z"
   },
   {
    "duration": 28922,
    "start_time": "2022-10-15T06:33:13.603Z"
   },
   {
    "duration": 466,
    "start_time": "2022-10-15T06:33:42.527Z"
   },
   {
    "duration": 571,
    "start_time": "2022-10-15T06:33:42.995Z"
   },
   {
    "duration": 211,
    "start_time": "2022-10-15T06:33:43.568Z"
   },
   {
    "duration": 813671,
    "start_time": "2022-10-15T06:33:43.781Z"
   },
   {
    "duration": 464,
    "start_time": "2022-10-15T06:47:17.454Z"
   },
   {
    "duration": 162,
    "start_time": "2022-10-15T06:47:17.920Z"
   },
   {
    "duration": 4,
    "start_time": "2022-10-15T06:47:18.084Z"
   },
   {
    "duration": 27,
    "start_time": "2022-10-15T06:47:18.091Z"
   },
   {
    "duration": 458,
    "start_time": "2022-10-15T06:47:18.120Z"
   },
   {
    "duration": 60,
    "start_time": "2022-10-15T06:47:18.581Z"
   },
   {
    "duration": 28,
    "start_time": "2022-10-15T06:47:18.644Z"
   },
   {
    "duration": 101,
    "start_time": "2022-10-15T06:47:18.673Z"
   },
   {
    "duration": 152,
    "start_time": "2022-10-15T06:47:18.776Z"
   },
   {
    "duration": 124,
    "start_time": "2022-10-15T06:47:18.930Z"
   },
   {
    "duration": 100,
    "start_time": "2022-10-15T06:47:19.056Z"
   },
   {
    "duration": 70,
    "start_time": "2022-10-15T06:47:19.159Z"
   },
   {
    "duration": 177,
    "start_time": "2022-10-15T06:47:19.230Z"
   },
   {
    "duration": 127,
    "start_time": "2022-10-15T06:47:19.412Z"
   },
   {
    "duration": 160,
    "start_time": "2022-10-15T06:47:19.541Z"
   },
   {
    "duration": 110,
    "start_time": "2022-10-15T06:47:19.703Z"
   },
   {
    "duration": 151,
    "start_time": "2022-10-15T06:47:19.815Z"
   },
   {
    "duration": 107,
    "start_time": "2022-10-15T06:47:19.968Z"
   },
   {
    "duration": 151,
    "start_time": "2022-10-15T06:47:20.077Z"
   },
   {
    "duration": 110,
    "start_time": "2022-10-15T06:47:20.230Z"
   },
   {
    "duration": 44,
    "start_time": "2022-10-15T06:47:20.342Z"
   },
   {
    "duration": 34,
    "start_time": "2022-10-15T06:47:20.388Z"
   },
   {
    "duration": 84,
    "start_time": "2022-10-15T06:47:20.455Z"
   },
   {
    "duration": 33,
    "start_time": "2022-10-15T06:47:20.541Z"
   },
   {
    "duration": 169,
    "start_time": "2022-10-15T06:47:20.576Z"
   },
   {
    "duration": 21,
    "start_time": "2022-10-15T06:47:20.747Z"
   },
   {
    "duration": 122,
    "start_time": "2022-10-15T06:47:20.770Z"
   },
   {
    "duration": 101,
    "start_time": "2022-10-15T06:47:20.894Z"
   },
   {
    "duration": 25,
    "start_time": "2022-10-15T06:47:20.997Z"
   },
   {
    "duration": 72,
    "start_time": "2022-10-15T06:47:21.024Z"
   },
   {
    "duration": 21,
    "start_time": "2022-10-15T06:47:21.098Z"
   },
   {
    "duration": 7,
    "start_time": "2022-10-15T06:47:21.120Z"
   },
   {
    "duration": 135,
    "start_time": "2022-10-15T06:47:21.155Z"
   },
   {
    "duration": 175,
    "start_time": "2022-10-15T06:47:21.292Z"
   },
   {
    "duration": 4,
    "start_time": "2022-10-15T06:47:21.469Z"
   },
   {
    "duration": 1006,
    "start_time": "2022-10-15T06:47:21.475Z"
   },
   {
    "duration": 1660,
    "start_time": "2022-10-15T06:47:22.483Z"
   },
   {
    "duration": 116856,
    "start_time": "2022-10-15T06:47:24.145Z"
   },
   {
    "duration": 123,
    "start_time": "2022-10-15T06:49:21.003Z"
   },
   {
    "duration": 0,
    "start_time": "2022-10-15T06:49:21.128Z"
   },
   {
    "duration": 0,
    "start_time": "2022-10-15T06:49:21.129Z"
   },
   {
    "duration": 0,
    "start_time": "2022-10-15T06:49:21.131Z"
   },
   {
    "duration": 0,
    "start_time": "2022-10-15T06:49:21.132Z"
   },
   {
    "duration": 38,
    "start_time": "2022-10-15T07:23:19.933Z"
   },
   {
    "duration": 38,
    "start_time": "2022-10-15T07:24:18.437Z"
   },
   {
    "duration": 94021,
    "start_time": "2022-10-15T07:27:02.045Z"
   },
   {
    "duration": 39,
    "start_time": "2022-10-15T07:28:36.069Z"
   },
   {
    "duration": 57,
    "start_time": "2022-10-15T07:29:33.837Z"
   },
   {
    "duration": 1706,
    "start_time": "2022-10-15T07:30:05.929Z"
   },
   {
    "duration": 3,
    "start_time": "2022-10-15T07:30:07.637Z"
   },
   {
    "duration": 5150,
    "start_time": "2022-10-15T07:30:07.642Z"
   },
   {
    "duration": 224,
    "start_time": "2022-10-15T07:30:12.794Z"
   },
   {
    "duration": 48,
    "start_time": "2022-10-15T07:30:13.020Z"
   },
   {
    "duration": 43,
    "start_time": "2022-10-15T07:30:13.070Z"
   },
   {
    "duration": 40,
    "start_time": "2022-10-15T07:30:13.114Z"
   },
   {
    "duration": 277,
    "start_time": "2022-10-15T07:30:13.156Z"
   },
   {
    "duration": 173,
    "start_time": "2022-10-15T07:30:13.435Z"
   },
   {
    "duration": 29319,
    "start_time": "2022-10-15T07:30:13.610Z"
   },
   {
    "duration": 453,
    "start_time": "2022-10-15T07:30:42.931Z"
   },
   {
    "duration": 560,
    "start_time": "2022-10-15T07:30:43.386Z"
   },
   {
    "duration": 212,
    "start_time": "2022-10-15T07:30:43.948Z"
   },
   {
    "duration": 759964,
    "start_time": "2022-10-15T07:30:44.163Z"
   },
   {
    "duration": 461,
    "start_time": "2022-10-15T07:43:24.130Z"
   },
   {
    "duration": 160,
    "start_time": "2022-10-15T07:43:24.593Z"
   },
   {
    "duration": 4,
    "start_time": "2022-10-15T07:43:24.756Z"
   },
   {
    "duration": 35,
    "start_time": "2022-10-15T07:43:24.762Z"
   },
   {
    "duration": 486,
    "start_time": "2022-10-15T07:43:24.799Z"
   },
   {
    "duration": 69,
    "start_time": "2022-10-15T07:43:25.287Z"
   },
   {
    "duration": 21,
    "start_time": "2022-10-15T07:43:25.358Z"
   },
   {
    "duration": 111,
    "start_time": "2022-10-15T07:43:25.381Z"
   },
   {
    "duration": 160,
    "start_time": "2022-10-15T07:43:25.494Z"
   },
   {
    "duration": 116,
    "start_time": "2022-10-15T07:43:25.656Z"
   },
   {
    "duration": 104,
    "start_time": "2022-10-15T07:43:25.773Z"
   },
   {
    "duration": 77,
    "start_time": "2022-10-15T07:43:25.879Z"
   },
   {
    "duration": 148,
    "start_time": "2022-10-15T07:43:25.958Z"
   },
   {
    "duration": 106,
    "start_time": "2022-10-15T07:43:26.108Z"
   },
   {
    "duration": 155,
    "start_time": "2022-10-15T07:43:26.216Z"
   },
   {
    "duration": 95,
    "start_time": "2022-10-15T07:43:26.372Z"
   },
   {
    "duration": 152,
    "start_time": "2022-10-15T07:43:26.469Z"
   },
   {
    "duration": 114,
    "start_time": "2022-10-15T07:43:26.623Z"
   },
   {
    "duration": 152,
    "start_time": "2022-10-15T07:43:26.739Z"
   },
   {
    "duration": 115,
    "start_time": "2022-10-15T07:43:26.894Z"
   },
   {
    "duration": 49,
    "start_time": "2022-10-15T07:43:27.011Z"
   },
   {
    "duration": 33,
    "start_time": "2022-10-15T07:43:27.062Z"
   },
   {
    "duration": 97,
    "start_time": "2022-10-15T07:43:27.097Z"
   },
   {
    "duration": 23,
    "start_time": "2022-10-15T07:43:27.196Z"
   },
   {
    "duration": 171,
    "start_time": "2022-10-15T07:43:27.221Z"
   },
   {
    "duration": 17,
    "start_time": "2022-10-15T07:43:27.394Z"
   },
   {
    "duration": 123,
    "start_time": "2022-10-15T07:43:27.418Z"
   },
   {
    "duration": 80,
    "start_time": "2022-10-15T07:43:27.554Z"
   },
   {
    "duration": 45,
    "start_time": "2022-10-15T07:43:27.636Z"
   },
   {
    "duration": 80,
    "start_time": "2022-10-15T07:43:27.684Z"
   },
   {
    "duration": 24,
    "start_time": "2022-10-15T07:43:27.766Z"
   },
   {
    "duration": 7,
    "start_time": "2022-10-15T07:43:27.791Z"
   },
   {
    "duration": 143,
    "start_time": "2022-10-15T07:43:27.799Z"
   },
   {
    "duration": 152,
    "start_time": "2022-10-15T07:43:27.944Z"
   },
   {
    "duration": 3,
    "start_time": "2022-10-15T07:43:28.098Z"
   },
   {
    "duration": 981,
    "start_time": "2022-10-15T07:43:28.103Z"
   },
   {
    "duration": 1731,
    "start_time": "2022-10-15T07:43:29.086Z"
   },
   {
    "duration": 103326,
    "start_time": "2022-10-15T07:43:30.820Z"
   },
   {
    "duration": 61,
    "start_time": "2022-10-15T07:45:14.148Z"
   },
   {
    "duration": 1332665,
    "start_time": "2022-10-15T07:45:14.211Z"
   },
   {
    "duration": 316,
    "start_time": "2022-10-15T08:07:26.877Z"
   },
   {
    "duration": 126364,
    "start_time": "2022-10-15T08:07:27.195Z"
   },
   {
    "duration": 0,
    "start_time": "2022-10-15T08:09:33.561Z"
   },
   {
    "duration": 457677,
    "start_time": "2022-10-15T08:09:48.408Z"
   },
   {
    "duration": 15370,
    "start_time": "2022-10-15T08:17:28.512Z"
   },
   {
    "duration": 1473,
    "start_time": "2022-10-15T08:17:48.642Z"
   },
   {
    "duration": 4,
    "start_time": "2022-10-15T08:17:50.117Z"
   },
   {
    "duration": 4811,
    "start_time": "2022-10-15T08:17:50.123Z"
   },
   {
    "duration": 221,
    "start_time": "2022-10-15T08:17:54.937Z"
   },
   {
    "duration": 46,
    "start_time": "2022-10-15T08:17:55.160Z"
   },
   {
    "duration": 42,
    "start_time": "2022-10-15T08:17:55.207Z"
   },
   {
    "duration": 40,
    "start_time": "2022-10-15T08:17:55.250Z"
   },
   {
    "duration": 270,
    "start_time": "2022-10-15T08:17:55.292Z"
   },
   {
    "duration": 204,
    "start_time": "2022-10-15T08:17:55.564Z"
   },
   {
    "duration": 30536,
    "start_time": "2022-10-15T08:17:55.770Z"
   },
   {
    "duration": 492,
    "start_time": "2022-10-15T08:18:26.307Z"
   },
   {
    "duration": 607,
    "start_time": "2022-10-15T08:18:26.801Z"
   },
   {
    "duration": 236,
    "start_time": "2022-10-15T08:18:27.410Z"
   },
   {
    "duration": 898555,
    "start_time": "2022-10-15T08:18:27.653Z"
   },
   {
    "duration": 469,
    "start_time": "2022-10-15T08:33:26.210Z"
   },
   {
    "duration": 155,
    "start_time": "2022-10-15T08:33:26.682Z"
   },
   {
    "duration": 15,
    "start_time": "2022-10-15T08:33:26.839Z"
   },
   {
    "duration": 32,
    "start_time": "2022-10-15T08:33:26.857Z"
   },
   {
    "duration": 459,
    "start_time": "2022-10-15T08:33:26.892Z"
   },
   {
    "duration": 72,
    "start_time": "2022-10-15T08:33:27.355Z"
   },
   {
    "duration": 37,
    "start_time": "2022-10-15T08:33:27.430Z"
   },
   {
    "duration": 100,
    "start_time": "2022-10-15T08:33:27.470Z"
   },
   {
    "duration": 147,
    "start_time": "2022-10-15T08:33:27.573Z"
   },
   {
    "duration": 163,
    "start_time": "2022-10-15T08:33:27.722Z"
   },
   {
    "duration": 97,
    "start_time": "2022-10-15T08:33:27.887Z"
   },
   {
    "duration": 79,
    "start_time": "2022-10-15T08:33:27.986Z"
   },
   {
    "duration": 151,
    "start_time": "2022-10-15T08:33:28.067Z"
   },
   {
    "duration": 112,
    "start_time": "2022-10-15T08:33:28.222Z"
   },
   {
    "duration": 161,
    "start_time": "2022-10-15T08:33:28.336Z"
   },
   {
    "duration": 116,
    "start_time": "2022-10-15T08:33:28.498Z"
   },
   {
    "duration": 174,
    "start_time": "2022-10-15T08:33:28.616Z"
   },
   {
    "duration": 118,
    "start_time": "2022-10-15T08:33:28.792Z"
   },
   {
    "duration": 163,
    "start_time": "2022-10-15T08:33:28.912Z"
   },
   {
    "duration": 104,
    "start_time": "2022-10-15T08:33:29.077Z"
   },
   {
    "duration": 33,
    "start_time": "2022-10-15T08:33:29.183Z"
   },
   {
    "duration": 60,
    "start_time": "2022-10-15T08:33:29.218Z"
   },
   {
    "duration": 104,
    "start_time": "2022-10-15T08:33:29.280Z"
   },
   {
    "duration": 28,
    "start_time": "2022-10-15T08:33:29.386Z"
   },
   {
    "duration": 182,
    "start_time": "2022-10-15T08:33:29.416Z"
   },
   {
    "duration": 17,
    "start_time": "2022-10-15T08:33:29.600Z"
   },
   {
    "duration": 116,
    "start_time": "2022-10-15T08:33:29.618Z"
   },
   {
    "duration": 81,
    "start_time": "2022-10-15T08:33:29.753Z"
   },
   {
    "duration": 45,
    "start_time": "2022-10-15T08:33:29.836Z"
   },
   {
    "duration": 84,
    "start_time": "2022-10-15T08:33:29.883Z"
   },
   {
    "duration": 20,
    "start_time": "2022-10-15T08:33:29.969Z"
   },
   {
    "duration": 7,
    "start_time": "2022-10-15T08:33:29.991Z"
   },
   {
    "duration": 159,
    "start_time": "2022-10-15T08:33:30.001Z"
   },
   {
    "duration": 162,
    "start_time": "2022-10-15T08:33:30.162Z"
   },
   {
    "duration": 4,
    "start_time": "2022-10-15T08:33:30.326Z"
   },
   {
    "duration": 1136,
    "start_time": "2022-10-15T08:33:30.332Z"
   },
   {
    "duration": 1944,
    "start_time": "2022-10-15T08:33:31.470Z"
   },
   {
    "duration": 105748,
    "start_time": "2022-10-15T08:33:33.416Z"
   },
   {
    "duration": 31,
    "start_time": "2022-10-15T08:35:19.166Z"
   },
   {
    "duration": 623187,
    "start_time": "2022-10-15T08:35:19.199Z"
   },
   {
    "duration": 70,
    "start_time": "2022-10-15T08:45:42.388Z"
   },
   {
    "duration": 0,
    "start_time": "2022-10-15T08:45:42.459Z"
   },
   {
    "duration": 0,
    "start_time": "2022-10-15T08:45:42.460Z"
   },
   {
    "duration": 0,
    "start_time": "2022-10-15T08:45:42.461Z"
   },
   {
    "duration": 116,
    "start_time": "2022-10-15T08:47:41.753Z"
   },
   {
    "duration": 205,
    "start_time": "2022-10-15T08:49:25.575Z"
   },
   {
    "duration": 168,
    "start_time": "2022-10-15T08:50:59.430Z"
   },
   {
    "duration": 103,
    "start_time": "2022-10-15T08:52:21.255Z"
   },
   {
    "duration": 1895890,
    "start_time": "2022-10-15T08:52:36.103Z"
   },
   {
    "duration": 0,
    "start_time": "2022-10-15T09:24:12.055Z"
   },
   {
    "duration": 94590,
    "start_time": "2022-10-15T09:28:49.683Z"
   },
   {
    "duration": 28,
    "start_time": "2022-10-15T09:30:30.235Z"
   },
   {
    "duration": 12,
    "start_time": "2022-10-15T09:30:38.053Z"
   },
   {
    "duration": 15,
    "start_time": "2022-10-15T09:31:21.642Z"
   },
   {
    "duration": 4,
    "start_time": "2022-10-15T09:33:03.546Z"
   },
   {
    "duration": 13659,
    "start_time": "2022-10-15T09:33:49.370Z"
   },
   {
    "duration": 1514,
    "start_time": "2022-10-15T09:34:10.155Z"
   },
   {
    "duration": 7,
    "start_time": "2022-10-15T09:34:11.672Z"
   },
   {
    "duration": 4749,
    "start_time": "2022-10-15T09:34:11.681Z"
   },
   {
    "duration": 237,
    "start_time": "2022-10-15T09:34:16.432Z"
   },
   {
    "duration": 46,
    "start_time": "2022-10-15T09:34:16.671Z"
   },
   {
    "duration": 49,
    "start_time": "2022-10-15T09:34:16.719Z"
   },
   {
    "duration": 41,
    "start_time": "2022-10-15T09:34:16.770Z"
   },
   {
    "duration": 260,
    "start_time": "2022-10-15T09:34:16.813Z"
   },
   {
    "duration": 187,
    "start_time": "2022-10-15T09:34:17.075Z"
   },
   {
    "duration": 30644,
    "start_time": "2022-10-15T09:34:17.266Z"
   },
   {
    "duration": 477,
    "start_time": "2022-10-15T09:34:47.912Z"
   },
   {
    "duration": 551,
    "start_time": "2022-10-15T09:34:48.390Z"
   },
   {
    "duration": 222,
    "start_time": "2022-10-15T09:34:48.943Z"
   },
   {
    "duration": 877090,
    "start_time": "2022-10-15T09:34:49.167Z"
   },
   {
    "duration": 507,
    "start_time": "2022-10-15T09:49:26.259Z"
   },
   {
    "duration": 159,
    "start_time": "2022-10-15T09:49:26.768Z"
   },
   {
    "duration": 4,
    "start_time": "2022-10-15T09:49:26.929Z"
   },
   {
    "duration": 40,
    "start_time": "2022-10-15T09:49:26.935Z"
   },
   {
    "duration": 473,
    "start_time": "2022-10-15T09:49:26.977Z"
   },
   {
    "duration": 69,
    "start_time": "2022-10-15T09:49:27.454Z"
   },
   {
    "duration": 40,
    "start_time": "2022-10-15T09:49:27.525Z"
   },
   {
    "duration": 100,
    "start_time": "2022-10-15T09:49:27.566Z"
   },
   {
    "duration": 156,
    "start_time": "2022-10-15T09:49:27.668Z"
   },
   {
    "duration": 137,
    "start_time": "2022-10-15T09:49:27.826Z"
   },
   {
    "duration": 109,
    "start_time": "2022-10-15T09:49:27.966Z"
   },
   {
    "duration": 85,
    "start_time": "2022-10-15T09:49:28.077Z"
   },
   {
    "duration": 168,
    "start_time": "2022-10-15T09:49:28.164Z"
   },
   {
    "duration": 125,
    "start_time": "2022-10-15T09:49:28.338Z"
   },
   {
    "duration": 158,
    "start_time": "2022-10-15T09:49:28.465Z"
   },
   {
    "duration": 128,
    "start_time": "2022-10-15T09:49:28.627Z"
   },
   {
    "duration": 163,
    "start_time": "2022-10-15T09:49:28.757Z"
   },
   {
    "duration": 108,
    "start_time": "2022-10-15T09:49:28.922Z"
   },
   {
    "duration": 158,
    "start_time": "2022-10-15T09:49:29.032Z"
   },
   {
    "duration": 122,
    "start_time": "2022-10-15T09:49:29.192Z"
   },
   {
    "duration": 63,
    "start_time": "2022-10-15T09:49:29.316Z"
   },
   {
    "duration": 81,
    "start_time": "2022-10-15T09:49:29.381Z"
   },
   {
    "duration": 96,
    "start_time": "2022-10-15T09:49:29.464Z"
   },
   {
    "duration": 23,
    "start_time": "2022-10-15T09:49:29.562Z"
   },
   {
    "duration": 174,
    "start_time": "2022-10-15T09:49:29.587Z"
   },
   {
    "duration": 17,
    "start_time": "2022-10-15T09:49:29.763Z"
   },
   {
    "duration": 139,
    "start_time": "2022-10-15T09:49:29.781Z"
   },
   {
    "duration": 135,
    "start_time": "2022-10-15T09:49:29.923Z"
   },
   {
    "duration": 37,
    "start_time": "2022-10-15T09:49:30.060Z"
   },
   {
    "duration": 103,
    "start_time": "2022-10-15T09:49:30.100Z"
   },
   {
    "duration": 26,
    "start_time": "2022-10-15T09:49:30.205Z"
   },
   {
    "duration": 9,
    "start_time": "2022-10-15T09:49:30.255Z"
   },
   {
    "duration": 168,
    "start_time": "2022-10-15T09:49:30.267Z"
   },
   {
    "duration": 159,
    "start_time": "2022-10-15T09:49:30.437Z"
   },
   {
    "duration": 4,
    "start_time": "2022-10-15T09:49:30.598Z"
   },
   {
    "duration": 1180,
    "start_time": "2022-10-15T09:49:30.604Z"
   },
   {
    "duration": 1907,
    "start_time": "2022-10-15T09:49:31.787Z"
   },
   {
    "duration": 97821,
    "start_time": "2022-10-15T09:49:33.697Z"
   },
   {
    "duration": 43,
    "start_time": "2022-10-15T09:51:11.520Z"
   },
   {
    "duration": 564180,
    "start_time": "2022-10-15T09:51:11.565Z"
   },
   {
    "duration": 92,
    "start_time": "2022-10-15T10:00:35.747Z"
   },
   {
    "duration": 129,
    "start_time": "2022-10-15T10:00:35.840Z"
   },
   {
    "duration": 0,
    "start_time": "2022-10-15T10:00:35.970Z"
   },
   {
    "duration": 0,
    "start_time": "2022-10-15T10:00:35.972Z"
   },
   {
    "duration": 4,
    "start_time": "2022-10-15T10:01:48.277Z"
   },
   {
    "duration": 4106,
    "start_time": "2022-10-15T10:02:08.657Z"
   },
   {
    "duration": 109,
    "start_time": "2022-10-15T10:02:12.765Z"
   },
   {
    "duration": 21,
    "start_time": "2022-10-15T10:13:05.522Z"
   },
   {
    "duration": 21,
    "start_time": "2022-10-15T10:13:20.402Z"
   },
   {
    "duration": 12,
    "start_time": "2022-10-15T10:13:26.762Z"
   },
   {
    "duration": 10,
    "start_time": "2022-10-15T10:34:06.531Z"
   },
   {
    "duration": 12,
    "start_time": "2022-10-15T10:34:18.155Z"
   },
   {
    "duration": 8,
    "start_time": "2022-10-15T10:34:29.596Z"
   },
   {
    "duration": 9,
    "start_time": "2022-10-15T10:34:34.747Z"
   },
   {
    "duration": 45,
    "start_time": "2022-10-15T10:34:58.189Z"
   },
   {
    "duration": 49,
    "start_time": "2022-10-15T10:38:00.115Z"
   },
   {
    "duration": 80,
    "start_time": "2022-10-15T10:38:05.892Z"
   },
   {
    "duration": 63,
    "start_time": "2022-10-15T10:38:19.382Z"
   },
   {
    "duration": 261,
    "start_time": "2022-10-15T10:38:22.411Z"
   },
   {
    "duration": 8,
    "start_time": "2022-10-15T10:38:53.588Z"
   },
   {
    "duration": 15,
    "start_time": "2022-10-15T10:39:42.516Z"
   },
   {
    "duration": 11,
    "start_time": "2022-10-15T10:39:57.212Z"
   },
   {
    "duration": 12,
    "start_time": "2022-10-15T10:40:31.931Z"
   },
   {
    "duration": 162,
    "start_time": "2022-10-15T10:40:35.931Z"
   },
   {
    "duration": 1685,
    "start_time": "2022-10-15T14:31:23.407Z"
   },
   {
    "duration": 3,
    "start_time": "2022-10-15T14:31:25.094Z"
   },
   {
    "duration": 6385,
    "start_time": "2022-10-15T14:31:25.101Z"
   },
   {
    "duration": 225,
    "start_time": "2022-10-15T14:31:31.487Z"
   },
   {
    "duration": 45,
    "start_time": "2022-10-15T14:31:31.713Z"
   },
   {
    "duration": 42,
    "start_time": "2022-10-15T14:31:31.759Z"
   },
   {
    "duration": 39,
    "start_time": "2022-10-15T14:31:31.802Z"
   },
   {
    "duration": 255,
    "start_time": "2022-10-15T14:31:31.843Z"
   },
   {
    "duration": 163,
    "start_time": "2022-10-15T14:31:32.101Z"
   },
   {
    "duration": 29279,
    "start_time": "2022-10-15T14:31:32.266Z"
   },
   {
    "duration": 361,
    "start_time": "2022-10-15T14:32:01.546Z"
   },
   {
    "duration": 455,
    "start_time": "2022-10-15T14:32:01.909Z"
   },
   {
    "duration": 164,
    "start_time": "2022-10-15T14:32:02.366Z"
   },
   {
    "duration": 606322,
    "start_time": "2022-10-15T14:32:02.532Z"
   },
   {
    "duration": 333,
    "start_time": "2022-10-15T14:42:08.855Z"
   },
   {
    "duration": 117,
    "start_time": "2022-10-15T14:42:09.189Z"
   },
   {
    "duration": 11,
    "start_time": "2022-10-15T14:42:09.307Z"
   },
   {
    "duration": 20,
    "start_time": "2022-10-15T14:42:09.320Z"
   },
   {
    "duration": 297,
    "start_time": "2022-10-15T14:42:09.342Z"
   },
   {
    "duration": 42,
    "start_time": "2022-10-15T14:42:09.640Z"
   },
   {
    "duration": 25,
    "start_time": "2022-10-15T14:42:09.684Z"
   },
   {
    "duration": 50,
    "start_time": "2022-10-15T14:42:09.711Z"
   },
   {
    "duration": 107,
    "start_time": "2022-10-15T14:42:09.763Z"
   },
   {
    "duration": 80,
    "start_time": "2022-10-15T14:42:09.871Z"
   },
   {
    "duration": 59,
    "start_time": "2022-10-15T14:42:09.952Z"
   },
   {
    "duration": 41,
    "start_time": "2022-10-15T14:42:10.013Z"
   },
   {
    "duration": 112,
    "start_time": "2022-10-15T14:42:10.057Z"
   },
   {
    "duration": 77,
    "start_time": "2022-10-15T14:42:10.170Z"
   },
   {
    "duration": 99,
    "start_time": "2022-10-15T14:42:10.250Z"
   },
   {
    "duration": 94,
    "start_time": "2022-10-15T14:42:10.351Z"
   },
   {
    "duration": 111,
    "start_time": "2022-10-15T14:42:10.446Z"
   },
   {
    "duration": 97,
    "start_time": "2022-10-15T14:42:10.559Z"
   },
   {
    "duration": 104,
    "start_time": "2022-10-15T14:42:10.658Z"
   },
   {
    "duration": 89,
    "start_time": "2022-10-15T14:42:10.764Z"
   },
   {
    "duration": 29,
    "start_time": "2022-10-15T14:42:10.855Z"
   },
   {
    "duration": 27,
    "start_time": "2022-10-15T14:42:10.901Z"
   },
   {
    "duration": 70,
    "start_time": "2022-10-15T14:42:10.930Z"
   },
   {
    "duration": 18,
    "start_time": "2022-10-15T14:42:11.002Z"
   },
   {
    "duration": 103,
    "start_time": "2022-10-15T14:42:11.021Z"
   },
   {
    "duration": 13,
    "start_time": "2022-10-15T14:42:11.126Z"
   },
   {
    "duration": 96,
    "start_time": "2022-10-15T14:42:11.140Z"
   },
   {
    "duration": 77,
    "start_time": "2022-10-15T14:42:11.238Z"
   },
   {
    "duration": 21,
    "start_time": "2022-10-15T14:42:11.317Z"
   },
   {
    "duration": 41,
    "start_time": "2022-10-15T14:42:11.340Z"
   },
   {
    "duration": 31,
    "start_time": "2022-10-15T14:42:11.383Z"
   },
   {
    "duration": 24,
    "start_time": "2022-10-15T14:42:11.416Z"
   },
   {
    "duration": 143,
    "start_time": "2022-10-15T14:42:11.442Z"
   },
   {
    "duration": 128,
    "start_time": "2022-10-15T14:42:11.587Z"
   },
   {
    "duration": 5,
    "start_time": "2022-10-15T14:42:11.716Z"
   },
   {
    "duration": 761,
    "start_time": "2022-10-15T14:42:11.723Z"
   },
   {
    "duration": 1368,
    "start_time": "2022-10-15T14:42:12.486Z"
   },
   {
    "duration": 75436,
    "start_time": "2022-10-15T14:42:13.856Z"
   },
   {
    "duration": 117,
    "start_time": "2022-10-15T14:43:29.294Z"
   },
   {
    "duration": 0,
    "start_time": "2022-10-15T14:43:29.413Z"
   },
   {
    "duration": 0,
    "start_time": "2022-10-15T14:43:29.415Z"
   },
   {
    "duration": 0,
    "start_time": "2022-10-15T14:43:29.416Z"
   },
   {
    "duration": 0,
    "start_time": "2022-10-15T14:43:29.418Z"
   },
   {
    "duration": 0,
    "start_time": "2022-10-15T14:43:29.419Z"
   },
   {
    "duration": 0,
    "start_time": "2022-10-15T14:43:29.422Z"
   },
   {
    "duration": 0,
    "start_time": "2022-10-15T14:43:29.423Z"
   },
   {
    "duration": 1,
    "start_time": "2022-10-15T14:43:29.424Z"
   },
   {
    "duration": 0,
    "start_time": "2022-10-15T14:43:29.426Z"
   },
   {
    "duration": 26,
    "start_time": "2022-10-15T14:45:13.634Z"
   },
   {
    "duration": 473228,
    "start_time": "2022-10-15T14:45:15.555Z"
   },
   {
    "duration": 83,
    "start_time": "2022-10-15T14:53:08.785Z"
   },
   {
    "duration": 9,
    "start_time": "2022-10-15T14:53:08.870Z"
   },
   {
    "duration": 3815,
    "start_time": "2022-10-15T14:55:15.293Z"
   },
   {
    "duration": 105,
    "start_time": "2022-10-15T14:55:19.110Z"
   },
   {
    "duration": 10,
    "start_time": "2022-10-15T14:55:33.560Z"
   },
   {
    "duration": 11,
    "start_time": "2022-10-15T14:55:36.723Z"
   },
   {
    "duration": 208,
    "start_time": "2022-10-15T14:56:01.058Z"
   },
   {
    "duration": 6,
    "start_time": "2022-10-15T14:57:02.481Z"
   },
   {
    "duration": 13,
    "start_time": "2022-10-15T14:57:25.305Z"
   },
   {
    "duration": 121,
    "start_time": "2022-10-15T14:57:29.313Z"
   },
   {
    "duration": 16,
    "start_time": "2022-10-15T15:02:45.265Z"
   },
   {
    "duration": 163,
    "start_time": "2022-10-15T15:03:16.377Z"
   },
   {
    "duration": 120,
    "start_time": "2022-10-15T15:25:13.621Z"
   },
   {
    "duration": 110,
    "start_time": "2022-10-15T15:25:22.399Z"
   },
   {
    "duration": 91,
    "start_time": "2022-10-15T15:26:49.032Z"
   },
   {
    "duration": 240,
    "start_time": "2022-10-15T15:27:14.048Z"
   },
   {
    "duration": 96,
    "start_time": "2022-10-15T15:28:53.630Z"
   },
   {
    "duration": 111,
    "start_time": "2022-10-15T15:29:00.696Z"
   },
   {
    "duration": 260,
    "start_time": "2022-10-15T15:29:26.625Z"
   },
   {
    "duration": 734,
    "start_time": "2022-10-15T15:38:09.080Z"
   },
   {
    "duration": 155,
    "start_time": "2022-10-15T15:38:21.104Z"
   },
   {
    "duration": 150,
    "start_time": "2022-10-15T15:38:52.738Z"
   },
   {
    "duration": 172,
    "start_time": "2022-10-15T15:39:07.288Z"
   },
   {
    "duration": 6,
    "start_time": "2022-10-15T16:02:01.303Z"
   },
   {
    "duration": 5,
    "start_time": "2022-10-15T16:02:12.625Z"
   },
   {
    "duration": 9,
    "start_time": "2022-10-15T16:06:14.724Z"
   },
   {
    "duration": 9,
    "start_time": "2022-10-15T16:06:31.690Z"
   },
   {
    "duration": 10,
    "start_time": "2022-10-15T16:08:14.178Z"
   },
   {
    "duration": 10,
    "start_time": "2022-10-15T16:08:44.953Z"
   },
   {
    "duration": 1378,
    "start_time": "2022-10-15T16:18:56.361Z"
   },
   {
    "duration": 17,
    "start_time": "2022-10-15T16:18:57.741Z"
   },
   {
    "duration": 4916,
    "start_time": "2022-10-15T16:18:57.760Z"
   },
   {
    "duration": 218,
    "start_time": "2022-10-15T16:19:02.678Z"
   },
   {
    "duration": 44,
    "start_time": "2022-10-15T16:19:02.898Z"
   },
   {
    "duration": 41,
    "start_time": "2022-10-15T16:19:02.943Z"
   },
   {
    "duration": 38,
    "start_time": "2022-10-15T16:19:02.986Z"
   },
   {
    "duration": 253,
    "start_time": "2022-10-15T16:19:03.025Z"
   },
   {
    "duration": 228,
    "start_time": "2022-10-15T16:19:03.280Z"
   },
   {
    "duration": 23659,
    "start_time": "2022-10-15T16:19:03.510Z"
   },
   {
    "duration": 390,
    "start_time": "2022-10-15T16:19:27.170Z"
   },
   {
    "duration": 448,
    "start_time": "2022-10-15T16:19:27.561Z"
   },
   {
    "duration": 174,
    "start_time": "2022-10-15T16:19:28.010Z"
   },
   {
    "duration": 630018,
    "start_time": "2022-10-15T16:19:28.185Z"
   },
   {
    "duration": 350,
    "start_time": "2022-10-15T16:29:58.204Z"
   },
   {
    "duration": 120,
    "start_time": "2022-10-15T16:29:58.556Z"
   },
   {
    "duration": 21,
    "start_time": "2022-10-15T16:29:58.678Z"
   },
   {
    "duration": 32,
    "start_time": "2022-10-15T16:29:58.700Z"
   },
   {
    "duration": 342,
    "start_time": "2022-10-15T16:29:58.734Z"
   },
   {
    "duration": 53,
    "start_time": "2022-10-15T16:29:59.078Z"
   },
   {
    "duration": 16,
    "start_time": "2022-10-15T16:29:59.134Z"
   },
   {
    "duration": 75,
    "start_time": "2022-10-15T16:29:59.151Z"
   },
   {
    "duration": 118,
    "start_time": "2022-10-15T16:29:59.227Z"
   },
   {
    "duration": 89,
    "start_time": "2022-10-15T16:29:59.346Z"
   },
   {
    "duration": 74,
    "start_time": "2022-10-15T16:29:59.437Z"
   },
   {
    "duration": 41,
    "start_time": "2022-10-15T16:29:59.513Z"
   },
   {
    "duration": 129,
    "start_time": "2022-10-15T16:29:59.556Z"
   },
   {
    "duration": 74,
    "start_time": "2022-10-15T16:29:59.703Z"
   },
   {
    "duration": 139,
    "start_time": "2022-10-15T16:29:59.778Z"
   },
   {
    "duration": 85,
    "start_time": "2022-10-15T16:29:59.919Z"
   },
   {
    "duration": 127,
    "start_time": "2022-10-15T16:30:00.006Z"
   },
   {
    "duration": 82,
    "start_time": "2022-10-15T16:30:00.135Z"
   },
   {
    "duration": 120,
    "start_time": "2022-10-15T16:30:00.219Z"
   },
   {
    "duration": 87,
    "start_time": "2022-10-15T16:30:00.340Z"
   },
   {
    "duration": 27,
    "start_time": "2022-10-15T16:30:00.428Z"
   },
   {
    "duration": 49,
    "start_time": "2022-10-15T16:30:00.456Z"
   },
   {
    "duration": 60,
    "start_time": "2022-10-15T16:30:00.507Z"
   },
   {
    "duration": 37,
    "start_time": "2022-10-15T16:30:00.568Z"
   },
   {
    "duration": 117,
    "start_time": "2022-10-15T16:30:00.606Z"
   },
   {
    "duration": 16,
    "start_time": "2022-10-15T16:30:00.724Z"
   },
   {
    "duration": 99,
    "start_time": "2022-10-15T16:30:00.742Z"
   },
   {
    "duration": 80,
    "start_time": "2022-10-15T16:30:00.843Z"
   },
   {
    "duration": 22,
    "start_time": "2022-10-15T16:30:00.925Z"
   },
   {
    "duration": 57,
    "start_time": "2022-10-15T16:30:00.948Z"
   },
   {
    "duration": 17,
    "start_time": "2022-10-15T16:30:01.007Z"
   },
   {
    "duration": 6,
    "start_time": "2022-10-15T16:30:01.026Z"
   },
   {
    "duration": 135,
    "start_time": "2022-10-15T16:30:01.034Z"
   },
   {
    "duration": 129,
    "start_time": "2022-10-15T16:30:01.171Z"
   },
   {
    "duration": 2,
    "start_time": "2022-10-15T16:30:01.302Z"
   },
   {
    "duration": 755,
    "start_time": "2022-10-15T16:30:01.306Z"
   },
   {
    "duration": 1343,
    "start_time": "2022-10-15T16:30:02.062Z"
   },
   {
    "duration": 88810,
    "start_time": "2022-10-15T16:30:03.407Z"
   },
   {
    "duration": 25,
    "start_time": "2022-10-15T16:31:32.219Z"
   },
   {
    "duration": 560334,
    "start_time": "2022-10-15T16:31:32.245Z"
   },
   {
    "duration": 84,
    "start_time": "2022-10-15T16:40:52.580Z"
   },
   {
    "duration": 2838,
    "start_time": "2022-10-15T16:40:52.665Z"
   },
   {
    "duration": 31,
    "start_time": "2022-10-15T16:40:55.504Z"
   },
   {
    "duration": 10,
    "start_time": "2022-10-15T16:40:55.537Z"
   },
   {
    "duration": 284,
    "start_time": "2022-10-15T16:40:55.549Z"
   },
   {
    "duration": 6,
    "start_time": "2022-10-15T16:40:55.834Z"
   },
   {
    "duration": 171,
    "start_time": "2022-10-15T16:40:55.841Z"
   },
   {
    "duration": 265,
    "start_time": "2022-10-15T16:40:56.013Z"
   },
   {
    "duration": 176,
    "start_time": "2022-10-15T16:40:56.280Z"
   },
   {
    "duration": 11,
    "start_time": "2022-10-15T16:40:56.457Z"
   },
   {
    "duration": 1725,
    "start_time": "2022-10-16T07:30:11.925Z"
   },
   {
    "duration": 5,
    "start_time": "2022-10-16T07:30:16.182Z"
   },
   {
    "duration": 4700,
    "start_time": "2022-10-16T07:30:18.367Z"
   },
   {
    "duration": 18099,
    "start_time": "2022-10-16T07:30:26.904Z"
   },
   {
    "duration": 197,
    "start_time": "2022-10-16T07:33:31.296Z"
   },
   {
    "duration": 11310,
    "start_time": "2022-10-16T07:33:43.849Z"
   },
   {
    "duration": 4115,
    "start_time": "2022-10-16T07:37:37.369Z"
   },
   {
    "duration": 4001,
    "start_time": "2022-10-16T07:37:41.485Z"
   },
   {
    "duration": 1116,
    "start_time": "2022-10-16T07:41:31.504Z"
   },
   {
    "duration": 332,
    "start_time": "2022-10-16T07:43:43.625Z"
   },
   {
    "duration": 485,
    "start_time": "2022-10-16T07:43:52.962Z"
   },
   {
    "duration": 201,
    "start_time": "2022-10-16T07:44:23.307Z"
   },
   {
    "duration": 495,
    "start_time": "2022-10-16T07:49:25.681Z"
   },
   {
    "duration": 211,
    "start_time": "2022-10-16T07:49:53.396Z"
   },
   {
    "duration": 17841,
    "start_time": "2022-10-16T07:56:55.802Z"
   },
   {
    "duration": 47,
    "start_time": "2022-10-16T07:58:31.692Z"
   },
   {
    "duration": 1472,
    "start_time": "2022-10-16T07:58:34.227Z"
   },
   {
    "duration": 4,
    "start_time": "2022-10-16T07:58:35.701Z"
   },
   {
    "duration": 4980,
    "start_time": "2022-10-16T07:58:35.706Z"
   },
   {
    "duration": 17145,
    "start_time": "2022-10-16T07:58:40.688Z"
   },
   {
    "duration": 12488,
    "start_time": "2022-10-16T07:58:57.835Z"
   },
   {
    "duration": 3149,
    "start_time": "2022-10-16T07:59:10.324Z"
   },
   {
    "duration": 3508,
    "start_time": "2022-10-16T07:59:13.474Z"
   },
   {
    "duration": 201,
    "start_time": "2022-10-16T08:02:34.361Z"
   },
   {
    "duration": 2008,
    "start_time": "2022-10-16T08:02:45.668Z"
   },
   {
    "duration": 3283,
    "start_time": "2022-10-16T08:17:29.103Z"
   },
   {
    "duration": 99,
    "start_time": "2022-10-16T08:19:30.261Z"
   },
   {
    "duration": 1338,
    "start_time": "2022-10-16T08:19:36.846Z"
   },
   {
    "duration": 89,
    "start_time": "2022-10-16T08:24:44.325Z"
   },
   {
    "duration": 1470,
    "start_time": "2022-10-16T08:31:19.106Z"
   },
   {
    "duration": 4,
    "start_time": "2022-10-16T08:31:20.579Z"
   },
   {
    "duration": 5687,
    "start_time": "2022-10-16T08:31:20.586Z"
   },
   {
    "duration": 16258,
    "start_time": "2022-10-16T08:31:26.275Z"
   },
   {
    "duration": 11934,
    "start_time": "2022-10-16T08:31:42.534Z"
   },
   {
    "duration": 3161,
    "start_time": "2022-10-16T08:31:54.469Z"
   },
   {
    "duration": 3457,
    "start_time": "2022-10-16T08:31:57.631Z"
   },
   {
    "duration": 350,
    "start_time": "2022-10-16T08:32:01.091Z"
   },
   {
    "duration": 180,
    "start_time": "2022-10-16T08:32:01.445Z"
   },
   {
    "duration": 1092,
    "start_time": "2022-10-16T08:32:01.626Z"
   },
   {
    "duration": 201,
    "start_time": "2022-10-16T08:32:02.720Z"
   },
   {
    "duration": 459,
    "start_time": "2022-10-16T08:32:02.922Z"
   },
   {
    "duration": 28973,
    "start_time": "2022-10-16T08:32:03.383Z"
   },
   {
    "duration": 356,
    "start_time": "2022-10-16T08:32:32.357Z"
   },
   {
    "duration": 421,
    "start_time": "2022-10-16T08:32:32.715Z"
   },
   {
    "duration": 165,
    "start_time": "2022-10-16T08:32:33.138Z"
   },
   {
    "duration": 618591,
    "start_time": "2022-10-16T08:32:33.305Z"
   },
   {
    "duration": 380,
    "start_time": "2022-10-16T08:42:51.898Z"
   },
   {
    "duration": 123,
    "start_time": "2022-10-16T08:42:52.280Z"
   },
   {
    "duration": 4,
    "start_time": "2022-10-16T08:42:52.405Z"
   },
   {
    "duration": 29,
    "start_time": "2022-10-16T08:42:52.411Z"
   },
   {
    "duration": 314,
    "start_time": "2022-10-16T08:42:52.442Z"
   },
   {
    "duration": 46,
    "start_time": "2022-10-16T08:42:52.757Z"
   },
   {
    "duration": 30,
    "start_time": "2022-10-16T08:42:52.805Z"
   },
   {
    "duration": 50,
    "start_time": "2022-10-16T08:42:52.837Z"
   },
   {
    "duration": 118,
    "start_time": "2022-10-16T08:42:52.889Z"
   },
   {
    "duration": 78,
    "start_time": "2022-10-16T08:42:53.011Z"
   },
   {
    "duration": 70,
    "start_time": "2022-10-16T08:42:53.090Z"
   },
   {
    "duration": 41,
    "start_time": "2022-10-16T08:42:53.162Z"
   },
   {
    "duration": 132,
    "start_time": "2022-10-16T08:42:53.204Z"
   },
   {
    "duration": 66,
    "start_time": "2022-10-16T08:42:53.338Z"
   },
   {
    "duration": 136,
    "start_time": "2022-10-16T08:42:53.406Z"
   },
   {
    "duration": 65,
    "start_time": "2022-10-16T08:42:53.544Z"
   },
   {
    "duration": 131,
    "start_time": "2022-10-16T08:42:53.611Z"
   },
   {
    "duration": 63,
    "start_time": "2022-10-16T08:42:53.743Z"
   },
   {
    "duration": 127,
    "start_time": "2022-10-16T08:42:53.808Z"
   },
   {
    "duration": 70,
    "start_time": "2022-10-16T08:42:53.936Z"
   },
   {
    "duration": 43,
    "start_time": "2022-10-16T08:42:54.008Z"
   },
   {
    "duration": 32,
    "start_time": "2022-10-16T08:42:54.053Z"
   },
   {
    "duration": 84,
    "start_time": "2022-10-16T08:42:54.087Z"
   },
   {
    "duration": 22,
    "start_time": "2022-10-16T08:42:54.173Z"
   },
   {
    "duration": 109,
    "start_time": "2022-10-16T08:42:54.197Z"
   },
   {
    "duration": 14,
    "start_time": "2022-10-16T08:42:54.308Z"
   },
   {
    "duration": 73,
    "start_time": "2022-10-16T08:42:54.333Z"
   },
   {
    "duration": 74,
    "start_time": "2022-10-16T08:42:54.407Z"
   },
   {
    "duration": 24,
    "start_time": "2022-10-16T08:42:54.482Z"
   },
   {
    "duration": 56,
    "start_time": "2022-10-16T08:42:54.508Z"
   },
   {
    "duration": 17,
    "start_time": "2022-10-16T08:42:54.566Z"
   },
   {
    "duration": 5,
    "start_time": "2022-10-16T08:42:54.585Z"
   },
   {
    "duration": 116,
    "start_time": "2022-10-16T08:42:54.592Z"
   },
   {
    "duration": 124,
    "start_time": "2022-10-16T08:42:54.710Z"
   },
   {
    "duration": 2,
    "start_time": "2022-10-16T08:42:54.836Z"
   },
   {
    "duration": 705,
    "start_time": "2022-10-16T08:42:54.840Z"
   },
   {
    "duration": 1376,
    "start_time": "2022-10-16T08:42:55.547Z"
   },
   {
    "duration": 70448,
    "start_time": "2022-10-16T08:42:56.925Z"
   },
   {
    "duration": 24,
    "start_time": "2022-10-16T08:44:07.375Z"
   },
   {
    "duration": 423197,
    "start_time": "2022-10-16T08:44:07.400Z"
   },
   {
    "duration": 84,
    "start_time": "2022-10-16T08:51:10.599Z"
   },
   {
    "duration": 2848,
    "start_time": "2022-10-16T08:51:10.685Z"
   },
   {
    "duration": 37,
    "start_time": "2022-10-16T08:51:13.535Z"
   },
   {
    "duration": 12,
    "start_time": "2022-10-16T08:51:13.573Z"
   },
   {
    "duration": 276,
    "start_time": "2022-10-16T08:51:13.634Z"
   },
   {
    "duration": 6,
    "start_time": "2022-10-16T08:51:13.912Z"
   },
   {
    "duration": 205,
    "start_time": "2022-10-16T08:51:13.920Z"
   },
   {
    "duration": 271,
    "start_time": "2022-10-16T08:51:14.127Z"
   },
   {
    "duration": 198,
    "start_time": "2022-10-16T08:51:14.400Z"
   },
   {
    "duration": 10,
    "start_time": "2022-10-16T08:51:14.599Z"
   }
  ],
  "kernelspec": {
   "display_name": "Python 3 (ipykernel)",
   "language": "python",
   "name": "python3"
  },
  "language_info": {
   "codemirror_mode": {
    "name": "ipython",
    "version": 3
   },
   "file_extension": ".py",
   "mimetype": "text/x-python",
   "name": "python",
   "nbconvert_exporter": "python",
   "pygments_lexer": "ipython3",
   "version": "3.9.12"
  },
  "toc": {
   "base_numbering": 1,
   "nav_menu": {
    "height": "586px",
    "width": "1173px"
   },
   "number_sections": false,
   "sideBar": true,
   "skip_h1_title": false,
   "title_cell": "Table of Contents",
   "title_sidebar": "Contents",
   "toc_cell": false,
   "toc_position": {},
   "toc_section_display": true,
   "toc_window_display": false
  },
  "varInspector": {
   "cols": {
    "lenName": 16,
    "lenType": 16,
    "lenVar": 40
   },
   "kernels_config": {
    "python": {
     "delete_cmd_postfix": "",
     "delete_cmd_prefix": "del ",
     "library": "var_list.py",
     "varRefreshCmd": "print(var_dic_list())"
    },
    "r": {
     "delete_cmd_postfix": ") ",
     "delete_cmd_prefix": "rm(",
     "library": "var_list.r",
     "varRefreshCmd": "cat(var_dic_list()) "
    }
   },
   "types_to_exclude": [
    "module",
    "function",
    "builtin_function_or_method",
    "instance",
    "_Feature"
   ],
   "window_display": false
  }
 },
 "nbformat": 4,
 "nbformat_minor": 5
}
